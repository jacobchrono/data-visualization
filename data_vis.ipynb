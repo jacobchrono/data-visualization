{
 "cells": [
  {
   "cell_type": "code",
   "execution_count": 1,
   "metadata": {},
   "outputs": [
    {
     "data": {
      "text/html": [
       "<h2>Car Price vs Mileage Analysis</h2>"
      ],
      "text/plain": [
       "<IPython.core.display.HTML object>"
      ]
     },
     "metadata": {},
     "output_type": "display_data"
    },
    {
     "data": {
      "application/vnd.jupyter.widget-view+json": {
       "model_id": "3fb0893d1f05406784f470675ff6fb6e",
       "version_major": 2,
       "version_minor": 0
      },
      "text/plain": [
       "HTML(value='<h3>Instructions</h3><p>Select a car make and model from the dropdown menus to see a scatter plot …"
      ]
     },
     "metadata": {},
     "output_type": "display_data"
    },
    {
     "data": {
      "application/vnd.jupyter.widget-view+json": {
       "model_id": "e75222b8e58f4c2a8105bff6d5d505c6",
       "version_major": 2,
       "version_minor": 0
      },
      "text/plain": [
       "Dropdown(description='Make:', layout=Layout(width='50%'), options=('ford', 'jeep', 'toyota', 'chevrolet', 'cad…"
      ]
     },
     "metadata": {},
     "output_type": "display_data"
    },
    {
     "data": {
      "application/vnd.jupyter.widget-view+json": {
       "model_id": "c5ba26452f6f4674997509177834e72f",
       "version_major": 2,
       "version_minor": 0
      },
      "text/plain": [
       "Dropdown(description='Model:', layout=Layout(width='50%'), options=(), value=None)"
      ]
     },
     "metadata": {},
     "output_type": "display_data"
    },
    {
     "ename": "TraitError",
     "evalue": "Invalid selection: value not found",
     "output_type": "error",
     "traceback": [
      "\u001b[1;31m---------------------------------------------------------------------------\u001b[0m",
      "\u001b[1;31mStopIteration\u001b[0m                             Traceback (most recent call last)",
      "File \u001b[1;32mc:\\Users\\jakeq\\AppData\\Local\\Programs\\Python\\Python312\\Lib\\site-packages\\ipywidgets\\widgets\\widget_selection.py:133\u001b[0m, in \u001b[0;36mfindvalue\u001b[1;34m(array, value, compare)\u001b[0m\n\u001b[0;32m    132\u001b[0m \u001b[38;5;28;01mtry\u001b[39;00m:\n\u001b[1;32m--> 133\u001b[0m     \u001b[38;5;28;01mreturn\u001b[39;00m \u001b[38;5;28;43mnext\u001b[39;49m\u001b[43m(\u001b[49m\u001b[43mx\u001b[49m\u001b[43m \u001b[49m\u001b[38;5;28;43;01mfor\u001b[39;49;00m\u001b[43m \u001b[49m\u001b[43mx\u001b[49m\u001b[43m \u001b[49m\u001b[38;5;129;43;01min\u001b[39;49;00m\u001b[43m \u001b[49m\u001b[43marray\u001b[49m\u001b[43m \u001b[49m\u001b[38;5;28;43;01mif\u001b[39;49;00m\u001b[43m \u001b[49m\u001b[43mcompare\u001b[49m\u001b[43m(\u001b[49m\u001b[43mx\u001b[49m\u001b[43m,\u001b[49m\u001b[43m \u001b[49m\u001b[43mvalue\u001b[49m\u001b[43m)\u001b[49m\u001b[43m)\u001b[49m\n\u001b[0;32m    134\u001b[0m \u001b[38;5;28;01mexcept\u001b[39;00m \u001b[38;5;167;01mStopIteration\u001b[39;00m:\n",
      "\u001b[1;31mStopIteration\u001b[0m: ",
      "\nDuring handling of the above exception, another exception occurred:\n",
      "\u001b[1;31mValueError\u001b[0m                                Traceback (most recent call last)",
      "File \u001b[1;32mc:\\Users\\jakeq\\AppData\\Local\\Programs\\Python\\Python312\\Lib\\site-packages\\ipywidgets\\widgets\\widget_selection.py:242\u001b[0m, in \u001b[0;36m_Selection._validate_value\u001b[1;34m(self, proposal)\u001b[0m\n\u001b[0;32m    241\u001b[0m \u001b[38;5;28;01mtry\u001b[39;00m:\n\u001b[1;32m--> 242\u001b[0m     \u001b[38;5;28;01mreturn\u001b[39;00m \u001b[43mfindvalue\u001b[49m\u001b[43m(\u001b[49m\u001b[38;5;28;43mself\u001b[39;49m\u001b[38;5;241;43m.\u001b[39;49m\u001b[43m_options_values\u001b[49m\u001b[43m,\u001b[49m\u001b[43m \u001b[49m\u001b[43mvalue\u001b[49m\u001b[43m,\u001b[49m\u001b[43m \u001b[49m\u001b[38;5;28;43mself\u001b[39;49m\u001b[38;5;241;43m.\u001b[39;49m\u001b[43mequals\u001b[49m\u001b[43m)\u001b[49m \u001b[38;5;28;01mif\u001b[39;00m value \u001b[38;5;129;01mis\u001b[39;00m \u001b[38;5;129;01mnot\u001b[39;00m \u001b[38;5;28;01mNone\u001b[39;00m \u001b[38;5;28;01melse\u001b[39;00m \u001b[38;5;28;01mNone\u001b[39;00m\n\u001b[0;32m    243\u001b[0m \u001b[38;5;28;01mexcept\u001b[39;00m \u001b[38;5;167;01mValueError\u001b[39;00m:\n",
      "File \u001b[1;32mc:\\Users\\jakeq\\AppData\\Local\\Programs\\Python\\Python312\\Lib\\site-packages\\ipywidgets\\widgets\\widget_selection.py:135\u001b[0m, in \u001b[0;36mfindvalue\u001b[1;34m(array, value, compare)\u001b[0m\n\u001b[0;32m    134\u001b[0m \u001b[38;5;28;01mexcept\u001b[39;00m \u001b[38;5;167;01mStopIteration\u001b[39;00m:\n\u001b[1;32m--> 135\u001b[0m     \u001b[38;5;28;01mraise\u001b[39;00m \u001b[38;5;167;01mValueError\u001b[39;00m(\u001b[38;5;124m'\u001b[39m\u001b[38;5;132;01m%r\u001b[39;00m\u001b[38;5;124m not in array\u001b[39m\u001b[38;5;124m'\u001b[39m\u001b[38;5;241m%\u001b[39mvalue)\n",
      "\u001b[1;31mValueError\u001b[0m: nan not in array",
      "\nDuring handling of the above exception, another exception occurred:\n",
      "\u001b[1;31mTraitError\u001b[0m                                Traceback (most recent call last)",
      "File \u001b[1;32mc:\\Users\\jakeq\\AppData\\Local\\Programs\\Python\\Python312\\Lib\\site-packages\\ipywidgets\\widgets\\widget.py:773\u001b[0m, in \u001b[0;36mWidget._handle_msg\u001b[1;34m(self, msg)\u001b[0m\n\u001b[0;32m    771\u001b[0m         \u001b[38;5;28;01mif\u001b[39;00m \u001b[38;5;124m'\u001b[39m\u001b[38;5;124mbuffer_paths\u001b[39m\u001b[38;5;124m'\u001b[39m \u001b[38;5;129;01min\u001b[39;00m data:\n\u001b[0;32m    772\u001b[0m             _put_buffers(state, data[\u001b[38;5;124m'\u001b[39m\u001b[38;5;124mbuffer_paths\u001b[39m\u001b[38;5;124m'\u001b[39m], msg[\u001b[38;5;124m'\u001b[39m\u001b[38;5;124mbuffers\u001b[39m\u001b[38;5;124m'\u001b[39m])\n\u001b[1;32m--> 773\u001b[0m         \u001b[38;5;28;43mself\u001b[39;49m\u001b[38;5;241;43m.\u001b[39;49m\u001b[43mset_state\u001b[49m\u001b[43m(\u001b[49m\u001b[43mstate\u001b[49m\u001b[43m)\u001b[49m\n\u001b[0;32m    775\u001b[0m \u001b[38;5;66;03m# Handle a state request.\u001b[39;00m\n\u001b[0;32m    776\u001b[0m \u001b[38;5;28;01melif\u001b[39;00m method \u001b[38;5;241m==\u001b[39m \u001b[38;5;124m'\u001b[39m\u001b[38;5;124mrequest_state\u001b[39m\u001b[38;5;124m'\u001b[39m:\n",
      "File \u001b[1;32mc:\\Users\\jakeq\\AppData\\Local\\Programs\\Python\\Python312\\Lib\\site-packages\\ipywidgets\\widgets\\widget.py:650\u001b[0m, in \u001b[0;36mWidget.set_state\u001b[1;34m(self, sync_data)\u001b[0m\n\u001b[0;32m    645\u001b[0m         \u001b[38;5;28mself\u001b[39m\u001b[38;5;241m.\u001b[39m_send(msg, buffers\u001b[38;5;241m=\u001b[39mecho_buffers)\n\u001b[0;32m    647\u001b[0m \u001b[38;5;66;03m# The order of these context managers is important. Properties must\u001b[39;00m\n\u001b[0;32m    648\u001b[0m \u001b[38;5;66;03m# be locked when the hold_trait_notification context manager is\u001b[39;00m\n\u001b[0;32m    649\u001b[0m \u001b[38;5;66;03m# released and notifications are fired.\u001b[39;00m\n\u001b[1;32m--> 650\u001b[0m \u001b[43m\u001b[49m\u001b[38;5;28;43;01mwith\u001b[39;49;00m\u001b[43m \u001b[49m\u001b[38;5;28;43mself\u001b[39;49m\u001b[38;5;241;43m.\u001b[39;49m\u001b[43m_lock_property\u001b[49m\u001b[43m(\u001b[49m\u001b[38;5;241;43m*\u001b[39;49m\u001b[38;5;241;43m*\u001b[39;49m\u001b[43msync_data\u001b[49m\u001b[43m)\u001b[49m\u001b[43m,\u001b[49m\u001b[43m \u001b[49m\u001b[38;5;28;43mself\u001b[39;49m\u001b[38;5;241;43m.\u001b[39;49m\u001b[43mhold_trait_notifications\u001b[49m\u001b[43m(\u001b[49m\u001b[43m)\u001b[49m\u001b[43m:\u001b[49m\n\u001b[0;32m    651\u001b[0m \u001b[43m    \u001b[49m\u001b[38;5;28;43;01mfor\u001b[39;49;00m\u001b[43m \u001b[49m\u001b[43mname\u001b[49m\u001b[43m \u001b[49m\u001b[38;5;129;43;01min\u001b[39;49;00m\u001b[43m \u001b[49m\u001b[43msync_data\u001b[49m\u001b[43m:\u001b[49m\n\u001b[0;32m    652\u001b[0m \u001b[43m        \u001b[49m\u001b[38;5;28;43;01mif\u001b[39;49;00m\u001b[43m \u001b[49m\u001b[43mname\u001b[49m\u001b[43m \u001b[49m\u001b[38;5;129;43;01min\u001b[39;49;00m\u001b[43m \u001b[49m\u001b[38;5;28;43mself\u001b[39;49m\u001b[38;5;241;43m.\u001b[39;49m\u001b[43mkeys\u001b[49m\u001b[43m:\u001b[49m\n",
      "File \u001b[1;32mc:\\Users\\jakeq\\AppData\\Local\\Programs\\Python\\Python312\\Lib\\contextlib.py:144\u001b[0m, in \u001b[0;36m_GeneratorContextManager.__exit__\u001b[1;34m(self, typ, value, traceback)\u001b[0m\n\u001b[0;32m    142\u001b[0m \u001b[38;5;28;01mif\u001b[39;00m typ \u001b[38;5;129;01mis\u001b[39;00m \u001b[38;5;28;01mNone\u001b[39;00m:\n\u001b[0;32m    143\u001b[0m     \u001b[38;5;28;01mtry\u001b[39;00m:\n\u001b[1;32m--> 144\u001b[0m         \u001b[38;5;28;43mnext\u001b[39;49m\u001b[43m(\u001b[49m\u001b[38;5;28;43mself\u001b[39;49m\u001b[38;5;241;43m.\u001b[39;49m\u001b[43mgen\u001b[49m\u001b[43m)\u001b[49m\n\u001b[0;32m    145\u001b[0m     \u001b[38;5;28;01mexcept\u001b[39;00m \u001b[38;5;167;01mStopIteration\u001b[39;00m:\n\u001b[0;32m    146\u001b[0m         \u001b[38;5;28;01mreturn\u001b[39;00m \u001b[38;5;28;01mFalse\u001b[39;00m\n",
      "File \u001b[1;32m~\\AppData\\Roaming\\Python\\Python312\\site-packages\\traitlets\\traitlets.py:1510\u001b[0m, in \u001b[0;36mHasTraits.hold_trait_notifications\u001b[1;34m(self)\u001b[0m\n\u001b[0;32m   1508\u001b[0m \u001b[38;5;28;01mfor\u001b[39;00m changes \u001b[38;5;129;01min\u001b[39;00m cache\u001b[38;5;241m.\u001b[39mvalues():\n\u001b[0;32m   1509\u001b[0m     \u001b[38;5;28;01mfor\u001b[39;00m change \u001b[38;5;129;01min\u001b[39;00m changes:\n\u001b[1;32m-> 1510\u001b[0m         \u001b[38;5;28;43mself\u001b[39;49m\u001b[38;5;241;43m.\u001b[39;49m\u001b[43mnotify_change\u001b[49m\u001b[43m(\u001b[49m\u001b[43mchange\u001b[49m\u001b[43m)\u001b[49m\n",
      "File \u001b[1;32mc:\\Users\\jakeq\\AppData\\Local\\Programs\\Python\\Python312\\Lib\\site-packages\\ipywidgets\\widgets\\widget.py:701\u001b[0m, in \u001b[0;36mWidget.notify_change\u001b[1;34m(self, change)\u001b[0m\n\u001b[0;32m    698\u001b[0m     \u001b[38;5;28;01mif\u001b[39;00m name \u001b[38;5;129;01min\u001b[39;00m \u001b[38;5;28mself\u001b[39m\u001b[38;5;241m.\u001b[39mkeys \u001b[38;5;129;01mand\u001b[39;00m \u001b[38;5;28mself\u001b[39m\u001b[38;5;241m.\u001b[39m_should_send_property(name, \u001b[38;5;28mgetattr\u001b[39m(\u001b[38;5;28mself\u001b[39m, name)):\n\u001b[0;32m    699\u001b[0m         \u001b[38;5;66;03m# Send new state to front-end\u001b[39;00m\n\u001b[0;32m    700\u001b[0m         \u001b[38;5;28mself\u001b[39m\u001b[38;5;241m.\u001b[39msend_state(key\u001b[38;5;241m=\u001b[39mname)\n\u001b[1;32m--> 701\u001b[0m \u001b[38;5;28;43msuper\u001b[39;49m\u001b[43m(\u001b[49m\u001b[43m)\u001b[49m\u001b[38;5;241;43m.\u001b[39;49m\u001b[43mnotify_change\u001b[49m\u001b[43m(\u001b[49m\u001b[43mchange\u001b[49m\u001b[43m)\u001b[49m\n",
      "File \u001b[1;32m~\\AppData\\Roaming\\Python\\Python312\\site-packages\\traitlets\\traitlets.py:1525\u001b[0m, in \u001b[0;36mHasTraits.notify_change\u001b[1;34m(self, change)\u001b[0m\n\u001b[0;32m   1523\u001b[0m \u001b[38;5;28;01mdef\u001b[39;00m \u001b[38;5;21mnotify_change\u001b[39m(\u001b[38;5;28mself\u001b[39m, change: Bunch) \u001b[38;5;241m-\u001b[39m\u001b[38;5;241m>\u001b[39m \u001b[38;5;28;01mNone\u001b[39;00m:\n\u001b[0;32m   1524\u001b[0m \u001b[38;5;250m    \u001b[39m\u001b[38;5;124;03m\"\"\"Notify observers of a change event\"\"\"\u001b[39;00m\n\u001b[1;32m-> 1525\u001b[0m     \u001b[38;5;28;01mreturn\u001b[39;00m \u001b[38;5;28;43mself\u001b[39;49m\u001b[38;5;241;43m.\u001b[39;49m\u001b[43m_notify_observers\u001b[49m\u001b[43m(\u001b[49m\u001b[43mchange\u001b[49m\u001b[43m)\u001b[49m\n",
      "File \u001b[1;32m~\\AppData\\Roaming\\Python\\Python312\\site-packages\\traitlets\\traitlets.py:1568\u001b[0m, in \u001b[0;36mHasTraits._notify_observers\u001b[1;34m(self, event)\u001b[0m\n\u001b[0;32m   1565\u001b[0m \u001b[38;5;28;01melif\u001b[39;00m \u001b[38;5;28misinstance\u001b[39m(c, EventHandler) \u001b[38;5;129;01mand\u001b[39;00m c\u001b[38;5;241m.\u001b[39mname \u001b[38;5;129;01mis\u001b[39;00m \u001b[38;5;129;01mnot\u001b[39;00m \u001b[38;5;28;01mNone\u001b[39;00m:\n\u001b[0;32m   1566\u001b[0m     c \u001b[38;5;241m=\u001b[39m \u001b[38;5;28mgetattr\u001b[39m(\u001b[38;5;28mself\u001b[39m, c\u001b[38;5;241m.\u001b[39mname)\n\u001b[1;32m-> 1568\u001b[0m \u001b[43mc\u001b[49m\u001b[43m(\u001b[49m\u001b[43mevent\u001b[49m\u001b[43m)\u001b[49m\n",
      "File \u001b[1;32mc:\\Users\\jakeq\\AppData\\Local\\Programs\\Python\\Python312\\Lib\\site-packages\\ipywidgets\\widgets\\widget_selection.py:236\u001b[0m, in \u001b[0;36m_Selection._propagate_index\u001b[1;34m(self, change)\u001b[0m\n\u001b[0;32m    234\u001b[0m     \u001b[38;5;28mself\u001b[39m\u001b[38;5;241m.\u001b[39mlabel \u001b[38;5;241m=\u001b[39m label\n\u001b[0;32m    235\u001b[0m \u001b[38;5;28;01mif\u001b[39;00m \u001b[38;5;28mself\u001b[39m\u001b[38;5;241m.\u001b[39mvalue \u001b[38;5;129;01mis\u001b[39;00m \u001b[38;5;129;01mnot\u001b[39;00m value:\n\u001b[1;32m--> 236\u001b[0m     \u001b[38;5;28;43mself\u001b[39;49m\u001b[38;5;241;43m.\u001b[39;49m\u001b[43mvalue\u001b[49m \u001b[38;5;241m=\u001b[39m value\n",
      "File \u001b[1;32m~\\AppData\\Roaming\\Python\\Python312\\site-packages\\traitlets\\traitlets.py:716\u001b[0m, in \u001b[0;36mTraitType.__set__\u001b[1;34m(self, obj, value)\u001b[0m\n\u001b[0;32m    714\u001b[0m \u001b[38;5;28;01mif\u001b[39;00m \u001b[38;5;28mself\u001b[39m\u001b[38;5;241m.\u001b[39mread_only:\n\u001b[0;32m    715\u001b[0m     \u001b[38;5;28;01mraise\u001b[39;00m TraitError(\u001b[38;5;124m'\u001b[39m\u001b[38;5;124mThe \u001b[39m\u001b[38;5;124m\"\u001b[39m\u001b[38;5;132;01m%s\u001b[39;00m\u001b[38;5;124m\"\u001b[39m\u001b[38;5;124m trait is read-only.\u001b[39m\u001b[38;5;124m'\u001b[39m \u001b[38;5;241m%\u001b[39m \u001b[38;5;28mself\u001b[39m\u001b[38;5;241m.\u001b[39mname)\n\u001b[1;32m--> 716\u001b[0m \u001b[38;5;28;43mself\u001b[39;49m\u001b[38;5;241;43m.\u001b[39;49m\u001b[43mset\u001b[49m\u001b[43m(\u001b[49m\u001b[43mobj\u001b[49m\u001b[43m,\u001b[49m\u001b[43m \u001b[49m\u001b[43mvalue\u001b[49m\u001b[43m)\u001b[49m\n",
      "File \u001b[1;32m~\\AppData\\Roaming\\Python\\Python312\\site-packages\\traitlets\\traitlets.py:690\u001b[0m, in \u001b[0;36mTraitType.set\u001b[1;34m(self, obj, value)\u001b[0m\n\u001b[0;32m    689\u001b[0m \u001b[38;5;28;01mdef\u001b[39;00m \u001b[38;5;21mset\u001b[39m(\u001b[38;5;28mself\u001b[39m, obj: HasTraits, value: S) \u001b[38;5;241m-\u001b[39m\u001b[38;5;241m>\u001b[39m \u001b[38;5;28;01mNone\u001b[39;00m:\n\u001b[1;32m--> 690\u001b[0m     new_value \u001b[38;5;241m=\u001b[39m \u001b[38;5;28;43mself\u001b[39;49m\u001b[38;5;241;43m.\u001b[39;49m\u001b[43m_validate\u001b[49m\u001b[43m(\u001b[49m\u001b[43mobj\u001b[49m\u001b[43m,\u001b[49m\u001b[43m \u001b[49m\u001b[43mvalue\u001b[49m\u001b[43m)\u001b[49m\n\u001b[0;32m    691\u001b[0m     \u001b[38;5;28;01massert\u001b[39;00m \u001b[38;5;28mself\u001b[39m\u001b[38;5;241m.\u001b[39mname \u001b[38;5;129;01mis\u001b[39;00m \u001b[38;5;129;01mnot\u001b[39;00m \u001b[38;5;28;01mNone\u001b[39;00m\n\u001b[0;32m    692\u001b[0m     \u001b[38;5;28;01mtry\u001b[39;00m:\n",
      "File \u001b[1;32m~\\AppData\\Roaming\\Python\\Python312\\site-packages\\traitlets\\traitlets.py:724\u001b[0m, in \u001b[0;36mTraitType._validate\u001b[1;34m(self, obj, value)\u001b[0m\n\u001b[0;32m    722\u001b[0m     value \u001b[38;5;241m=\u001b[39m \u001b[38;5;28mself\u001b[39m\u001b[38;5;241m.\u001b[39mvalidate(obj, value)\n\u001b[0;32m    723\u001b[0m \u001b[38;5;28;01mif\u001b[39;00m obj\u001b[38;5;241m.\u001b[39m_cross_validation_lock \u001b[38;5;129;01mis\u001b[39;00m \u001b[38;5;28;01mFalse\u001b[39;00m:\n\u001b[1;32m--> 724\u001b[0m     value \u001b[38;5;241m=\u001b[39m \u001b[38;5;28;43mself\u001b[39;49m\u001b[38;5;241;43m.\u001b[39;49m\u001b[43m_cross_validate\u001b[49m\u001b[43m(\u001b[49m\u001b[43mobj\u001b[49m\u001b[43m,\u001b[49m\u001b[43m \u001b[49m\u001b[43mvalue\u001b[49m\u001b[43m)\u001b[49m\n\u001b[0;32m    725\u001b[0m \u001b[38;5;28;01mreturn\u001b[39;00m t\u001b[38;5;241m.\u001b[39mcast(G, value)\n",
      "File \u001b[1;32m~\\AppData\\Roaming\\Python\\Python312\\site-packages\\traitlets\\traitlets.py:730\u001b[0m, in \u001b[0;36mTraitType._cross_validate\u001b[1;34m(self, obj, value)\u001b[0m\n\u001b[0;32m    728\u001b[0m \u001b[38;5;28;01mif\u001b[39;00m \u001b[38;5;28mself\u001b[39m\u001b[38;5;241m.\u001b[39mname \u001b[38;5;129;01min\u001b[39;00m obj\u001b[38;5;241m.\u001b[39m_trait_validators:\n\u001b[0;32m    729\u001b[0m     proposal \u001b[38;5;241m=\u001b[39m Bunch({\u001b[38;5;124m\"\u001b[39m\u001b[38;5;124mtrait\u001b[39m\u001b[38;5;124m\"\u001b[39m: \u001b[38;5;28mself\u001b[39m, \u001b[38;5;124m\"\u001b[39m\u001b[38;5;124mvalue\u001b[39m\u001b[38;5;124m\"\u001b[39m: value, \u001b[38;5;124m\"\u001b[39m\u001b[38;5;124mowner\u001b[39m\u001b[38;5;124m\"\u001b[39m: obj})\n\u001b[1;32m--> 730\u001b[0m     value \u001b[38;5;241m=\u001b[39m \u001b[43mobj\u001b[49m\u001b[38;5;241;43m.\u001b[39;49m\u001b[43m_trait_validators\u001b[49m\u001b[43m[\u001b[49m\u001b[38;5;28;43mself\u001b[39;49m\u001b[38;5;241;43m.\u001b[39;49m\u001b[43mname\u001b[49m\u001b[43m]\u001b[49m\u001b[43m(\u001b[49m\u001b[43mobj\u001b[49m\u001b[43m,\u001b[49m\u001b[43m \u001b[49m\u001b[43mproposal\u001b[49m\u001b[43m)\u001b[49m\n\u001b[0;32m    731\u001b[0m \u001b[38;5;28;01melif\u001b[39;00m \u001b[38;5;28mhasattr\u001b[39m(obj, \u001b[38;5;124m\"\u001b[39m\u001b[38;5;124m_\u001b[39m\u001b[38;5;132;01m%s\u001b[39;00m\u001b[38;5;124m_validate\u001b[39m\u001b[38;5;124m\"\u001b[39m \u001b[38;5;241m%\u001b[39m \u001b[38;5;28mself\u001b[39m\u001b[38;5;241m.\u001b[39mname):\n\u001b[0;32m    732\u001b[0m     meth_name \u001b[38;5;241m=\u001b[39m \u001b[38;5;124m\"\u001b[39m\u001b[38;5;124m_\u001b[39m\u001b[38;5;132;01m%s\u001b[39;00m\u001b[38;5;124m_validate\u001b[39m\u001b[38;5;124m\"\u001b[39m \u001b[38;5;241m%\u001b[39m \u001b[38;5;28mself\u001b[39m\u001b[38;5;241m.\u001b[39mname\n",
      "File \u001b[1;32m~\\AppData\\Roaming\\Python\\Python312\\site-packages\\traitlets\\traitlets.py:1241\u001b[0m, in \u001b[0;36mEventHandler.__call__\u001b[1;34m(self, *args, **kwargs)\u001b[0m\n\u001b[0;32m   1239\u001b[0m \u001b[38;5;250m\u001b[39m\u001b[38;5;124;03m\"\"\"Pass `*args` and `**kwargs` to the handler's function if it exists.\"\"\"\u001b[39;00m\n\u001b[0;32m   1240\u001b[0m \u001b[38;5;28;01mif\u001b[39;00m \u001b[38;5;28mhasattr\u001b[39m(\u001b[38;5;28mself\u001b[39m, \u001b[38;5;124m\"\u001b[39m\u001b[38;5;124mfunc\u001b[39m\u001b[38;5;124m\"\u001b[39m):\n\u001b[1;32m-> 1241\u001b[0m     \u001b[38;5;28;01mreturn\u001b[39;00m \u001b[38;5;28;43mself\u001b[39;49m\u001b[38;5;241;43m.\u001b[39;49m\u001b[43mfunc\u001b[49m\u001b[43m(\u001b[49m\u001b[38;5;241;43m*\u001b[39;49m\u001b[43margs\u001b[49m\u001b[43m,\u001b[49m\u001b[43m \u001b[49m\u001b[38;5;241;43m*\u001b[39;49m\u001b[38;5;241;43m*\u001b[39;49m\u001b[43mkwargs\u001b[49m\u001b[43m)\u001b[49m\n\u001b[0;32m   1242\u001b[0m \u001b[38;5;28;01melse\u001b[39;00m:\n\u001b[0;32m   1243\u001b[0m     \u001b[38;5;28;01mreturn\u001b[39;00m \u001b[38;5;28mself\u001b[39m\u001b[38;5;241m.\u001b[39m_init_call(\u001b[38;5;241m*\u001b[39margs, \u001b[38;5;241m*\u001b[39m\u001b[38;5;241m*\u001b[39mkwargs)\n",
      "File \u001b[1;32mc:\\Users\\jakeq\\AppData\\Local\\Programs\\Python\\Python312\\Lib\\site-packages\\ipywidgets\\widgets\\widget_selection.py:244\u001b[0m, in \u001b[0;36m_Selection._validate_value\u001b[1;34m(self, proposal)\u001b[0m\n\u001b[0;32m    242\u001b[0m     \u001b[38;5;28;01mreturn\u001b[39;00m findvalue(\u001b[38;5;28mself\u001b[39m\u001b[38;5;241m.\u001b[39m_options_values, value, \u001b[38;5;28mself\u001b[39m\u001b[38;5;241m.\u001b[39mequals) \u001b[38;5;28;01mif\u001b[39;00m value \u001b[38;5;129;01mis\u001b[39;00m \u001b[38;5;129;01mnot\u001b[39;00m \u001b[38;5;28;01mNone\u001b[39;00m \u001b[38;5;28;01melse\u001b[39;00m \u001b[38;5;28;01mNone\u001b[39;00m\n\u001b[0;32m    243\u001b[0m \u001b[38;5;28;01mexcept\u001b[39;00m \u001b[38;5;167;01mValueError\u001b[39;00m:\n\u001b[1;32m--> 244\u001b[0m     \u001b[38;5;28;01mraise\u001b[39;00m TraitError(\u001b[38;5;124m'\u001b[39m\u001b[38;5;124mInvalid selection: value not found\u001b[39m\u001b[38;5;124m'\u001b[39m)\n",
      "\u001b[1;31mTraitError\u001b[0m: Invalid selection: value not found"
     ]
    },
    {
     "data": {
      "application/vnd.plotly.v1+json": {
       "config": {
        "plotlyServerURL": "https://plot.ly"
       },
       "data": [
        {
         "hovertemplate": "odometer=%{x}<br>price=%{y}<extra></extra>",
         "legendgroup": "",
         "marker": {
          "color": "#636efa",
          "symbol": "circle"
         },
         "mode": "markers",
         "name": "",
         "orientation": "v",
         "showlegend": false,
         "type": "scatter",
         "x": [
          100000,
          126000,
          200000,
          33950,
          100000,
          162500,
          136000,
          176000,
          143168,
          91429,
          130000,
          104832,
          100000,
          110238,
          110238,
          145000,
          65000,
          112000,
          100000,
          100000,
          136000,
          106000,
          200000,
          100000,
          189000,
          110238,
          174233,
          136000,
          114537,
          76000,
          46806,
          143000,
          72941,
          149000,
          33950,
          136000,
          189000,
          136000,
          130000,
          154601,
          114317,
          109000,
          88000,
          77700,
          91429,
          43586,
          33950,
          33950,
          75000,
          174233,
          104832,
          100000,
          100000,
          100000,
          100000,
          100000,
          100000,
          100000,
          101600,
          76529,
          130000,
          62000,
          65000,
          33950,
          165000
         ],
         "xaxis": "x",
         "y": [
          9500,
          6300,
          4000,
          23995,
          10500,
          3500,
          5900,
          7000,
          9400,
          11000,
          10400,
          5900,
          10000,
          8500,
          8500,
          4500,
          35000,
          4000,
          9000,
          3000,
          4900,
          6900,
          3500,
          10000,
          5999,
          7900,
          4900,
          5900,
          12500,
          20500,
          21000,
          9500,
          11700,
          4800,
          24500,
          4900,
          5999,
          4900,
          5500,
          5900,
          2200,
          16500,
          7500,
          15400,
          11000,
          19998,
          23995,
          23995,
          24500,
          5500,
          6500,
          10500,
          10500,
          10500,
          10500,
          10500,
          10500,
          10500,
          3870,
          7000,
          5500,
          15500,
          34000,
          24500,
          7500
         ],
         "yaxis": "y"
        },
        {
         "hovertemplate": "<b>OLS trendline</b><br>price = -0.131604 * odometer + 25266.2<br>R<sup>2</sup>=0.545165<br><br>odometer=%{x}<br>price=%{y} <b>(trend)</b><extra></extra>",
         "legendgroup": "",
         "marker": {
          "color": "#636efa",
          "symbol": "circle"
         },
         "mode": "lines",
         "name": "",
         "showlegend": false,
         "type": "scatter",
         "x": [
          33950,
          33950,
          33950,
          33950,
          33950,
          43586,
          46806,
          62000,
          65000,
          65000,
          72941,
          75000,
          76000,
          76529,
          77700,
          88000,
          91429,
          91429,
          100000,
          100000,
          100000,
          100000,
          100000,
          100000,
          100000,
          100000,
          100000,
          100000,
          100000,
          100000,
          100000,
          101600,
          104832,
          104832,
          106000,
          109000,
          110238,
          110238,
          110238,
          112000,
          114317,
          114537,
          126000,
          130000,
          130000,
          130000,
          136000,
          136000,
          136000,
          136000,
          136000,
          143000,
          143168,
          145000,
          149000,
          154601,
          162500,
          165000,
          174233,
          174233,
          176000,
          189000,
          189000,
          200000,
          200000
         ],
         "xaxis": "x",
         "y": [
          20798.216461542168,
          20798.216461542168,
          20798.216461542168,
          20798.216461542168,
          20798.216461542168,
          19530.079989041373,
          19106.314999268376,
          17106.72330528985,
          16711.911203016873,
          16711.911203016873,
          15666.843568300306,
          15395.870862106953,
          15264.266828015961,
          15194.648293981827,
          15040.539970061276,
          13685.018418924059,
          13233.748186026049,
          13233.748186026049,
          12105.770009832157,
          12105.770009832157,
          12105.770009832157,
          12105.770009832157,
          12105.770009832157,
          12105.770009832157,
          12105.770009832157,
          12105.770009832157,
          12105.770009832157,
          12105.770009832157,
          12105.770009832157,
          12105.770009832157,
          12105.770009832157,
          11895.20355528657,
          11469.859317104485,
          11469.859317104485,
          11316.145805286205,
          10921.33370301323,
          10758.407908808582,
          10758.407908808582,
          10758.407908808582,
          10526.521600740254,
          10221.595053751425,
          10192.642166251408,
          8684.065123466367,
          8157.648987102402,
          8157.648987102402,
          8157.648987102402,
          7368.024782556451,
          7368.024782556451,
          7368.024782556451,
          7368.024782556451,
          7368.024782556451,
          6446.796543919507,
          6424.6870661922185,
          6183.588475737524,
          5657.172339373556,
          4920.05814442991,
          3880.5178791451654,
          3551.5077939176845,
          2336.4077471555574,
          2336.4077471555574,
          2103.863418916775,
          393.0109757338796,
          393.0109757338796,
          -1054.6333992670297,
          -1054.6333992670297
         ],
         "yaxis": "y"
        },
        {
         "mode": "text",
         "showlegend": false,
         "text": [
          "R<sup>2</sup>: 0.55<br>Observations: 65"
         ],
         "type": "scatter",
         "x": [
          200000
         ],
         "y": [
          2200
         ]
        }
       ],
       "layout": {
        "legend": {
         "tracegroupgap": 0
        },
        "margin": {
         "b": 0,
         "l": 0,
         "r": 0,
         "t": 30
        },
        "paper_bgcolor": "white",
        "plot_bgcolor": "white",
        "showlegend": false,
        "template": {
         "data": {
          "bar": [
           {
            "error_x": {
             "color": "#2a3f5f"
            },
            "error_y": {
             "color": "#2a3f5f"
            },
            "marker": {
             "line": {
              "color": "#E5ECF6",
              "width": 0.5
             },
             "pattern": {
              "fillmode": "overlay",
              "size": 10,
              "solidity": 0.2
             }
            },
            "type": "bar"
           }
          ],
          "barpolar": [
           {
            "marker": {
             "line": {
              "color": "#E5ECF6",
              "width": 0.5
             },
             "pattern": {
              "fillmode": "overlay",
              "size": 10,
              "solidity": 0.2
             }
            },
            "type": "barpolar"
           }
          ],
          "carpet": [
           {
            "aaxis": {
             "endlinecolor": "#2a3f5f",
             "gridcolor": "white",
             "linecolor": "white",
             "minorgridcolor": "white",
             "startlinecolor": "#2a3f5f"
            },
            "baxis": {
             "endlinecolor": "#2a3f5f",
             "gridcolor": "white",
             "linecolor": "white",
             "minorgridcolor": "white",
             "startlinecolor": "#2a3f5f"
            },
            "type": "carpet"
           }
          ],
          "choropleth": [
           {
            "colorbar": {
             "outlinewidth": 0,
             "ticks": ""
            },
            "type": "choropleth"
           }
          ],
          "contour": [
           {
            "colorbar": {
             "outlinewidth": 0,
             "ticks": ""
            },
            "colorscale": [
             [
              0,
              "#0d0887"
             ],
             [
              0.1111111111111111,
              "#46039f"
             ],
             [
              0.2222222222222222,
              "#7201a8"
             ],
             [
              0.3333333333333333,
              "#9c179e"
             ],
             [
              0.4444444444444444,
              "#bd3786"
             ],
             [
              0.5555555555555556,
              "#d8576b"
             ],
             [
              0.6666666666666666,
              "#ed7953"
             ],
             [
              0.7777777777777778,
              "#fb9f3a"
             ],
             [
              0.8888888888888888,
              "#fdca26"
             ],
             [
              1,
              "#f0f921"
             ]
            ],
            "type": "contour"
           }
          ],
          "contourcarpet": [
           {
            "colorbar": {
             "outlinewidth": 0,
             "ticks": ""
            },
            "type": "contourcarpet"
           }
          ],
          "heatmap": [
           {
            "colorbar": {
             "outlinewidth": 0,
             "ticks": ""
            },
            "colorscale": [
             [
              0,
              "#0d0887"
             ],
             [
              0.1111111111111111,
              "#46039f"
             ],
             [
              0.2222222222222222,
              "#7201a8"
             ],
             [
              0.3333333333333333,
              "#9c179e"
             ],
             [
              0.4444444444444444,
              "#bd3786"
             ],
             [
              0.5555555555555556,
              "#d8576b"
             ],
             [
              0.6666666666666666,
              "#ed7953"
             ],
             [
              0.7777777777777778,
              "#fb9f3a"
             ],
             [
              0.8888888888888888,
              "#fdca26"
             ],
             [
              1,
              "#f0f921"
             ]
            ],
            "type": "heatmap"
           }
          ],
          "heatmapgl": [
           {
            "colorbar": {
             "outlinewidth": 0,
             "ticks": ""
            },
            "colorscale": [
             [
              0,
              "#0d0887"
             ],
             [
              0.1111111111111111,
              "#46039f"
             ],
             [
              0.2222222222222222,
              "#7201a8"
             ],
             [
              0.3333333333333333,
              "#9c179e"
             ],
             [
              0.4444444444444444,
              "#bd3786"
             ],
             [
              0.5555555555555556,
              "#d8576b"
             ],
             [
              0.6666666666666666,
              "#ed7953"
             ],
             [
              0.7777777777777778,
              "#fb9f3a"
             ],
             [
              0.8888888888888888,
              "#fdca26"
             ],
             [
              1,
              "#f0f921"
             ]
            ],
            "type": "heatmapgl"
           }
          ],
          "histogram": [
           {
            "marker": {
             "pattern": {
              "fillmode": "overlay",
              "size": 10,
              "solidity": 0.2
             }
            },
            "type": "histogram"
           }
          ],
          "histogram2d": [
           {
            "colorbar": {
             "outlinewidth": 0,
             "ticks": ""
            },
            "colorscale": [
             [
              0,
              "#0d0887"
             ],
             [
              0.1111111111111111,
              "#46039f"
             ],
             [
              0.2222222222222222,
              "#7201a8"
             ],
             [
              0.3333333333333333,
              "#9c179e"
             ],
             [
              0.4444444444444444,
              "#bd3786"
             ],
             [
              0.5555555555555556,
              "#d8576b"
             ],
             [
              0.6666666666666666,
              "#ed7953"
             ],
             [
              0.7777777777777778,
              "#fb9f3a"
             ],
             [
              0.8888888888888888,
              "#fdca26"
             ],
             [
              1,
              "#f0f921"
             ]
            ],
            "type": "histogram2d"
           }
          ],
          "histogram2dcontour": [
           {
            "colorbar": {
             "outlinewidth": 0,
             "ticks": ""
            },
            "colorscale": [
             [
              0,
              "#0d0887"
             ],
             [
              0.1111111111111111,
              "#46039f"
             ],
             [
              0.2222222222222222,
              "#7201a8"
             ],
             [
              0.3333333333333333,
              "#9c179e"
             ],
             [
              0.4444444444444444,
              "#bd3786"
             ],
             [
              0.5555555555555556,
              "#d8576b"
             ],
             [
              0.6666666666666666,
              "#ed7953"
             ],
             [
              0.7777777777777778,
              "#fb9f3a"
             ],
             [
              0.8888888888888888,
              "#fdca26"
             ],
             [
              1,
              "#f0f921"
             ]
            ],
            "type": "histogram2dcontour"
           }
          ],
          "mesh3d": [
           {
            "colorbar": {
             "outlinewidth": 0,
             "ticks": ""
            },
            "type": "mesh3d"
           }
          ],
          "parcoords": [
           {
            "line": {
             "colorbar": {
              "outlinewidth": 0,
              "ticks": ""
             }
            },
            "type": "parcoords"
           }
          ],
          "pie": [
           {
            "automargin": true,
            "type": "pie"
           }
          ],
          "scatter": [
           {
            "fillpattern": {
             "fillmode": "overlay",
             "size": 10,
             "solidity": 0.2
            },
            "type": "scatter"
           }
          ],
          "scatter3d": [
           {
            "line": {
             "colorbar": {
              "outlinewidth": 0,
              "ticks": ""
             }
            },
            "marker": {
             "colorbar": {
              "outlinewidth": 0,
              "ticks": ""
             }
            },
            "type": "scatter3d"
           }
          ],
          "scattercarpet": [
           {
            "marker": {
             "colorbar": {
              "outlinewidth": 0,
              "ticks": ""
             }
            },
            "type": "scattercarpet"
           }
          ],
          "scattergeo": [
           {
            "marker": {
             "colorbar": {
              "outlinewidth": 0,
              "ticks": ""
             }
            },
            "type": "scattergeo"
           }
          ],
          "scattergl": [
           {
            "marker": {
             "colorbar": {
              "outlinewidth": 0,
              "ticks": ""
             }
            },
            "type": "scattergl"
           }
          ],
          "scattermapbox": [
           {
            "marker": {
             "colorbar": {
              "outlinewidth": 0,
              "ticks": ""
             }
            },
            "type": "scattermapbox"
           }
          ],
          "scatterpolar": [
           {
            "marker": {
             "colorbar": {
              "outlinewidth": 0,
              "ticks": ""
             }
            },
            "type": "scatterpolar"
           }
          ],
          "scatterpolargl": [
           {
            "marker": {
             "colorbar": {
              "outlinewidth": 0,
              "ticks": ""
             }
            },
            "type": "scatterpolargl"
           }
          ],
          "scatterternary": [
           {
            "marker": {
             "colorbar": {
              "outlinewidth": 0,
              "ticks": ""
             }
            },
            "type": "scatterternary"
           }
          ],
          "surface": [
           {
            "colorbar": {
             "outlinewidth": 0,
             "ticks": ""
            },
            "colorscale": [
             [
              0,
              "#0d0887"
             ],
             [
              0.1111111111111111,
              "#46039f"
             ],
             [
              0.2222222222222222,
              "#7201a8"
             ],
             [
              0.3333333333333333,
              "#9c179e"
             ],
             [
              0.4444444444444444,
              "#bd3786"
             ],
             [
              0.5555555555555556,
              "#d8576b"
             ],
             [
              0.6666666666666666,
              "#ed7953"
             ],
             [
              0.7777777777777778,
              "#fb9f3a"
             ],
             [
              0.8888888888888888,
              "#fdca26"
             ],
             [
              1,
              "#f0f921"
             ]
            ],
            "type": "surface"
           }
          ],
          "table": [
           {
            "cells": {
             "fill": {
              "color": "#EBF0F8"
             },
             "line": {
              "color": "white"
             }
            },
            "header": {
             "fill": {
              "color": "#C8D4E3"
             },
             "line": {
              "color": "white"
             }
            },
            "type": "table"
           }
          ]
         },
         "layout": {
          "annotationdefaults": {
           "arrowcolor": "#2a3f5f",
           "arrowhead": 0,
           "arrowwidth": 1
          },
          "autotypenumbers": "strict",
          "coloraxis": {
           "colorbar": {
            "outlinewidth": 0,
            "ticks": ""
           }
          },
          "colorscale": {
           "diverging": [
            [
             0,
             "#8e0152"
            ],
            [
             0.1,
             "#c51b7d"
            ],
            [
             0.2,
             "#de77ae"
            ],
            [
             0.3,
             "#f1b6da"
            ],
            [
             0.4,
             "#fde0ef"
            ],
            [
             0.5,
             "#f7f7f7"
            ],
            [
             0.6,
             "#e6f5d0"
            ],
            [
             0.7,
             "#b8e186"
            ],
            [
             0.8,
             "#7fbc41"
            ],
            [
             0.9,
             "#4d9221"
            ],
            [
             1,
             "#276419"
            ]
           ],
           "sequential": [
            [
             0,
             "#0d0887"
            ],
            [
             0.1111111111111111,
             "#46039f"
            ],
            [
             0.2222222222222222,
             "#7201a8"
            ],
            [
             0.3333333333333333,
             "#9c179e"
            ],
            [
             0.4444444444444444,
             "#bd3786"
            ],
            [
             0.5555555555555556,
             "#d8576b"
            ],
            [
             0.6666666666666666,
             "#ed7953"
            ],
            [
             0.7777777777777778,
             "#fb9f3a"
            ],
            [
             0.8888888888888888,
             "#fdca26"
            ],
            [
             1,
             "#f0f921"
            ]
           ],
           "sequentialminus": [
            [
             0,
             "#0d0887"
            ],
            [
             0.1111111111111111,
             "#46039f"
            ],
            [
             0.2222222222222222,
             "#7201a8"
            ],
            [
             0.3333333333333333,
             "#9c179e"
            ],
            [
             0.4444444444444444,
             "#bd3786"
            ],
            [
             0.5555555555555556,
             "#d8576b"
            ],
            [
             0.6666666666666666,
             "#ed7953"
            ],
            [
             0.7777777777777778,
             "#fb9f3a"
            ],
            [
             0.8888888888888888,
             "#fdca26"
            ],
            [
             1,
             "#f0f921"
            ]
           ]
          },
          "colorway": [
           "#636efa",
           "#EF553B",
           "#00cc96",
           "#ab63fa",
           "#FFA15A",
           "#19d3f3",
           "#FF6692",
           "#B6E880",
           "#FF97FF",
           "#FECB52"
          ],
          "font": {
           "color": "#2a3f5f"
          },
          "geo": {
           "bgcolor": "white",
           "lakecolor": "white",
           "landcolor": "#E5ECF6",
           "showlakes": true,
           "showland": true,
           "subunitcolor": "white"
          },
          "hoverlabel": {
           "align": "left"
          },
          "hovermode": "closest",
          "mapbox": {
           "style": "light"
          },
          "paper_bgcolor": "white",
          "plot_bgcolor": "#E5ECF6",
          "polar": {
           "angularaxis": {
            "gridcolor": "white",
            "linecolor": "white",
            "ticks": ""
           },
           "bgcolor": "#E5ECF6",
           "radialaxis": {
            "gridcolor": "white",
            "linecolor": "white",
            "ticks": ""
           }
          },
          "scene": {
           "xaxis": {
            "backgroundcolor": "#E5ECF6",
            "gridcolor": "white",
            "gridwidth": 2,
            "linecolor": "white",
            "showbackground": true,
            "ticks": "",
            "zerolinecolor": "white"
           },
           "yaxis": {
            "backgroundcolor": "#E5ECF6",
            "gridcolor": "white",
            "gridwidth": 2,
            "linecolor": "white",
            "showbackground": true,
            "ticks": "",
            "zerolinecolor": "white"
           },
           "zaxis": {
            "backgroundcolor": "#E5ECF6",
            "gridcolor": "white",
            "gridwidth": 2,
            "linecolor": "white",
            "showbackground": true,
            "ticks": "",
            "zerolinecolor": "white"
           }
          },
          "shapedefaults": {
           "line": {
            "color": "#2a3f5f"
           }
          },
          "ternary": {
           "aaxis": {
            "gridcolor": "white",
            "linecolor": "white",
            "ticks": ""
           },
           "baxis": {
            "gridcolor": "white",
            "linecolor": "white",
            "ticks": ""
           },
           "bgcolor": "#E5ECF6",
           "caxis": {
            "gridcolor": "white",
            "linecolor": "white",
            "ticks": ""
           }
          },
          "title": {
           "x": 0.05
          },
          "xaxis": {
           "automargin": true,
           "gridcolor": "white",
           "linecolor": "white",
           "ticks": "",
           "title": {
            "standoff": 15
           },
           "zerolinecolor": "white",
           "zerolinewidth": 2
          },
          "yaxis": {
           "automargin": true,
           "gridcolor": "white",
           "linecolor": "white",
           "ticks": "",
           "title": {
            "standoff": 15
           },
           "zerolinecolor": "white",
           "zerolinewidth": 2
          }
         }
        },
        "title": {
         "text": "mercedes-benz e-class Price vs Mileage",
         "x": 0.01,
         "xanchor": "left"
        },
        "xaxis": {
         "anchor": "y",
         "domain": [
          0,
          1
         ],
         "linecolor": "black",
         "linewidth": 1,
         "mirror": true,
         "showgrid": false,
         "showline": true,
         "title": {
          "text": "Mileage"
         }
        },
        "yaxis": {
         "anchor": "x",
         "domain": [
          0,
          1
         ],
         "linecolor": "black",
         "linewidth": 1,
         "mirror": true,
         "showgrid": false,
         "showline": true,
         "title": {
          "text": "Price"
         }
        }
       }
      }
     },
     "metadata": {},
     "output_type": "display_data"
    },
    {
     "data": {
      "application/vnd.plotly.v1+json": {
       "config": {
        "plotlyServerURL": "https://plot.ly"
       },
       "data": [
        {
         "hovertemplate": "odometer=%{x}<br>price=%{y}<extra></extra>",
         "legendgroup": "",
         "marker": {
          "color": "#636efa",
          "symbol": "circle"
         },
         "mode": "markers",
         "name": "",
         "orientation": "v",
         "showlegend": false,
         "type": "scatter",
         "x": [
          44000,
          69000,
          44000,
          44000,
          44000,
          29500,
          98500,
          67000,
          50000,
          44000,
          124000,
          124000,
          85000,
          44000,
          97000,
          107000,
          68700,
          224000,
          174500,
          44000,
          44000,
          44000,
          124000,
          44000,
          97000,
          44000,
          54417,
          44000,
          65895,
          85000,
          270710,
          71000,
          44000,
          200000,
          21000,
          21000,
          21000,
          21000,
          21000,
          21000,
          21000,
          21000,
          21000,
          21000,
          44000,
          44000,
          44000,
          44000,
          44000,
          44000,
          44000,
          44000,
          110000,
          110000,
          110000,
          110000,
          110000,
          110000,
          110000,
          84502,
          124000,
          44000,
          44000,
          63000,
          107000,
          107000,
          109440,
          109440,
          109440,
          73600,
          73600,
          73600,
          73600,
          73600,
          44000,
          149877,
          97000,
          274000,
          69000
         ],
         "xaxis": "x",
         "y": [
          31500,
          18500,
          31500,
          31500,
          31500,
          42500,
          18900,
          23800,
          20500,
          31500,
          7000,
          7000,
          17395,
          31500,
          19900,
          13500,
          33500,
          3950,
          2250,
          31500,
          31500,
          31500,
          7000,
          31500,
          21000,
          31500,
          24200,
          31500,
          24500,
          16000,
          3150,
          27000,
          31500,
          2500,
          44000,
          44000,
          44000,
          44000,
          44000,
          44000,
          44000,
          44000,
          44000,
          44000,
          31500,
          31500,
          31500,
          31500,
          31500,
          31500,
          31500,
          31500,
          40000,
          40000,
          40000,
          40000,
          40000,
          40000,
          40000,
          24500,
          7000,
          32500,
          31500,
          16800,
          5000,
          5000,
          8999,
          8999,
          8999,
          27000,
          27000,
          27000,
          27000,
          27000,
          32500,
          12500,
          21000,
          1999,
          18500
         ],
         "yaxis": "y"
        },
        {
         "hovertemplate": "<b>OLS trendline</b><br>price = -0.176607 * odometer + 40285.7<br>R<sup>2</sup>=0.535673<br><br>odometer=%{x}<br>price=%{y} <b>(trend)</b><extra></extra>",
         "legendgroup": "",
         "marker": {
          "color": "#636efa",
          "symbol": "circle"
         },
         "mode": "lines",
         "name": "",
         "showlegend": false,
         "type": "scatter",
         "x": [
          21000,
          21000,
          21000,
          21000,
          21000,
          21000,
          21000,
          21000,
          21000,
          21000,
          29500,
          44000,
          44000,
          44000,
          44000,
          44000,
          44000,
          44000,
          44000,
          44000,
          44000,
          44000,
          44000,
          44000,
          44000,
          44000,
          44000,
          44000,
          44000,
          44000,
          44000,
          44000,
          44000,
          44000,
          44000,
          50000,
          54417,
          63000,
          65895,
          67000,
          68700,
          69000,
          69000,
          71000,
          73600,
          73600,
          73600,
          73600,
          73600,
          84502,
          85000,
          85000,
          97000,
          97000,
          97000,
          98500,
          107000,
          107000,
          107000,
          109440,
          109440,
          109440,
          110000,
          110000,
          110000,
          110000,
          110000,
          110000,
          110000,
          124000,
          124000,
          124000,
          124000,
          149877,
          174500,
          200000,
          224000,
          270710,
          274000
         ],
         "xaxis": "x",
         "y": [
          36576.92732079328,
          36576.92732079328,
          36576.92732079328,
          36576.92732079328,
          36576.92732079328,
          36576.92732079328,
          36576.92732079328,
          36576.92732079328,
          36576.92732079328,
          36576.92732079328,
          35075.771337200174,
          32514.975835776644,
          32514.975835776644,
          32514.975835776644,
          32514.975835776644,
          32514.975835776644,
          32514.975835776644,
          32514.975835776644,
          32514.975835776644,
          32514.975835776644,
          32514.975835776644,
          32514.975835776644,
          32514.975835776644,
          32514.975835776644,
          32514.975835776644,
          32514.975835776644,
          32514.975835776644,
          32514.975835776644,
          32514.975835776644,
          32514.975835776644,
          32514.975835776644,
          32514.975835776644,
          32514.975835776644,
          32514.975835776644,
          32514.975835776644,
          31455.336317946218,
          30675.265026236717,
          29159.450695980297,
          28648.174628627115,
          28453.02435076001,
          28152.793154041392,
          28099.81117814987,
          28099.81117814987,
          27746.59800553973,
          27287.420881146543,
          27287.420881146543,
          27287.420881146543,
          27287.420881146543,
          27287.420881146543,
          25362.055877248662,
          25274.105797268734,
          25274.105797268734,
          23154.826761607885,
          23154.826761607885,
          23154.826761607885,
          22889.916882150275,
          21388.760898557175,
          21388.760898557175,
          21388.760898557175,
          20957.8408279728,
          20957.8408279728,
          20957.8408279728,
          20858.94113964196,
          20858.94113964196,
          20858.94113964196,
          20858.94113964196,
          20858.94113964196,
          20858.94113964196,
          20858.94113964196,
          18386.448931370967,
          18386.448931370967,
          18386.448931370967,
          18386.448931370967,
          13816.400297554646,
          9467.816322964885,
          4964.348372185574,
          725.790300863875,
          -7523.503345445992,
          -8104.539014389673
         ],
         "yaxis": "y"
        },
        {
         "mode": "text",
         "showlegend": false,
         "text": [
          "R<sup>2</sup>: 0.54<br>Observations: 79"
         ],
         "type": "scatter",
         "x": [
          274000
         ],
         "y": [
          1999
         ]
        }
       ],
       "layout": {
        "legend": {
         "tracegroupgap": 0
        },
        "margin": {
         "b": 0,
         "l": 0,
         "r": 0,
         "t": 30
        },
        "paper_bgcolor": "white",
        "plot_bgcolor": "white",
        "showlegend": false,
        "template": {
         "data": {
          "bar": [
           {
            "error_x": {
             "color": "#2a3f5f"
            },
            "error_y": {
             "color": "#2a3f5f"
            },
            "marker": {
             "line": {
              "color": "#E5ECF6",
              "width": 0.5
             },
             "pattern": {
              "fillmode": "overlay",
              "size": 10,
              "solidity": 0.2
             }
            },
            "type": "bar"
           }
          ],
          "barpolar": [
           {
            "marker": {
             "line": {
              "color": "#E5ECF6",
              "width": 0.5
             },
             "pattern": {
              "fillmode": "overlay",
              "size": 10,
              "solidity": 0.2
             }
            },
            "type": "barpolar"
           }
          ],
          "carpet": [
           {
            "aaxis": {
             "endlinecolor": "#2a3f5f",
             "gridcolor": "white",
             "linecolor": "white",
             "minorgridcolor": "white",
             "startlinecolor": "#2a3f5f"
            },
            "baxis": {
             "endlinecolor": "#2a3f5f",
             "gridcolor": "white",
             "linecolor": "white",
             "minorgridcolor": "white",
             "startlinecolor": "#2a3f5f"
            },
            "type": "carpet"
           }
          ],
          "choropleth": [
           {
            "colorbar": {
             "outlinewidth": 0,
             "ticks": ""
            },
            "type": "choropleth"
           }
          ],
          "contour": [
           {
            "colorbar": {
             "outlinewidth": 0,
             "ticks": ""
            },
            "colorscale": [
             [
              0,
              "#0d0887"
             ],
             [
              0.1111111111111111,
              "#46039f"
             ],
             [
              0.2222222222222222,
              "#7201a8"
             ],
             [
              0.3333333333333333,
              "#9c179e"
             ],
             [
              0.4444444444444444,
              "#bd3786"
             ],
             [
              0.5555555555555556,
              "#d8576b"
             ],
             [
              0.6666666666666666,
              "#ed7953"
             ],
             [
              0.7777777777777778,
              "#fb9f3a"
             ],
             [
              0.8888888888888888,
              "#fdca26"
             ],
             [
              1,
              "#f0f921"
             ]
            ],
            "type": "contour"
           }
          ],
          "contourcarpet": [
           {
            "colorbar": {
             "outlinewidth": 0,
             "ticks": ""
            },
            "type": "contourcarpet"
           }
          ],
          "heatmap": [
           {
            "colorbar": {
             "outlinewidth": 0,
             "ticks": ""
            },
            "colorscale": [
             [
              0,
              "#0d0887"
             ],
             [
              0.1111111111111111,
              "#46039f"
             ],
             [
              0.2222222222222222,
              "#7201a8"
             ],
             [
              0.3333333333333333,
              "#9c179e"
             ],
             [
              0.4444444444444444,
              "#bd3786"
             ],
             [
              0.5555555555555556,
              "#d8576b"
             ],
             [
              0.6666666666666666,
              "#ed7953"
             ],
             [
              0.7777777777777778,
              "#fb9f3a"
             ],
             [
              0.8888888888888888,
              "#fdca26"
             ],
             [
              1,
              "#f0f921"
             ]
            ],
            "type": "heatmap"
           }
          ],
          "heatmapgl": [
           {
            "colorbar": {
             "outlinewidth": 0,
             "ticks": ""
            },
            "colorscale": [
             [
              0,
              "#0d0887"
             ],
             [
              0.1111111111111111,
              "#46039f"
             ],
             [
              0.2222222222222222,
              "#7201a8"
             ],
             [
              0.3333333333333333,
              "#9c179e"
             ],
             [
              0.4444444444444444,
              "#bd3786"
             ],
             [
              0.5555555555555556,
              "#d8576b"
             ],
             [
              0.6666666666666666,
              "#ed7953"
             ],
             [
              0.7777777777777778,
              "#fb9f3a"
             ],
             [
              0.8888888888888888,
              "#fdca26"
             ],
             [
              1,
              "#f0f921"
             ]
            ],
            "type": "heatmapgl"
           }
          ],
          "histogram": [
           {
            "marker": {
             "pattern": {
              "fillmode": "overlay",
              "size": 10,
              "solidity": 0.2
             }
            },
            "type": "histogram"
           }
          ],
          "histogram2d": [
           {
            "colorbar": {
             "outlinewidth": 0,
             "ticks": ""
            },
            "colorscale": [
             [
              0,
              "#0d0887"
             ],
             [
              0.1111111111111111,
              "#46039f"
             ],
             [
              0.2222222222222222,
              "#7201a8"
             ],
             [
              0.3333333333333333,
              "#9c179e"
             ],
             [
              0.4444444444444444,
              "#bd3786"
             ],
             [
              0.5555555555555556,
              "#d8576b"
             ],
             [
              0.6666666666666666,
              "#ed7953"
             ],
             [
              0.7777777777777778,
              "#fb9f3a"
             ],
             [
              0.8888888888888888,
              "#fdca26"
             ],
             [
              1,
              "#f0f921"
             ]
            ],
            "type": "histogram2d"
           }
          ],
          "histogram2dcontour": [
           {
            "colorbar": {
             "outlinewidth": 0,
             "ticks": ""
            },
            "colorscale": [
             [
              0,
              "#0d0887"
             ],
             [
              0.1111111111111111,
              "#46039f"
             ],
             [
              0.2222222222222222,
              "#7201a8"
             ],
             [
              0.3333333333333333,
              "#9c179e"
             ],
             [
              0.4444444444444444,
              "#bd3786"
             ],
             [
              0.5555555555555556,
              "#d8576b"
             ],
             [
              0.6666666666666666,
              "#ed7953"
             ],
             [
              0.7777777777777778,
              "#fb9f3a"
             ],
             [
              0.8888888888888888,
              "#fdca26"
             ],
             [
              1,
              "#f0f921"
             ]
            ],
            "type": "histogram2dcontour"
           }
          ],
          "mesh3d": [
           {
            "colorbar": {
             "outlinewidth": 0,
             "ticks": ""
            },
            "type": "mesh3d"
           }
          ],
          "parcoords": [
           {
            "line": {
             "colorbar": {
              "outlinewidth": 0,
              "ticks": ""
             }
            },
            "type": "parcoords"
           }
          ],
          "pie": [
           {
            "automargin": true,
            "type": "pie"
           }
          ],
          "scatter": [
           {
            "fillpattern": {
             "fillmode": "overlay",
             "size": 10,
             "solidity": 0.2
            },
            "type": "scatter"
           }
          ],
          "scatter3d": [
           {
            "line": {
             "colorbar": {
              "outlinewidth": 0,
              "ticks": ""
             }
            },
            "marker": {
             "colorbar": {
              "outlinewidth": 0,
              "ticks": ""
             }
            },
            "type": "scatter3d"
           }
          ],
          "scattercarpet": [
           {
            "marker": {
             "colorbar": {
              "outlinewidth": 0,
              "ticks": ""
             }
            },
            "type": "scattercarpet"
           }
          ],
          "scattergeo": [
           {
            "marker": {
             "colorbar": {
              "outlinewidth": 0,
              "ticks": ""
             }
            },
            "type": "scattergeo"
           }
          ],
          "scattergl": [
           {
            "marker": {
             "colorbar": {
              "outlinewidth": 0,
              "ticks": ""
             }
            },
            "type": "scattergl"
           }
          ],
          "scattermapbox": [
           {
            "marker": {
             "colorbar": {
              "outlinewidth": 0,
              "ticks": ""
             }
            },
            "type": "scattermapbox"
           }
          ],
          "scatterpolar": [
           {
            "marker": {
             "colorbar": {
              "outlinewidth": 0,
              "ticks": ""
             }
            },
            "type": "scatterpolar"
           }
          ],
          "scatterpolargl": [
           {
            "marker": {
             "colorbar": {
              "outlinewidth": 0,
              "ticks": ""
             }
            },
            "type": "scatterpolargl"
           }
          ],
          "scatterternary": [
           {
            "marker": {
             "colorbar": {
              "outlinewidth": 0,
              "ticks": ""
             }
            },
            "type": "scatterternary"
           }
          ],
          "surface": [
           {
            "colorbar": {
             "outlinewidth": 0,
             "ticks": ""
            },
            "colorscale": [
             [
              0,
              "#0d0887"
             ],
             [
              0.1111111111111111,
              "#46039f"
             ],
             [
              0.2222222222222222,
              "#7201a8"
             ],
             [
              0.3333333333333333,
              "#9c179e"
             ],
             [
              0.4444444444444444,
              "#bd3786"
             ],
             [
              0.5555555555555556,
              "#d8576b"
             ],
             [
              0.6666666666666666,
              "#ed7953"
             ],
             [
              0.7777777777777778,
              "#fb9f3a"
             ],
             [
              0.8888888888888888,
              "#fdca26"
             ],
             [
              1,
              "#f0f921"
             ]
            ],
            "type": "surface"
           }
          ],
          "table": [
           {
            "cells": {
             "fill": {
              "color": "#EBF0F8"
             },
             "line": {
              "color": "white"
             }
            },
            "header": {
             "fill": {
              "color": "#C8D4E3"
             },
             "line": {
              "color": "white"
             }
            },
            "type": "table"
           }
          ]
         },
         "layout": {
          "annotationdefaults": {
           "arrowcolor": "#2a3f5f",
           "arrowhead": 0,
           "arrowwidth": 1
          },
          "autotypenumbers": "strict",
          "coloraxis": {
           "colorbar": {
            "outlinewidth": 0,
            "ticks": ""
           }
          },
          "colorscale": {
           "diverging": [
            [
             0,
             "#8e0152"
            ],
            [
             0.1,
             "#c51b7d"
            ],
            [
             0.2,
             "#de77ae"
            ],
            [
             0.3,
             "#f1b6da"
            ],
            [
             0.4,
             "#fde0ef"
            ],
            [
             0.5,
             "#f7f7f7"
            ],
            [
             0.6,
             "#e6f5d0"
            ],
            [
             0.7,
             "#b8e186"
            ],
            [
             0.8,
             "#7fbc41"
            ],
            [
             0.9,
             "#4d9221"
            ],
            [
             1,
             "#276419"
            ]
           ],
           "sequential": [
            [
             0,
             "#0d0887"
            ],
            [
             0.1111111111111111,
             "#46039f"
            ],
            [
             0.2222222222222222,
             "#7201a8"
            ],
            [
             0.3333333333333333,
             "#9c179e"
            ],
            [
             0.4444444444444444,
             "#bd3786"
            ],
            [
             0.5555555555555556,
             "#d8576b"
            ],
            [
             0.6666666666666666,
             "#ed7953"
            ],
            [
             0.7777777777777778,
             "#fb9f3a"
            ],
            [
             0.8888888888888888,
             "#fdca26"
            ],
            [
             1,
             "#f0f921"
            ]
           ],
           "sequentialminus": [
            [
             0,
             "#0d0887"
            ],
            [
             0.1111111111111111,
             "#46039f"
            ],
            [
             0.2222222222222222,
             "#7201a8"
            ],
            [
             0.3333333333333333,
             "#9c179e"
            ],
            [
             0.4444444444444444,
             "#bd3786"
            ],
            [
             0.5555555555555556,
             "#d8576b"
            ],
            [
             0.6666666666666666,
             "#ed7953"
            ],
            [
             0.7777777777777778,
             "#fb9f3a"
            ],
            [
             0.8888888888888888,
             "#fdca26"
            ],
            [
             1,
             "#f0f921"
            ]
           ]
          },
          "colorway": [
           "#636efa",
           "#EF553B",
           "#00cc96",
           "#ab63fa",
           "#FFA15A",
           "#19d3f3",
           "#FF6692",
           "#B6E880",
           "#FF97FF",
           "#FECB52"
          ],
          "font": {
           "color": "#2a3f5f"
          },
          "geo": {
           "bgcolor": "white",
           "lakecolor": "white",
           "landcolor": "#E5ECF6",
           "showlakes": true,
           "showland": true,
           "subunitcolor": "white"
          },
          "hoverlabel": {
           "align": "left"
          },
          "hovermode": "closest",
          "mapbox": {
           "style": "light"
          },
          "paper_bgcolor": "white",
          "plot_bgcolor": "#E5ECF6",
          "polar": {
           "angularaxis": {
            "gridcolor": "white",
            "linecolor": "white",
            "ticks": ""
           },
           "bgcolor": "#E5ECF6",
           "radialaxis": {
            "gridcolor": "white",
            "linecolor": "white",
            "ticks": ""
           }
          },
          "scene": {
           "xaxis": {
            "backgroundcolor": "#E5ECF6",
            "gridcolor": "white",
            "gridwidth": 2,
            "linecolor": "white",
            "showbackground": true,
            "ticks": "",
            "zerolinecolor": "white"
           },
           "yaxis": {
            "backgroundcolor": "#E5ECF6",
            "gridcolor": "white",
            "gridwidth": 2,
            "linecolor": "white",
            "showbackground": true,
            "ticks": "",
            "zerolinecolor": "white"
           },
           "zaxis": {
            "backgroundcolor": "#E5ECF6",
            "gridcolor": "white",
            "gridwidth": 2,
            "linecolor": "white",
            "showbackground": true,
            "ticks": "",
            "zerolinecolor": "white"
           }
          },
          "shapedefaults": {
           "line": {
            "color": "#2a3f5f"
           }
          },
          "ternary": {
           "aaxis": {
            "gridcolor": "white",
            "linecolor": "white",
            "ticks": ""
           },
           "baxis": {
            "gridcolor": "white",
            "linecolor": "white",
            "ticks": ""
           },
           "bgcolor": "#E5ECF6",
           "caxis": {
            "gridcolor": "white",
            "linecolor": "white",
            "ticks": ""
           }
          },
          "title": {
           "x": 0.05
          },
          "xaxis": {
           "automargin": true,
           "gridcolor": "white",
           "linecolor": "white",
           "ticks": "",
           "title": {
            "standoff": 15
           },
           "zerolinecolor": "white",
           "zerolinewidth": 2
          },
          "yaxis": {
           "automargin": true,
           "gridcolor": "white",
           "linecolor": "white",
           "ticks": "",
           "title": {
            "standoff": 15
           },
           "zerolinecolor": "white",
           "zerolinewidth": 2
          }
         }
        },
        "title": {
         "text": "mercedes-benz 400 Price vs Mileage",
         "x": 0.01,
         "xanchor": "left"
        },
        "xaxis": {
         "anchor": "y",
         "domain": [
          0,
          1
         ],
         "linecolor": "black",
         "linewidth": 1,
         "mirror": true,
         "showgrid": false,
         "showline": true,
         "title": {
          "text": "Mileage"
         }
        },
        "yaxis": {
         "anchor": "x",
         "domain": [
          0,
          1
         ],
         "linecolor": "black",
         "linewidth": 1,
         "mirror": true,
         "showgrid": false,
         "showline": true,
         "title": {
          "text": "Price"
         }
        }
       }
      }
     },
     "metadata": {},
     "output_type": "display_data"
    },
    {
     "data": {
      "application/vnd.plotly.v1+json": {
       "config": {
        "plotlyServerURL": "https://plot.ly"
       },
       "data": [
        {
         "hovertemplate": "odometer=%{x}<br>price=%{y}<extra></extra>",
         "legendgroup": "",
         "marker": {
          "color": "#636efa",
          "symbol": "circle"
         },
         "mode": "markers",
         "name": "",
         "orientation": "v",
         "showlegend": false,
         "type": "scatter",
         "x": [
          153000,
          40000,
          230000,
          125000,
          104181,
          99100,
          78000,
          24300,
          95000,
          109900,
          97620,
          120000,
          28000,
          179000,
          205000,
          138000,
          52400,
          111631,
          143000,
          210400,
          135000,
          92924,
          121255,
          20200,
          143000,
          90549,
          31580,
          133000,
          134320,
          140000,
          180500,
          149990,
          71900,
          203000,
          136000,
          44000,
          117000,
          85000,
          20000,
          133000,
          168223,
          155387,
          157000,
          27300,
          57200,
          55000,
          142000,
          150100,
          91000,
          143000,
          155000,
          155000,
          155000,
          122000,
          154000,
          84000,
          136000,
          198500,
          57000,
          277000,
          180000,
          180000,
          180000,
          180000,
          180000,
          24300,
          173121,
          117353,
          93000,
          76000,
          114000,
          29500,
          14634,
          152879,
          175000,
          48052,
          168000,
          221967,
          149000,
          155000,
          155000,
          19950,
          43452,
          48000,
          20000,
          34000,
          105000,
          143000,
          161774,
          122000,
          132500,
          48889,
          101000,
          123000,
          137000,
          38490,
          88724,
          149000,
          50400,
          145900,
          104000,
          109900,
          92100,
          60414,
          125000,
          150862,
          255000,
          180800,
          125000,
          153701,
          199427,
          166000,
          93000,
          54200,
          118000,
          99100,
          95462,
          109900,
          138000,
          104000,
          67807,
          220000,
          228000,
          132000,
          140000,
          20000,
          33000,
          99000,
          152300,
          125000,
          129000,
          148000,
          134000,
          131500,
          192218,
          118000,
          202000,
          177000,
          118000,
          152000,
          106000,
          148225,
          63000,
          78245,
          30332,
          181000,
          35000,
          90000,
          91212,
          15620,
          42000,
          172500,
          60700,
          99000,
          38490,
          100245,
          19452,
          93000,
          85000,
          113459,
          104000,
          37000,
          137000,
          50450,
          140000,
          59000,
          114000,
          50450,
          86000,
          108000,
          130000,
          19950,
          8221,
          19268,
          93000,
          62450,
          60500,
          149000,
          137000,
          84000,
          5456,
          99000,
          127000,
          76550,
          155000,
          29000,
          99100,
          138000,
          138000,
          138000,
          138000,
          138000,
          138000,
          138000,
          138000,
          138000,
          148252,
          148252,
          148252,
          148252,
          148252,
          148252,
          148252,
          148252,
          148252,
          148252,
          148252,
          148252,
          148252,
          148252,
          190000,
          152000,
          152000,
          90000,
          90000,
          155000,
          155000,
          155000,
          155000,
          43782,
          16040,
          16040,
          16040,
          16040,
          16040,
          18284,
          18284,
          18284,
          18284,
          18284,
          18284,
          18284,
          18284,
          93500,
          93500,
          93500,
          93500,
          93500,
          62000,
          62000,
          62000,
          150862,
          150862,
          150862,
          150862,
          125000,
          125000,
          57200,
          57200,
          57200,
          60414,
          60414,
          60414,
          60414,
          48899,
          67000,
          67000,
          24300,
          24300,
          24300,
          24300,
          24300,
          24300,
          155000,
          155000,
          155000,
          155000,
          155000,
          155000,
          43452,
          166498,
          166498,
          166498,
          166498,
          166498,
          166498,
          162000,
          30000,
          150862,
          215000,
          96000,
          138000,
          28112,
          19950,
          104181,
          38490,
          28131,
          33056,
          176000,
          114000,
          20000,
          41150,
          138000,
          49000,
          137000,
          109900,
          107000,
          20000,
          120000,
          153000,
          40000,
          159177,
          83000,
          35800,
          180258,
          104000,
          108000,
          134000,
          20000,
          68000,
          164585,
          39000,
          117000,
          160000,
          108000,
          19750,
          180000,
          120000,
          96500,
          99000,
          149000,
          130763,
          116000,
          25000,
          134000,
          114000,
          114000,
          114000,
          114000,
          114000,
          114000,
          132000,
          84717,
          152000,
          186000,
          198000,
          198000,
          198000,
          198000,
          156000,
          89600,
          89600,
          89600,
          89600,
          104600,
          136000,
          136000,
          138585,
          152000,
          152000,
          152000,
          152000,
          90000,
          90000,
          90000,
          90000,
          90000,
          90000,
          90000,
          90000,
          90000,
          90000,
          90000,
          90000,
          90000,
          89600,
          89600,
          89600,
          89600,
          89100,
          28850,
          20200,
          65000,
          136000,
          158000,
          136000,
          19950,
          28850,
          28850,
          28850,
          28850,
          28850,
          152879,
          43340,
          38490,
          70000,
          70000,
          70000,
          70000,
          90600,
          138000,
          138000,
          97600,
          97600,
          97600,
          97600,
          97600,
          97600,
          97600,
          97600,
          97600,
          62000,
          62000,
          62000,
          62000,
          62000,
          62000,
          62000,
          51908,
          51908,
          163825,
          163825,
          163825,
          163825,
          163825,
          163825,
          70000,
          70000,
          70000,
          43782,
          43782,
          43782,
          43782,
          43782,
          62000,
          62000,
          62000,
          62000,
          125000,
          125000,
          125000,
          148000,
          100000,
          169000,
          188950,
          99000,
          48000,
          60500,
          20000,
          54000,
          117000,
          205000,
          161000,
          132500,
          158000,
          198500,
          99100,
          172832,
          87512,
          30450,
          149000,
          242601,
          19950,
          21000,
          131500,
          197828,
          219000,
          152300
         ],
         "xaxis": "x",
         "y": [
          5800,
          8700,
          1000,
          2600,
          3800,
          11700,
          4900,
          25000,
          2500,
          4400,
          7400,
          8900,
          13900,
          700,
          3500,
          4800,
          9200,
          7500,
          2000,
          4200,
          1000,
          5850,
          1750,
          14500,
          5950,
          8500,
          10500,
          4500,
          800,
          3000,
          4200,
          9000,
          6500,
          2900,
          8500,
          11250,
          5800,
          13000,
          23500,
          2800,
          10000,
          7300,
          3800,
          19950,
          12900,
          11900,
          19500,
          4300,
          9750,
          8000,
          4500,
          4500,
          4500,
          9300,
          5000,
          14500,
          9900,
          3200,
          9500,
          3000,
          3500,
          3500,
          3500,
          3500,
          3500,
          25000,
          4590,
          4000,
          9333,
          4600,
          9860,
          20895,
          25000,
          8600,
          4000,
          13500,
          3000,
          900,
          2800,
          2950,
          2950,
          16200,
          13500,
          11300,
          16500,
          15350,
          10500,
          7200,
          5000,
          4500,
          3700,
          13500,
          13500,
          6950,
          7500,
          12250,
          15500,
          6990,
          21500,
          4000,
          11000,
          3900,
          15000,
          20950,
          2600,
          4950,
          2000,
          5000,
          4500,
          3750,
          1000,
          2500,
          4800,
          9500,
          7800,
          11700,
          11499,
          3900,
          3200,
          9500,
          12700,
          1500,
          3650,
          1200,
          7000,
          16500,
          23999,
          9950,
          4500,
          2600,
          4500,
          7000,
          3000,
          2400,
          4800,
          2000,
          2500,
          3500,
          2000,
          1200,
          3950,
          3750,
          5000,
          12000,
          13375,
          4200,
          18900,
          3500,
          12500,
          30000,
          11200,
          5500,
          19000,
          10800,
          12250,
          7500,
          13500,
          13900,
          9800,
          7250,
          10000,
          23500,
          7500,
          20000,
          6200,
          9000,
          2800,
          20000,
          5500,
          6575,
          7500,
          16400,
          31800,
          48000,
          15700,
          15850,
          13500,
          6450,
          4500,
          7500,
          19897,
          10850,
          2500,
          6500,
          4800,
          14900,
          11700,
          4900,
          4900,
          4900,
          4900,
          4900,
          4900,
          4900,
          4900,
          4900,
          4250,
          4250,
          4250,
          4250,
          4250,
          4250,
          4250,
          4250,
          4250,
          4250,
          4250,
          4250,
          4250,
          4250,
          2500,
          2900,
          2900,
          3500,
          3500,
          2950,
          2950,
          2950,
          2950,
          11500,
          13500,
          13500,
          13500,
          13500,
          13500,
          18790,
          18790,
          18790,
          18790,
          18790,
          18790,
          18790,
          18790,
          12995,
          12995,
          12995,
          12995,
          12995,
          11999,
          11999,
          11999,
          4250,
          4250,
          4250,
          4250,
          6300,
          6300,
          12900,
          12900,
          12900,
          18500,
          18500,
          18500,
          18500,
          13500,
          4900,
          4900,
          25000,
          25000,
          25000,
          25000,
          25000,
          25000,
          4500,
          4500,
          4500,
          4500,
          4500,
          4500,
          13500,
          5900,
          5900,
          5900,
          5900,
          5900,
          5900,
          5250,
          13500,
          4450,
          3800,
          11299,
          4900,
          15400,
          16400,
          4200,
          12250,
          21500,
          13500,
          6700,
          6200,
          16500,
          3500,
          4500,
          15900,
          7500,
          3900,
          6500,
          16500,
          8200,
          7000,
          8900,
          3000,
          14500,
          18500,
          3800,
          12000,
          6575,
          3000,
          24995,
          14200,
          2800,
          12500,
          5800,
          5700,
          6575,
          13500,
          5000,
          8200,
          12500,
          10850,
          6990,
          2250,
          4500,
          19800,
          2900,
          1800,
          1800,
          1800,
          1800,
          1800,
          1800,
          1200,
          6000,
          2900,
          5500,
          3300,
          3300,
          3300,
          3300,
          1500,
          1000,
          1000,
          1000,
          1000,
          7450,
          6500,
          6500,
          3200,
          2900,
          2900,
          2900,
          2900,
          3500,
          3500,
          3500,
          3500,
          3500,
          3500,
          3500,
          3500,
          3500,
          3500,
          3500,
          3500,
          3500,
          1000,
          1000,
          1000,
          1000,
          7500,
          29900,
          12000,
          29000,
          8500,
          2300,
          7500,
          16500,
          28950,
          28950,
          28950,
          28950,
          28950,
          8200,
          11500,
          12250,
          11000,
          11000,
          11000,
          11000,
          15600,
          4600,
          4600,
          8800,
          8800,
          8800,
          8800,
          8800,
          8800,
          8800,
          8800,
          8800,
          18500,
          18500,
          18500,
          18500,
          18500,
          18500,
          18500,
          16499,
          16499,
          15000,
          15000,
          15000,
          15000,
          15000,
          15000,
          11000,
          11000,
          11000,
          11500,
          11500,
          11500,
          11500,
          11500,
          11999,
          11999,
          11999,
          11999,
          6300,
          6300,
          6300,
          4900,
          100,
          4300,
          4750,
          9950,
          10700,
          11400,
          16500,
          17000,
          5800,
          3000,
          4500,
          3900,
          5900,
          3200,
          11700,
          3000,
          16999,
          19750,
          6999,
          1975,
          16500,
          17000,
          2500,
          2495,
          2000,
          4000
         ],
         "yaxis": "y"
        },
        {
         "hovertemplate": "<b>OLS trendline</b><br>price = -0.0913213 * odometer + 18694<br>R<sup>2</sup>=0.525632<br><br>odometer=%{x}<br>price=%{y} <b>(trend)</b><extra></extra>",
         "legendgroup": "",
         "marker": {
          "color": "#636efa",
          "symbol": "circle"
         },
         "mode": "lines",
         "name": "",
         "showlegend": false,
         "type": "scatter",
         "x": [
          5456,
          8221,
          14634,
          15620,
          16040,
          16040,
          16040,
          16040,
          16040,
          18284,
          18284,
          18284,
          18284,
          18284,
          18284,
          18284,
          18284,
          19268,
          19452,
          19750,
          19950,
          19950,
          19950,
          19950,
          19950,
          20000,
          20000,
          20000,
          20000,
          20000,
          20000,
          20000,
          20200,
          20200,
          21000,
          24300,
          24300,
          24300,
          24300,
          24300,
          24300,
          24300,
          24300,
          25000,
          27300,
          28000,
          28112,
          28131,
          28850,
          28850,
          28850,
          28850,
          28850,
          28850,
          29000,
          29500,
          30000,
          30332,
          30450,
          31580,
          33000,
          33056,
          34000,
          35000,
          35800,
          37000,
          38490,
          38490,
          38490,
          38490,
          39000,
          40000,
          40000,
          41150,
          42000,
          43340,
          43452,
          43452,
          43782,
          43782,
          43782,
          43782,
          43782,
          43782,
          44000,
          48000,
          48000,
          48052,
          48889,
          48899,
          49000,
          50400,
          50450,
          50450,
          51908,
          51908,
          52400,
          54000,
          54200,
          55000,
          57000,
          57200,
          57200,
          57200,
          57200,
          59000,
          60414,
          60414,
          60414,
          60414,
          60414,
          60500,
          60500,
          60700,
          62000,
          62000,
          62000,
          62000,
          62000,
          62000,
          62000,
          62000,
          62000,
          62000,
          62000,
          62000,
          62000,
          62000,
          62450,
          63000,
          65000,
          67000,
          67000,
          67807,
          68000,
          70000,
          70000,
          70000,
          70000,
          70000,
          70000,
          70000,
          71900,
          76000,
          76550,
          78000,
          78245,
          83000,
          84000,
          84000,
          84717,
          85000,
          85000,
          86000,
          87512,
          88724,
          89100,
          89600,
          89600,
          89600,
          89600,
          89600,
          89600,
          89600,
          89600,
          90000,
          90000,
          90000,
          90000,
          90000,
          90000,
          90000,
          90000,
          90000,
          90000,
          90000,
          90000,
          90000,
          90000,
          90000,
          90000,
          90549,
          90600,
          91000,
          91212,
          92100,
          92924,
          93000,
          93000,
          93000,
          93000,
          93500,
          93500,
          93500,
          93500,
          93500,
          95000,
          95462,
          96000,
          96500,
          97600,
          97600,
          97600,
          97600,
          97600,
          97600,
          97600,
          97600,
          97600,
          97620,
          99000,
          99000,
          99000,
          99000,
          99000,
          99100,
          99100,
          99100,
          99100,
          100000,
          100245,
          101000,
          104000,
          104000,
          104000,
          104000,
          104181,
          104181,
          104600,
          105000,
          106000,
          107000,
          108000,
          108000,
          108000,
          109900,
          109900,
          109900,
          109900,
          111631,
          113459,
          114000,
          114000,
          114000,
          114000,
          114000,
          114000,
          114000,
          114000,
          114000,
          116000,
          117000,
          117000,
          117000,
          117353,
          118000,
          118000,
          118000,
          120000,
          120000,
          120000,
          121255,
          122000,
          122000,
          123000,
          125000,
          125000,
          125000,
          125000,
          125000,
          125000,
          125000,
          125000,
          125000,
          127000,
          129000,
          130000,
          130763,
          131500,
          131500,
          132000,
          132000,
          132500,
          132500,
          133000,
          133000,
          134000,
          134000,
          134000,
          134320,
          135000,
          136000,
          136000,
          136000,
          136000,
          136000,
          136000,
          137000,
          137000,
          137000,
          137000,
          138000,
          138000,
          138000,
          138000,
          138000,
          138000,
          138000,
          138000,
          138000,
          138000,
          138000,
          138000,
          138000,
          138000,
          138000,
          138585,
          140000,
          140000,
          140000,
          142000,
          143000,
          143000,
          143000,
          143000,
          145900,
          148000,
          148000,
          148225,
          148252,
          148252,
          148252,
          148252,
          148252,
          148252,
          148252,
          148252,
          148252,
          148252,
          148252,
          148252,
          148252,
          148252,
          149000,
          149000,
          149000,
          149000,
          149000,
          149990,
          150100,
          150862,
          150862,
          150862,
          150862,
          150862,
          150862,
          152000,
          152000,
          152000,
          152000,
          152000,
          152000,
          152000,
          152000,
          152300,
          152300,
          152879,
          152879,
          153000,
          153000,
          153701,
          154000,
          155000,
          155000,
          155000,
          155000,
          155000,
          155000,
          155000,
          155000,
          155000,
          155000,
          155000,
          155000,
          155000,
          155000,
          155000,
          155000,
          155387,
          156000,
          157000,
          158000,
          158000,
          159177,
          160000,
          161000,
          161774,
          162000,
          163825,
          163825,
          163825,
          163825,
          163825,
          163825,
          164585,
          166000,
          166498,
          166498,
          166498,
          166498,
          166498,
          166498,
          168000,
          168223,
          169000,
          172500,
          172832,
          173121,
          175000,
          176000,
          177000,
          179000,
          180000,
          180000,
          180000,
          180000,
          180000,
          180000,
          180258,
          180500,
          180800,
          181000,
          186000,
          188950,
          190000,
          192218,
          197828,
          198000,
          198000,
          198000,
          198000,
          198500,
          198500,
          199427,
          202000,
          203000,
          205000,
          205000,
          210400,
          215000,
          219000,
          220000,
          221967,
          228000,
          230000,
          242601,
          255000,
          277000
         ],
         "xaxis": "x",
         "y": [
          18195.73060037537,
          17943.227240840275,
          17357.583825036087,
          17267.541035704584,
          17229.18609501571,
          17229.18609501571,
          17229.18609501571,
          17229.18609501571,
          17229.18609501571,
          17024.26112619229,
          17024.26112619229,
          17024.26112619229,
          17024.26112619229,
          17024.26112619229,
          17024.26112619229,
          17024.26112619229,
          17024.26112619229,
          16934.400979435497,
          16917.597862562274,
          16890.384118930644,
          16872.11986145975,
          16872.11986145975,
          16872.11986145975,
          16872.11986145975,
          16872.11986145975,
          16867.553797092027,
          16867.553797092027,
          16867.553797092027,
          16867.553797092027,
          16867.553797092027,
          16867.553797092027,
          16867.553797092027,
          16849.289539621135,
          16849.289539621135,
          16776.23250973756,
          16474.872261467826,
          16474.872261467826,
          16474.872261467826,
          16474.872261467826,
          16474.872261467826,
          16474.872261467826,
          16474.872261467826,
          16474.872261467826,
          16410.9473603197,
          16200.90839940443,
          16136.983498256304,
          16126.755514072604,
          16125.02040961287,
          16059.360404005009,
          16059.360404005009,
          16059.360404005009,
          16059.360404005009,
          16059.360404005009,
          16059.360404005009,
          16045.662210901839,
          16000.001567224606,
          15954.340923547374,
          15924.02225614569,
          15913.246344237865,
          15810.053289527319,
          15680.377061483978,
          15675.263069392127,
          15589.055774129512,
          15497.734486775047,
          15424.677456891475,
          15315.091912066116,
          15179.023193907964,
          15179.023193907964,
          15179.023193907964,
          15179.023193907964,
          15132.449337357186,
          15041.12805000272,
          15041.12805000272,
          14936.108569545086,
          14858.48547529379,
          14736.114950238807,
          14725.886966055106,
          14725.886966055106,
          14695.750941228132,
          14695.750941228132,
          14695.750941228132,
          14695.750941228132,
          14695.750941228132,
          14695.750941228132,
          14675.84290058486,
          14310.557751166998,
          14310.557751166998,
          14305.809044224567,
          14229.373126708879,
          14228.459913835333,
          14219.236463812533,
          14091.38666151628,
          14086.820597148559,
          14086.820597148559,
          13953.674160185748,
          13953.674160185748,
          13908.74408680735,
          13762.630027040206,
          13744.365769569315,
          13671.30873968574,
          13488.66616497681,
          13470.401907505919,
          13470.401907505919,
          13470.401907505919,
          13470.401907505919,
          13306.02359026788,
          13176.895289948665,
          13176.895289948665,
          13176.895289948665,
          13176.895289948665,
          13176.895289948665,
          13169.041659236182,
          13169.041659236182,
          13150.777401765288,
          13032.059728204484,
          13032.059728204484,
          13032.059728204484,
          13032.059728204484,
          13032.059728204484,
          13032.059728204484,
          13032.059728204484,
          13032.059728204484,
          13032.059728204484,
          13032.059728204484,
          13032.059728204484,
          13032.059728204484,
          13032.059728204484,
          13032.059728204484,
          12990.965148894975,
          12940.738440850018,
          12758.095866141088,
          12575.453291432157,
          12575.453291432157,
          12501.757012537104,
          12484.132004077692,
          12301.489429368761,
          12301.489429368761,
          12301.489429368761,
          12301.489429368761,
          12301.489429368761,
          12301.489429368761,
          12301.489429368761,
          12127.978983395278,
          11753.56170524197,
          11703.334997197013,
          11570.919130533039,
          11548.545415131195,
          11114.312693760712,
          11022.991406406247,
          11022.991406406247,
          10957.514043373096,
          10931.670119051782,
          10931.670119051782,
          10840.348831697316,
          10702.271045217365,
          10591.589644943753,
          10557.252840898474,
          10511.592197221242,
          10511.592197221242,
          10511.592197221242,
          10511.592197221242,
          10511.592197221242,
          10511.592197221242,
          10511.592197221242,
          10511.592197221242,
          10475.063682279455,
          10475.063682279455,
          10475.063682279455,
          10475.063682279455,
          10475.063682279455,
          10475.063682279455,
          10475.063682279455,
          10475.063682279455,
          10475.063682279455,
          10475.063682279455,
          10475.063682279455,
          10475.063682279455,
          10475.063682279455,
          10475.063682279455,
          10475.063682279455,
          10475.063682279455,
          10424.928295521853,
          10420.270909866776,
          10383.74239492499,
          10364.382282005843,
          10283.288978835079,
          10208.040238054999,
          10201.099820216059,
          10201.099820216059,
          10201.099820216059,
          10201.099820216059,
          10155.439176538826,
          10155.439176538826,
          10155.439176538826,
          10155.439176538826,
          10155.439176538826,
          10018.457245507128,
          9976.266810749366,
          9927.135958152663,
          9881.47531447543,
          9781.02189838552,
          9781.02189838552,
          9781.02189838552,
          9781.02189838552,
          9781.02189838552,
          9781.02189838552,
          9781.02189838552,
          9781.02189838552,
          9781.02189838552,
          9779.19547263843,
          9653.172096089267,
          9653.172096089267,
          9653.172096089267,
          9653.172096089267,
          9653.172096089267,
          9644.039967353821,
          9644.039967353821,
          9644.039967353821,
          9644.039967353821,
          9561.850808734802,
          9539.477093332958,
          9470.529521380337,
          9196.56565931694,
          9196.56565931694,
          9196.56565931694,
          9196.56565931694,
          9180.036506305783,
          9180.036506305783,
          9141.772886904262,
          9105.244371962475,
          9013.92308460801,
          8922.601797253545,
          8831.28050989908,
          8831.28050989908,
          8831.28050989908,
          8657.770063925596,
          8657.770063925596,
          8657.770063925596,
          8657.770063925596,
          8499.692915515017,
          8332.757602231053,
          8283.352785772287,
          8283.352785772287,
          8283.352785772287,
          8283.352785772287,
          8283.352785772287,
          8283.352785772287,
          8283.352785772287,
          8283.352785772287,
          8283.352785772287,
          8100.710211063357,
          8009.3889237088915,
          8009.3889237088915,
          8009.3889237088915,
          7977.152509272766,
          7918.067636354426,
          7918.067636354426,
          7918.067636354426,
          7735.425061645496,
          7735.425061645496,
          7735.425061645496,
          7620.816846015643,
          7552.782486936565,
          7552.782486936565,
          7461.4611995821,
          7278.818624873169,
          7278.818624873169,
          7278.818624873169,
          7278.818624873169,
          7278.818624873169,
          7278.818624873169,
          7278.818624873169,
          7278.818624873169,
          7278.818624873169,
          7096.176050164238,
          6913.533475455308,
          6822.2121881008425,
          6752.5340458493865,
          6685.2302570691445,
          6685.2302570691445,
          6639.569613391912,
          6639.569613391912,
          6593.908969714679,
          6593.908969714679,
          6548.2483260374465,
          6548.2483260374465,
          6456.927038682981,
          6456.927038682981,
          6456.927038682981,
          6427.704226729553,
          6365.605751328518,
          6274.284463974052,
          6274.284463974052,
          6274.284463974052,
          6274.284463974052,
          6274.284463974052,
          6274.284463974052,
          6182.963176619587,
          6182.963176619587,
          6182.963176619587,
          6182.963176619587,
          6091.641889265122,
          6091.641889265122,
          6091.641889265122,
          6091.641889265122,
          6091.641889265122,
          6091.641889265122,
          6091.641889265122,
          6091.641889265122,
          6091.641889265122,
          6091.641889265122,
          6091.641889265122,
          6091.641889265122,
          6091.641889265122,
          6091.641889265122,
          6091.641889265122,
          6038.218936162759,
          5908.999314556191,
          5908.999314556191,
          5908.999314556191,
          5726.3567398472605,
          5635.035452492795,
          5635.035452492795,
          5635.035452492795,
          5635.035452492795,
          5370.203719164845,
          5178.429015720469,
          5178.429015720469,
          5157.881726065712,
          5155.416051307142,
          5155.416051307142,
          5155.416051307142,
          5155.416051307142,
          5155.416051307142,
          5155.416051307142,
          5155.416051307142,
          5155.416051307142,
          5155.416051307142,
          5155.416051307142,
          5155.416051307142,
          5155.416051307142,
          5155.416051307142,
          5155.416051307142,
          5087.107728366003,
          5087.107728366003,
          5087.107728366003,
          5087.107728366003,
          5087.107728366003,
          4996.699653885082,
          4986.65431227609,
          4917.067491311987,
          4917.067491311987,
          4917.067491311987,
          4917.067491311987,
          4917.067491311987,
          4917.067491311987,
          4813.143866302607,
          4813.143866302607,
          4813.143866302607,
          4813.143866302607,
          4813.143866302607,
          4813.143866302607,
          4813.143866302607,
          4813.143866302607,
          4785.747480096266,
          4785.747480096266,
          4732.872454718032,
          4732.872454718032,
          4721.822578948142,
          4721.822578948142,
          4657.806356512661,
          4630.501291593677,
          4539.1800042392115,
          4539.1800042392115,
          4539.1800042392115,
          4539.1800042392115,
          4539.1800042392115,
          4539.1800042392115,
          4539.1800042392115,
          4539.1800042392115,
          4539.1800042392115,
          4539.1800042392115,
          4539.1800042392115,
          4539.1800042392115,
          4539.1800042392115,
          4539.1800042392115,
          4539.1800042392115,
          4539.1800042392115,
          4503.8386660330325,
          4447.858716884746,
          4356.537429530281,
          4265.216142175816,
          4265.216142175816,
          4157.730986959608,
          4082.573567466885,
          3991.2522801124196,
          3920.5696037000635,
          3899.9309927579543,
          3733.2696433360543,
          3733.2696433360543,
          3733.2696433360543,
          3733.2696433360543,
          3733.2696433360543,
          3733.2696433360543,
          3663.8654649466607,
          3534.645843340093,
          3489.167842237568,
          3489.167842237568,
          3489.167842237568,
          3489.167842237568,
          3489.167842237568,
          3489.167842237568,
          3352.0032686311624,
          3331.6386215511156,
          3260.681981276697,
          2941.0574755360685,
          2910.738808134385,
          2884.3469560889444,
          2712.7542571499052,
          2621.43296979544,
          2530.1116824409746,
          2347.469107732044,
          2256.147820377577,
          2256.147820377577,
          2256.147820377577,
          2256.147820377577,
          2256.147820377577,
          2256.147820377577,
          2232.5869282401254,
          2210.487176700346,
          2183.090790494007,
          2164.8265330231116,
          1708.220096250785,
          1438.8222985551147,
          1342.9349468329237,
          1140.38433148072,
          628.0719094221713,
          612.3646479972012,
          612.3646479972012,
          612.3646479972012,
          612.3646479972012,
          566.7040043199704,
          566.7040043199704,
          482.04917094238044,
          247.07949857934,
          155.75821122487469,
          -26.88436348405594,
          -26.88436348405594,
          -520.0193151981657,
          -940.0972370287091,
          -1305.3823864465703,
          -1396.7036738010356,
          -1576.3326460272656,
          -2127.273972636758,
          -2309.9165473456887,
          -3460.656089299304,
          -4592.9487312073215,
          -6602.017053005555
         ],
         "yaxis": "y"
        },
        {
         "mode": "text",
         "showlegend": false,
         "text": [
          "R<sup>2</sup>: 0.53<br>Observations: 458"
         ],
         "type": "scatter",
         "x": [
          277000
         ],
         "y": [
          100
         ]
        }
       ],
       "layout": {
        "legend": {
         "tracegroupgap": 0
        },
        "margin": {
         "b": 0,
         "l": 0,
         "r": 0,
         "t": 30
        },
        "paper_bgcolor": "white",
        "plot_bgcolor": "white",
        "showlegend": false,
        "template": {
         "data": {
          "bar": [
           {
            "error_x": {
             "color": "#2a3f5f"
            },
            "error_y": {
             "color": "#2a3f5f"
            },
            "marker": {
             "line": {
              "color": "#E5ECF6",
              "width": 0.5
             },
             "pattern": {
              "fillmode": "overlay",
              "size": 10,
              "solidity": 0.2
             }
            },
            "type": "bar"
           }
          ],
          "barpolar": [
           {
            "marker": {
             "line": {
              "color": "#E5ECF6",
              "width": 0.5
             },
             "pattern": {
              "fillmode": "overlay",
              "size": 10,
              "solidity": 0.2
             }
            },
            "type": "barpolar"
           }
          ],
          "carpet": [
           {
            "aaxis": {
             "endlinecolor": "#2a3f5f",
             "gridcolor": "white",
             "linecolor": "white",
             "minorgridcolor": "white",
             "startlinecolor": "#2a3f5f"
            },
            "baxis": {
             "endlinecolor": "#2a3f5f",
             "gridcolor": "white",
             "linecolor": "white",
             "minorgridcolor": "white",
             "startlinecolor": "#2a3f5f"
            },
            "type": "carpet"
           }
          ],
          "choropleth": [
           {
            "colorbar": {
             "outlinewidth": 0,
             "ticks": ""
            },
            "type": "choropleth"
           }
          ],
          "contour": [
           {
            "colorbar": {
             "outlinewidth": 0,
             "ticks": ""
            },
            "colorscale": [
             [
              0,
              "#0d0887"
             ],
             [
              0.1111111111111111,
              "#46039f"
             ],
             [
              0.2222222222222222,
              "#7201a8"
             ],
             [
              0.3333333333333333,
              "#9c179e"
             ],
             [
              0.4444444444444444,
              "#bd3786"
             ],
             [
              0.5555555555555556,
              "#d8576b"
             ],
             [
              0.6666666666666666,
              "#ed7953"
             ],
             [
              0.7777777777777778,
              "#fb9f3a"
             ],
             [
              0.8888888888888888,
              "#fdca26"
             ],
             [
              1,
              "#f0f921"
             ]
            ],
            "type": "contour"
           }
          ],
          "contourcarpet": [
           {
            "colorbar": {
             "outlinewidth": 0,
             "ticks": ""
            },
            "type": "contourcarpet"
           }
          ],
          "heatmap": [
           {
            "colorbar": {
             "outlinewidth": 0,
             "ticks": ""
            },
            "colorscale": [
             [
              0,
              "#0d0887"
             ],
             [
              0.1111111111111111,
              "#46039f"
             ],
             [
              0.2222222222222222,
              "#7201a8"
             ],
             [
              0.3333333333333333,
              "#9c179e"
             ],
             [
              0.4444444444444444,
              "#bd3786"
             ],
             [
              0.5555555555555556,
              "#d8576b"
             ],
             [
              0.6666666666666666,
              "#ed7953"
             ],
             [
              0.7777777777777778,
              "#fb9f3a"
             ],
             [
              0.8888888888888888,
              "#fdca26"
             ],
             [
              1,
              "#f0f921"
             ]
            ],
            "type": "heatmap"
           }
          ],
          "heatmapgl": [
           {
            "colorbar": {
             "outlinewidth": 0,
             "ticks": ""
            },
            "colorscale": [
             [
              0,
              "#0d0887"
             ],
             [
              0.1111111111111111,
              "#46039f"
             ],
             [
              0.2222222222222222,
              "#7201a8"
             ],
             [
              0.3333333333333333,
              "#9c179e"
             ],
             [
              0.4444444444444444,
              "#bd3786"
             ],
             [
              0.5555555555555556,
              "#d8576b"
             ],
             [
              0.6666666666666666,
              "#ed7953"
             ],
             [
              0.7777777777777778,
              "#fb9f3a"
             ],
             [
              0.8888888888888888,
              "#fdca26"
             ],
             [
              1,
              "#f0f921"
             ]
            ],
            "type": "heatmapgl"
           }
          ],
          "histogram": [
           {
            "marker": {
             "pattern": {
              "fillmode": "overlay",
              "size": 10,
              "solidity": 0.2
             }
            },
            "type": "histogram"
           }
          ],
          "histogram2d": [
           {
            "colorbar": {
             "outlinewidth": 0,
             "ticks": ""
            },
            "colorscale": [
             [
              0,
              "#0d0887"
             ],
             [
              0.1111111111111111,
              "#46039f"
             ],
             [
              0.2222222222222222,
              "#7201a8"
             ],
             [
              0.3333333333333333,
              "#9c179e"
             ],
             [
              0.4444444444444444,
              "#bd3786"
             ],
             [
              0.5555555555555556,
              "#d8576b"
             ],
             [
              0.6666666666666666,
              "#ed7953"
             ],
             [
              0.7777777777777778,
              "#fb9f3a"
             ],
             [
              0.8888888888888888,
              "#fdca26"
             ],
             [
              1,
              "#f0f921"
             ]
            ],
            "type": "histogram2d"
           }
          ],
          "histogram2dcontour": [
           {
            "colorbar": {
             "outlinewidth": 0,
             "ticks": ""
            },
            "colorscale": [
             [
              0,
              "#0d0887"
             ],
             [
              0.1111111111111111,
              "#46039f"
             ],
             [
              0.2222222222222222,
              "#7201a8"
             ],
             [
              0.3333333333333333,
              "#9c179e"
             ],
             [
              0.4444444444444444,
              "#bd3786"
             ],
             [
              0.5555555555555556,
              "#d8576b"
             ],
             [
              0.6666666666666666,
              "#ed7953"
             ],
             [
              0.7777777777777778,
              "#fb9f3a"
             ],
             [
              0.8888888888888888,
              "#fdca26"
             ],
             [
              1,
              "#f0f921"
             ]
            ],
            "type": "histogram2dcontour"
           }
          ],
          "mesh3d": [
           {
            "colorbar": {
             "outlinewidth": 0,
             "ticks": ""
            },
            "type": "mesh3d"
           }
          ],
          "parcoords": [
           {
            "line": {
             "colorbar": {
              "outlinewidth": 0,
              "ticks": ""
             }
            },
            "type": "parcoords"
           }
          ],
          "pie": [
           {
            "automargin": true,
            "type": "pie"
           }
          ],
          "scatter": [
           {
            "fillpattern": {
             "fillmode": "overlay",
             "size": 10,
             "solidity": 0.2
            },
            "type": "scatter"
           }
          ],
          "scatter3d": [
           {
            "line": {
             "colorbar": {
              "outlinewidth": 0,
              "ticks": ""
             }
            },
            "marker": {
             "colorbar": {
              "outlinewidth": 0,
              "ticks": ""
             }
            },
            "type": "scatter3d"
           }
          ],
          "scattercarpet": [
           {
            "marker": {
             "colorbar": {
              "outlinewidth": 0,
              "ticks": ""
             }
            },
            "type": "scattercarpet"
           }
          ],
          "scattergeo": [
           {
            "marker": {
             "colorbar": {
              "outlinewidth": 0,
              "ticks": ""
             }
            },
            "type": "scattergeo"
           }
          ],
          "scattergl": [
           {
            "marker": {
             "colorbar": {
              "outlinewidth": 0,
              "ticks": ""
             }
            },
            "type": "scattergl"
           }
          ],
          "scattermapbox": [
           {
            "marker": {
             "colorbar": {
              "outlinewidth": 0,
              "ticks": ""
             }
            },
            "type": "scattermapbox"
           }
          ],
          "scatterpolar": [
           {
            "marker": {
             "colorbar": {
              "outlinewidth": 0,
              "ticks": ""
             }
            },
            "type": "scatterpolar"
           }
          ],
          "scatterpolargl": [
           {
            "marker": {
             "colorbar": {
              "outlinewidth": 0,
              "ticks": ""
             }
            },
            "type": "scatterpolargl"
           }
          ],
          "scatterternary": [
           {
            "marker": {
             "colorbar": {
              "outlinewidth": 0,
              "ticks": ""
             }
            },
            "type": "scatterternary"
           }
          ],
          "surface": [
           {
            "colorbar": {
             "outlinewidth": 0,
             "ticks": ""
            },
            "colorscale": [
             [
              0,
              "#0d0887"
             ],
             [
              0.1111111111111111,
              "#46039f"
             ],
             [
              0.2222222222222222,
              "#7201a8"
             ],
             [
              0.3333333333333333,
              "#9c179e"
             ],
             [
              0.4444444444444444,
              "#bd3786"
             ],
             [
              0.5555555555555556,
              "#d8576b"
             ],
             [
              0.6666666666666666,
              "#ed7953"
             ],
             [
              0.7777777777777778,
              "#fb9f3a"
             ],
             [
              0.8888888888888888,
              "#fdca26"
             ],
             [
              1,
              "#f0f921"
             ]
            ],
            "type": "surface"
           }
          ],
          "table": [
           {
            "cells": {
             "fill": {
              "color": "#EBF0F8"
             },
             "line": {
              "color": "white"
             }
            },
            "header": {
             "fill": {
              "color": "#C8D4E3"
             },
             "line": {
              "color": "white"
             }
            },
            "type": "table"
           }
          ]
         },
         "layout": {
          "annotationdefaults": {
           "arrowcolor": "#2a3f5f",
           "arrowhead": 0,
           "arrowwidth": 1
          },
          "autotypenumbers": "strict",
          "coloraxis": {
           "colorbar": {
            "outlinewidth": 0,
            "ticks": ""
           }
          },
          "colorscale": {
           "diverging": [
            [
             0,
             "#8e0152"
            ],
            [
             0.1,
             "#c51b7d"
            ],
            [
             0.2,
             "#de77ae"
            ],
            [
             0.3,
             "#f1b6da"
            ],
            [
             0.4,
             "#fde0ef"
            ],
            [
             0.5,
             "#f7f7f7"
            ],
            [
             0.6,
             "#e6f5d0"
            ],
            [
             0.7,
             "#b8e186"
            ],
            [
             0.8,
             "#7fbc41"
            ],
            [
             0.9,
             "#4d9221"
            ],
            [
             1,
             "#276419"
            ]
           ],
           "sequential": [
            [
             0,
             "#0d0887"
            ],
            [
             0.1111111111111111,
             "#46039f"
            ],
            [
             0.2222222222222222,
             "#7201a8"
            ],
            [
             0.3333333333333333,
             "#9c179e"
            ],
            [
             0.4444444444444444,
             "#bd3786"
            ],
            [
             0.5555555555555556,
             "#d8576b"
            ],
            [
             0.6666666666666666,
             "#ed7953"
            ],
            [
             0.7777777777777778,
             "#fb9f3a"
            ],
            [
             0.8888888888888888,
             "#fdca26"
            ],
            [
             1,
             "#f0f921"
            ]
           ],
           "sequentialminus": [
            [
             0,
             "#0d0887"
            ],
            [
             0.1111111111111111,
             "#46039f"
            ],
            [
             0.2222222222222222,
             "#7201a8"
            ],
            [
             0.3333333333333333,
             "#9c179e"
            ],
            [
             0.4444444444444444,
             "#bd3786"
            ],
            [
             0.5555555555555556,
             "#d8576b"
            ],
            [
             0.6666666666666666,
             "#ed7953"
            ],
            [
             0.7777777777777778,
             "#fb9f3a"
            ],
            [
             0.8888888888888888,
             "#fdca26"
            ],
            [
             1,
             "#f0f921"
            ]
           ]
          },
          "colorway": [
           "#636efa",
           "#EF553B",
           "#00cc96",
           "#ab63fa",
           "#FFA15A",
           "#19d3f3",
           "#FF6692",
           "#B6E880",
           "#FF97FF",
           "#FECB52"
          ],
          "font": {
           "color": "#2a3f5f"
          },
          "geo": {
           "bgcolor": "white",
           "lakecolor": "white",
           "landcolor": "#E5ECF6",
           "showlakes": true,
           "showland": true,
           "subunitcolor": "white"
          },
          "hoverlabel": {
           "align": "left"
          },
          "hovermode": "closest",
          "mapbox": {
           "style": "light"
          },
          "paper_bgcolor": "white",
          "plot_bgcolor": "#E5ECF6",
          "polar": {
           "angularaxis": {
            "gridcolor": "white",
            "linecolor": "white",
            "ticks": ""
           },
           "bgcolor": "#E5ECF6",
           "radialaxis": {
            "gridcolor": "white",
            "linecolor": "white",
            "ticks": ""
           }
          },
          "scene": {
           "xaxis": {
            "backgroundcolor": "#E5ECF6",
            "gridcolor": "white",
            "gridwidth": 2,
            "linecolor": "white",
            "showbackground": true,
            "ticks": "",
            "zerolinecolor": "white"
           },
           "yaxis": {
            "backgroundcolor": "#E5ECF6",
            "gridcolor": "white",
            "gridwidth": 2,
            "linecolor": "white",
            "showbackground": true,
            "ticks": "",
            "zerolinecolor": "white"
           },
           "zaxis": {
            "backgroundcolor": "#E5ECF6",
            "gridcolor": "white",
            "gridwidth": 2,
            "linecolor": "white",
            "showbackground": true,
            "ticks": "",
            "zerolinecolor": "white"
           }
          },
          "shapedefaults": {
           "line": {
            "color": "#2a3f5f"
           }
          },
          "ternary": {
           "aaxis": {
            "gridcolor": "white",
            "linecolor": "white",
            "ticks": ""
           },
           "baxis": {
            "gridcolor": "white",
            "linecolor": "white",
            "ticks": ""
           },
           "bgcolor": "#E5ECF6",
           "caxis": {
            "gridcolor": "white",
            "linecolor": "white",
            "ticks": ""
           }
          },
          "title": {
           "x": 0.05
          },
          "xaxis": {
           "automargin": true,
           "gridcolor": "white",
           "linecolor": "white",
           "ticks": "",
           "title": {
            "standoff": 15
           },
           "zerolinecolor": "white",
           "zerolinewidth": 2
          },
          "yaxis": {
           "automargin": true,
           "gridcolor": "white",
           "linecolor": "white",
           "ticks": "",
           "title": {
            "standoff": 15
           },
           "zerolinecolor": "white",
           "zerolinewidth": 2
          }
         }
        },
        "title": {
         "text": "kia sportage Price vs Mileage",
         "x": 0.01,
         "xanchor": "left"
        },
        "xaxis": {
         "anchor": "y",
         "domain": [
          0,
          1
         ],
         "linecolor": "black",
         "linewidth": 1,
         "mirror": true,
         "showgrid": false,
         "showline": true,
         "title": {
          "text": "Mileage"
         }
        },
        "yaxis": {
         "anchor": "x",
         "domain": [
          0,
          1
         ],
         "linecolor": "black",
         "linewidth": 1,
         "mirror": true,
         "showgrid": false,
         "showline": true,
         "title": {
          "text": "Price"
         }
        }
       }
      }
     },
     "metadata": {},
     "output_type": "display_data"
    },
    {
     "data": {
      "application/vnd.plotly.v1+json": {
       "config": {
        "plotlyServerURL": "https://plot.ly"
       },
       "data": [
        {
         "hovertemplate": "odometer=%{x}<br>price=%{y}<extra></extra>",
         "legendgroup": "",
         "marker": {
          "color": "#636efa",
          "symbol": "circle"
         },
         "mode": "markers",
         "name": "",
         "orientation": "v",
         "showlegend": false,
         "type": "scatter",
         "x": [
          153000,
          40000,
          230000,
          125000,
          104181,
          99100,
          78000,
          24300,
          95000,
          109900,
          97620,
          120000,
          28000,
          179000,
          205000,
          138000,
          52400,
          111631,
          143000,
          210400,
          135000,
          92924,
          121255,
          20200,
          143000,
          90549,
          31580,
          133000,
          134320,
          140000,
          180500,
          149990,
          71900,
          203000,
          136000,
          44000,
          117000,
          85000,
          20000,
          133000,
          168223,
          155387,
          157000,
          27300,
          57200,
          55000,
          142000,
          150100,
          91000,
          143000,
          155000,
          155000,
          155000,
          122000,
          154000,
          84000,
          136000,
          198500,
          57000,
          277000,
          180000,
          180000,
          180000,
          180000,
          180000,
          24300,
          173121,
          117353,
          93000,
          76000,
          114000,
          29500,
          14634,
          152879,
          175000,
          48052,
          168000,
          221967,
          149000,
          155000,
          155000,
          19950,
          43452,
          48000,
          20000,
          34000,
          105000,
          143000,
          161774,
          122000,
          132500,
          48889,
          101000,
          123000,
          137000,
          38490,
          88724,
          149000,
          50400,
          145900,
          104000,
          109900,
          92100,
          60414,
          125000,
          150862,
          255000,
          180800,
          125000,
          153701,
          199427,
          166000,
          93000,
          54200,
          118000,
          99100,
          95462,
          109900,
          138000,
          104000,
          67807,
          220000,
          228000,
          132000,
          140000,
          20000,
          33000,
          99000,
          152300,
          125000,
          129000,
          148000,
          134000,
          131500,
          192218,
          118000,
          202000,
          177000,
          118000,
          152000,
          106000,
          148225,
          63000,
          78245,
          30332,
          181000,
          35000,
          90000,
          91212,
          15620,
          42000,
          172500,
          60700,
          99000,
          38490,
          100245,
          19452,
          93000,
          85000,
          113459,
          104000,
          37000,
          137000,
          50450,
          140000,
          59000,
          114000,
          50450,
          86000,
          108000,
          130000,
          19950,
          8221,
          19268,
          93000,
          62450,
          60500,
          149000,
          137000,
          84000,
          5456,
          99000,
          127000,
          76550,
          155000,
          29000,
          99100,
          138000,
          138000,
          138000,
          138000,
          138000,
          138000,
          138000,
          138000,
          138000,
          148252,
          148252,
          148252,
          148252,
          148252,
          148252,
          148252,
          148252,
          148252,
          148252,
          148252,
          148252,
          148252,
          148252,
          190000,
          152000,
          152000,
          90000,
          90000,
          155000,
          155000,
          155000,
          155000,
          43782,
          16040,
          16040,
          16040,
          16040,
          16040,
          18284,
          18284,
          18284,
          18284,
          18284,
          18284,
          18284,
          18284,
          93500,
          93500,
          93500,
          93500,
          93500,
          62000,
          62000,
          62000,
          150862,
          150862,
          150862,
          150862,
          125000,
          125000,
          57200,
          57200,
          57200,
          60414,
          60414,
          60414,
          60414,
          48899,
          67000,
          67000,
          24300,
          24300,
          24300,
          24300,
          24300,
          24300,
          155000,
          155000,
          155000,
          155000,
          155000,
          155000,
          43452,
          166498,
          166498,
          166498,
          166498,
          166498,
          166498,
          162000,
          30000,
          150862,
          215000,
          96000,
          138000,
          28112,
          19950,
          104181,
          38490,
          28131,
          33056,
          176000,
          114000,
          20000,
          41150,
          138000,
          49000,
          137000,
          109900,
          107000,
          20000,
          120000,
          153000,
          40000,
          159177,
          83000,
          35800,
          180258,
          104000,
          108000,
          134000,
          20000,
          68000,
          164585,
          39000,
          117000,
          160000,
          108000,
          19750,
          180000,
          120000,
          96500,
          99000,
          149000,
          130763,
          116000,
          25000,
          134000,
          114000,
          114000,
          114000,
          114000,
          114000,
          114000,
          132000,
          84717,
          152000,
          186000,
          198000,
          198000,
          198000,
          198000,
          156000,
          89600,
          89600,
          89600,
          89600,
          104600,
          136000,
          136000,
          138585,
          152000,
          152000,
          152000,
          152000,
          90000,
          90000,
          90000,
          90000,
          90000,
          90000,
          90000,
          90000,
          90000,
          90000,
          90000,
          90000,
          90000,
          89600,
          89600,
          89600,
          89600,
          89100,
          28850,
          20200,
          65000,
          136000,
          158000,
          136000,
          19950,
          28850,
          28850,
          28850,
          28850,
          28850,
          152879,
          43340,
          38490,
          70000,
          70000,
          70000,
          70000,
          90600,
          138000,
          138000,
          97600,
          97600,
          97600,
          97600,
          97600,
          97600,
          97600,
          97600,
          97600,
          62000,
          62000,
          62000,
          62000,
          62000,
          62000,
          62000,
          51908,
          51908,
          163825,
          163825,
          163825,
          163825,
          163825,
          163825,
          70000,
          70000,
          70000,
          43782,
          43782,
          43782,
          43782,
          43782,
          62000,
          62000,
          62000,
          62000,
          125000,
          125000,
          125000,
          148000,
          100000,
          169000,
          188950,
          99000,
          48000,
          60500,
          20000,
          54000,
          117000,
          205000,
          161000,
          132500,
          158000,
          198500,
          99100,
          172832,
          87512,
          30450,
          149000,
          242601,
          19950,
          21000,
          131500,
          197828,
          219000,
          152300
         ],
         "xaxis": "x",
         "y": [
          5800,
          8700,
          1000,
          2600,
          3800,
          11700,
          4900,
          25000,
          2500,
          4400,
          7400,
          8900,
          13900,
          700,
          3500,
          4800,
          9200,
          7500,
          2000,
          4200,
          1000,
          5850,
          1750,
          14500,
          5950,
          8500,
          10500,
          4500,
          800,
          3000,
          4200,
          9000,
          6500,
          2900,
          8500,
          11250,
          5800,
          13000,
          23500,
          2800,
          10000,
          7300,
          3800,
          19950,
          12900,
          11900,
          19500,
          4300,
          9750,
          8000,
          4500,
          4500,
          4500,
          9300,
          5000,
          14500,
          9900,
          3200,
          9500,
          3000,
          3500,
          3500,
          3500,
          3500,
          3500,
          25000,
          4590,
          4000,
          9333,
          4600,
          9860,
          20895,
          25000,
          8600,
          4000,
          13500,
          3000,
          900,
          2800,
          2950,
          2950,
          16200,
          13500,
          11300,
          16500,
          15350,
          10500,
          7200,
          5000,
          4500,
          3700,
          13500,
          13500,
          6950,
          7500,
          12250,
          15500,
          6990,
          21500,
          4000,
          11000,
          3900,
          15000,
          20950,
          2600,
          4950,
          2000,
          5000,
          4500,
          3750,
          1000,
          2500,
          4800,
          9500,
          7800,
          11700,
          11499,
          3900,
          3200,
          9500,
          12700,
          1500,
          3650,
          1200,
          7000,
          16500,
          23999,
          9950,
          4500,
          2600,
          4500,
          7000,
          3000,
          2400,
          4800,
          2000,
          2500,
          3500,
          2000,
          1200,
          3950,
          3750,
          5000,
          12000,
          13375,
          4200,
          18900,
          3500,
          12500,
          30000,
          11200,
          5500,
          19000,
          10800,
          12250,
          7500,
          13500,
          13900,
          9800,
          7250,
          10000,
          23500,
          7500,
          20000,
          6200,
          9000,
          2800,
          20000,
          5500,
          6575,
          7500,
          16400,
          31800,
          48000,
          15700,
          15850,
          13500,
          6450,
          4500,
          7500,
          19897,
          10850,
          2500,
          6500,
          4800,
          14900,
          11700,
          4900,
          4900,
          4900,
          4900,
          4900,
          4900,
          4900,
          4900,
          4900,
          4250,
          4250,
          4250,
          4250,
          4250,
          4250,
          4250,
          4250,
          4250,
          4250,
          4250,
          4250,
          4250,
          4250,
          2500,
          2900,
          2900,
          3500,
          3500,
          2950,
          2950,
          2950,
          2950,
          11500,
          13500,
          13500,
          13500,
          13500,
          13500,
          18790,
          18790,
          18790,
          18790,
          18790,
          18790,
          18790,
          18790,
          12995,
          12995,
          12995,
          12995,
          12995,
          11999,
          11999,
          11999,
          4250,
          4250,
          4250,
          4250,
          6300,
          6300,
          12900,
          12900,
          12900,
          18500,
          18500,
          18500,
          18500,
          13500,
          4900,
          4900,
          25000,
          25000,
          25000,
          25000,
          25000,
          25000,
          4500,
          4500,
          4500,
          4500,
          4500,
          4500,
          13500,
          5900,
          5900,
          5900,
          5900,
          5900,
          5900,
          5250,
          13500,
          4450,
          3800,
          11299,
          4900,
          15400,
          16400,
          4200,
          12250,
          21500,
          13500,
          6700,
          6200,
          16500,
          3500,
          4500,
          15900,
          7500,
          3900,
          6500,
          16500,
          8200,
          7000,
          8900,
          3000,
          14500,
          18500,
          3800,
          12000,
          6575,
          3000,
          24995,
          14200,
          2800,
          12500,
          5800,
          5700,
          6575,
          13500,
          5000,
          8200,
          12500,
          10850,
          6990,
          2250,
          4500,
          19800,
          2900,
          1800,
          1800,
          1800,
          1800,
          1800,
          1800,
          1200,
          6000,
          2900,
          5500,
          3300,
          3300,
          3300,
          3300,
          1500,
          1000,
          1000,
          1000,
          1000,
          7450,
          6500,
          6500,
          3200,
          2900,
          2900,
          2900,
          2900,
          3500,
          3500,
          3500,
          3500,
          3500,
          3500,
          3500,
          3500,
          3500,
          3500,
          3500,
          3500,
          3500,
          1000,
          1000,
          1000,
          1000,
          7500,
          29900,
          12000,
          29000,
          8500,
          2300,
          7500,
          16500,
          28950,
          28950,
          28950,
          28950,
          28950,
          8200,
          11500,
          12250,
          11000,
          11000,
          11000,
          11000,
          15600,
          4600,
          4600,
          8800,
          8800,
          8800,
          8800,
          8800,
          8800,
          8800,
          8800,
          8800,
          18500,
          18500,
          18500,
          18500,
          18500,
          18500,
          18500,
          16499,
          16499,
          15000,
          15000,
          15000,
          15000,
          15000,
          15000,
          11000,
          11000,
          11000,
          11500,
          11500,
          11500,
          11500,
          11500,
          11999,
          11999,
          11999,
          11999,
          6300,
          6300,
          6300,
          4900,
          100,
          4300,
          4750,
          9950,
          10700,
          11400,
          16500,
          17000,
          5800,
          3000,
          4500,
          3900,
          5900,
          3200,
          11700,
          3000,
          16999,
          19750,
          6999,
          1975,
          16500,
          17000,
          2500,
          2495,
          2000,
          4000
         ],
         "yaxis": "y"
        },
        {
         "hovertemplate": "<b>OLS trendline</b><br>price = -0.0913213 * odometer + 18694<br>R<sup>2</sup>=0.525632<br><br>odometer=%{x}<br>price=%{y} <b>(trend)</b><extra></extra>",
         "legendgroup": "",
         "marker": {
          "color": "#636efa",
          "symbol": "circle"
         },
         "mode": "lines",
         "name": "",
         "showlegend": false,
         "type": "scatter",
         "x": [
          5456,
          8221,
          14634,
          15620,
          16040,
          16040,
          16040,
          16040,
          16040,
          18284,
          18284,
          18284,
          18284,
          18284,
          18284,
          18284,
          18284,
          19268,
          19452,
          19750,
          19950,
          19950,
          19950,
          19950,
          19950,
          20000,
          20000,
          20000,
          20000,
          20000,
          20000,
          20000,
          20200,
          20200,
          21000,
          24300,
          24300,
          24300,
          24300,
          24300,
          24300,
          24300,
          24300,
          25000,
          27300,
          28000,
          28112,
          28131,
          28850,
          28850,
          28850,
          28850,
          28850,
          28850,
          29000,
          29500,
          30000,
          30332,
          30450,
          31580,
          33000,
          33056,
          34000,
          35000,
          35800,
          37000,
          38490,
          38490,
          38490,
          38490,
          39000,
          40000,
          40000,
          41150,
          42000,
          43340,
          43452,
          43452,
          43782,
          43782,
          43782,
          43782,
          43782,
          43782,
          44000,
          48000,
          48000,
          48052,
          48889,
          48899,
          49000,
          50400,
          50450,
          50450,
          51908,
          51908,
          52400,
          54000,
          54200,
          55000,
          57000,
          57200,
          57200,
          57200,
          57200,
          59000,
          60414,
          60414,
          60414,
          60414,
          60414,
          60500,
          60500,
          60700,
          62000,
          62000,
          62000,
          62000,
          62000,
          62000,
          62000,
          62000,
          62000,
          62000,
          62000,
          62000,
          62000,
          62000,
          62450,
          63000,
          65000,
          67000,
          67000,
          67807,
          68000,
          70000,
          70000,
          70000,
          70000,
          70000,
          70000,
          70000,
          71900,
          76000,
          76550,
          78000,
          78245,
          83000,
          84000,
          84000,
          84717,
          85000,
          85000,
          86000,
          87512,
          88724,
          89100,
          89600,
          89600,
          89600,
          89600,
          89600,
          89600,
          89600,
          89600,
          90000,
          90000,
          90000,
          90000,
          90000,
          90000,
          90000,
          90000,
          90000,
          90000,
          90000,
          90000,
          90000,
          90000,
          90000,
          90000,
          90549,
          90600,
          91000,
          91212,
          92100,
          92924,
          93000,
          93000,
          93000,
          93000,
          93500,
          93500,
          93500,
          93500,
          93500,
          95000,
          95462,
          96000,
          96500,
          97600,
          97600,
          97600,
          97600,
          97600,
          97600,
          97600,
          97600,
          97600,
          97620,
          99000,
          99000,
          99000,
          99000,
          99000,
          99100,
          99100,
          99100,
          99100,
          100000,
          100245,
          101000,
          104000,
          104000,
          104000,
          104000,
          104181,
          104181,
          104600,
          105000,
          106000,
          107000,
          108000,
          108000,
          108000,
          109900,
          109900,
          109900,
          109900,
          111631,
          113459,
          114000,
          114000,
          114000,
          114000,
          114000,
          114000,
          114000,
          114000,
          114000,
          116000,
          117000,
          117000,
          117000,
          117353,
          118000,
          118000,
          118000,
          120000,
          120000,
          120000,
          121255,
          122000,
          122000,
          123000,
          125000,
          125000,
          125000,
          125000,
          125000,
          125000,
          125000,
          125000,
          125000,
          127000,
          129000,
          130000,
          130763,
          131500,
          131500,
          132000,
          132000,
          132500,
          132500,
          133000,
          133000,
          134000,
          134000,
          134000,
          134320,
          135000,
          136000,
          136000,
          136000,
          136000,
          136000,
          136000,
          137000,
          137000,
          137000,
          137000,
          138000,
          138000,
          138000,
          138000,
          138000,
          138000,
          138000,
          138000,
          138000,
          138000,
          138000,
          138000,
          138000,
          138000,
          138000,
          138585,
          140000,
          140000,
          140000,
          142000,
          143000,
          143000,
          143000,
          143000,
          145900,
          148000,
          148000,
          148225,
          148252,
          148252,
          148252,
          148252,
          148252,
          148252,
          148252,
          148252,
          148252,
          148252,
          148252,
          148252,
          148252,
          148252,
          149000,
          149000,
          149000,
          149000,
          149000,
          149990,
          150100,
          150862,
          150862,
          150862,
          150862,
          150862,
          150862,
          152000,
          152000,
          152000,
          152000,
          152000,
          152000,
          152000,
          152000,
          152300,
          152300,
          152879,
          152879,
          153000,
          153000,
          153701,
          154000,
          155000,
          155000,
          155000,
          155000,
          155000,
          155000,
          155000,
          155000,
          155000,
          155000,
          155000,
          155000,
          155000,
          155000,
          155000,
          155000,
          155387,
          156000,
          157000,
          158000,
          158000,
          159177,
          160000,
          161000,
          161774,
          162000,
          163825,
          163825,
          163825,
          163825,
          163825,
          163825,
          164585,
          166000,
          166498,
          166498,
          166498,
          166498,
          166498,
          166498,
          168000,
          168223,
          169000,
          172500,
          172832,
          173121,
          175000,
          176000,
          177000,
          179000,
          180000,
          180000,
          180000,
          180000,
          180000,
          180000,
          180258,
          180500,
          180800,
          181000,
          186000,
          188950,
          190000,
          192218,
          197828,
          198000,
          198000,
          198000,
          198000,
          198500,
          198500,
          199427,
          202000,
          203000,
          205000,
          205000,
          210400,
          215000,
          219000,
          220000,
          221967,
          228000,
          230000,
          242601,
          255000,
          277000
         ],
         "xaxis": "x",
         "y": [
          18195.73060037537,
          17943.227240840275,
          17357.583825036087,
          17267.541035704584,
          17229.18609501571,
          17229.18609501571,
          17229.18609501571,
          17229.18609501571,
          17229.18609501571,
          17024.26112619229,
          17024.26112619229,
          17024.26112619229,
          17024.26112619229,
          17024.26112619229,
          17024.26112619229,
          17024.26112619229,
          17024.26112619229,
          16934.400979435497,
          16917.597862562274,
          16890.384118930644,
          16872.11986145975,
          16872.11986145975,
          16872.11986145975,
          16872.11986145975,
          16872.11986145975,
          16867.553797092027,
          16867.553797092027,
          16867.553797092027,
          16867.553797092027,
          16867.553797092027,
          16867.553797092027,
          16867.553797092027,
          16849.289539621135,
          16849.289539621135,
          16776.23250973756,
          16474.872261467826,
          16474.872261467826,
          16474.872261467826,
          16474.872261467826,
          16474.872261467826,
          16474.872261467826,
          16474.872261467826,
          16474.872261467826,
          16410.9473603197,
          16200.90839940443,
          16136.983498256304,
          16126.755514072604,
          16125.02040961287,
          16059.360404005009,
          16059.360404005009,
          16059.360404005009,
          16059.360404005009,
          16059.360404005009,
          16059.360404005009,
          16045.662210901839,
          16000.001567224606,
          15954.340923547374,
          15924.02225614569,
          15913.246344237865,
          15810.053289527319,
          15680.377061483978,
          15675.263069392127,
          15589.055774129512,
          15497.734486775047,
          15424.677456891475,
          15315.091912066116,
          15179.023193907964,
          15179.023193907964,
          15179.023193907964,
          15179.023193907964,
          15132.449337357186,
          15041.12805000272,
          15041.12805000272,
          14936.108569545086,
          14858.48547529379,
          14736.114950238807,
          14725.886966055106,
          14725.886966055106,
          14695.750941228132,
          14695.750941228132,
          14695.750941228132,
          14695.750941228132,
          14695.750941228132,
          14695.750941228132,
          14675.84290058486,
          14310.557751166998,
          14310.557751166998,
          14305.809044224567,
          14229.373126708879,
          14228.459913835333,
          14219.236463812533,
          14091.38666151628,
          14086.820597148559,
          14086.820597148559,
          13953.674160185748,
          13953.674160185748,
          13908.74408680735,
          13762.630027040206,
          13744.365769569315,
          13671.30873968574,
          13488.66616497681,
          13470.401907505919,
          13470.401907505919,
          13470.401907505919,
          13470.401907505919,
          13306.02359026788,
          13176.895289948665,
          13176.895289948665,
          13176.895289948665,
          13176.895289948665,
          13176.895289948665,
          13169.041659236182,
          13169.041659236182,
          13150.777401765288,
          13032.059728204484,
          13032.059728204484,
          13032.059728204484,
          13032.059728204484,
          13032.059728204484,
          13032.059728204484,
          13032.059728204484,
          13032.059728204484,
          13032.059728204484,
          13032.059728204484,
          13032.059728204484,
          13032.059728204484,
          13032.059728204484,
          13032.059728204484,
          12990.965148894975,
          12940.738440850018,
          12758.095866141088,
          12575.453291432157,
          12575.453291432157,
          12501.757012537104,
          12484.132004077692,
          12301.489429368761,
          12301.489429368761,
          12301.489429368761,
          12301.489429368761,
          12301.489429368761,
          12301.489429368761,
          12301.489429368761,
          12127.978983395278,
          11753.56170524197,
          11703.334997197013,
          11570.919130533039,
          11548.545415131195,
          11114.312693760712,
          11022.991406406247,
          11022.991406406247,
          10957.514043373096,
          10931.670119051782,
          10931.670119051782,
          10840.348831697316,
          10702.271045217365,
          10591.589644943753,
          10557.252840898474,
          10511.592197221242,
          10511.592197221242,
          10511.592197221242,
          10511.592197221242,
          10511.592197221242,
          10511.592197221242,
          10511.592197221242,
          10511.592197221242,
          10475.063682279455,
          10475.063682279455,
          10475.063682279455,
          10475.063682279455,
          10475.063682279455,
          10475.063682279455,
          10475.063682279455,
          10475.063682279455,
          10475.063682279455,
          10475.063682279455,
          10475.063682279455,
          10475.063682279455,
          10475.063682279455,
          10475.063682279455,
          10475.063682279455,
          10475.063682279455,
          10424.928295521853,
          10420.270909866776,
          10383.74239492499,
          10364.382282005843,
          10283.288978835079,
          10208.040238054999,
          10201.099820216059,
          10201.099820216059,
          10201.099820216059,
          10201.099820216059,
          10155.439176538826,
          10155.439176538826,
          10155.439176538826,
          10155.439176538826,
          10155.439176538826,
          10018.457245507128,
          9976.266810749366,
          9927.135958152663,
          9881.47531447543,
          9781.02189838552,
          9781.02189838552,
          9781.02189838552,
          9781.02189838552,
          9781.02189838552,
          9781.02189838552,
          9781.02189838552,
          9781.02189838552,
          9781.02189838552,
          9779.19547263843,
          9653.172096089267,
          9653.172096089267,
          9653.172096089267,
          9653.172096089267,
          9653.172096089267,
          9644.039967353821,
          9644.039967353821,
          9644.039967353821,
          9644.039967353821,
          9561.850808734802,
          9539.477093332958,
          9470.529521380337,
          9196.56565931694,
          9196.56565931694,
          9196.56565931694,
          9196.56565931694,
          9180.036506305783,
          9180.036506305783,
          9141.772886904262,
          9105.244371962475,
          9013.92308460801,
          8922.601797253545,
          8831.28050989908,
          8831.28050989908,
          8831.28050989908,
          8657.770063925596,
          8657.770063925596,
          8657.770063925596,
          8657.770063925596,
          8499.692915515017,
          8332.757602231053,
          8283.352785772287,
          8283.352785772287,
          8283.352785772287,
          8283.352785772287,
          8283.352785772287,
          8283.352785772287,
          8283.352785772287,
          8283.352785772287,
          8283.352785772287,
          8100.710211063357,
          8009.3889237088915,
          8009.3889237088915,
          8009.3889237088915,
          7977.152509272766,
          7918.067636354426,
          7918.067636354426,
          7918.067636354426,
          7735.425061645496,
          7735.425061645496,
          7735.425061645496,
          7620.816846015643,
          7552.782486936565,
          7552.782486936565,
          7461.4611995821,
          7278.818624873169,
          7278.818624873169,
          7278.818624873169,
          7278.818624873169,
          7278.818624873169,
          7278.818624873169,
          7278.818624873169,
          7278.818624873169,
          7278.818624873169,
          7096.176050164238,
          6913.533475455308,
          6822.2121881008425,
          6752.5340458493865,
          6685.2302570691445,
          6685.2302570691445,
          6639.569613391912,
          6639.569613391912,
          6593.908969714679,
          6593.908969714679,
          6548.2483260374465,
          6548.2483260374465,
          6456.927038682981,
          6456.927038682981,
          6456.927038682981,
          6427.704226729553,
          6365.605751328518,
          6274.284463974052,
          6274.284463974052,
          6274.284463974052,
          6274.284463974052,
          6274.284463974052,
          6274.284463974052,
          6182.963176619587,
          6182.963176619587,
          6182.963176619587,
          6182.963176619587,
          6091.641889265122,
          6091.641889265122,
          6091.641889265122,
          6091.641889265122,
          6091.641889265122,
          6091.641889265122,
          6091.641889265122,
          6091.641889265122,
          6091.641889265122,
          6091.641889265122,
          6091.641889265122,
          6091.641889265122,
          6091.641889265122,
          6091.641889265122,
          6091.641889265122,
          6038.218936162759,
          5908.999314556191,
          5908.999314556191,
          5908.999314556191,
          5726.3567398472605,
          5635.035452492795,
          5635.035452492795,
          5635.035452492795,
          5635.035452492795,
          5370.203719164845,
          5178.429015720469,
          5178.429015720469,
          5157.881726065712,
          5155.416051307142,
          5155.416051307142,
          5155.416051307142,
          5155.416051307142,
          5155.416051307142,
          5155.416051307142,
          5155.416051307142,
          5155.416051307142,
          5155.416051307142,
          5155.416051307142,
          5155.416051307142,
          5155.416051307142,
          5155.416051307142,
          5155.416051307142,
          5087.107728366003,
          5087.107728366003,
          5087.107728366003,
          5087.107728366003,
          5087.107728366003,
          4996.699653885082,
          4986.65431227609,
          4917.067491311987,
          4917.067491311987,
          4917.067491311987,
          4917.067491311987,
          4917.067491311987,
          4917.067491311987,
          4813.143866302607,
          4813.143866302607,
          4813.143866302607,
          4813.143866302607,
          4813.143866302607,
          4813.143866302607,
          4813.143866302607,
          4813.143866302607,
          4785.747480096266,
          4785.747480096266,
          4732.872454718032,
          4732.872454718032,
          4721.822578948142,
          4721.822578948142,
          4657.806356512661,
          4630.501291593677,
          4539.1800042392115,
          4539.1800042392115,
          4539.1800042392115,
          4539.1800042392115,
          4539.1800042392115,
          4539.1800042392115,
          4539.1800042392115,
          4539.1800042392115,
          4539.1800042392115,
          4539.1800042392115,
          4539.1800042392115,
          4539.1800042392115,
          4539.1800042392115,
          4539.1800042392115,
          4539.1800042392115,
          4539.1800042392115,
          4503.8386660330325,
          4447.858716884746,
          4356.537429530281,
          4265.216142175816,
          4265.216142175816,
          4157.730986959608,
          4082.573567466885,
          3991.2522801124196,
          3920.5696037000635,
          3899.9309927579543,
          3733.2696433360543,
          3733.2696433360543,
          3733.2696433360543,
          3733.2696433360543,
          3733.2696433360543,
          3733.2696433360543,
          3663.8654649466607,
          3534.645843340093,
          3489.167842237568,
          3489.167842237568,
          3489.167842237568,
          3489.167842237568,
          3489.167842237568,
          3489.167842237568,
          3352.0032686311624,
          3331.6386215511156,
          3260.681981276697,
          2941.0574755360685,
          2910.738808134385,
          2884.3469560889444,
          2712.7542571499052,
          2621.43296979544,
          2530.1116824409746,
          2347.469107732044,
          2256.147820377577,
          2256.147820377577,
          2256.147820377577,
          2256.147820377577,
          2256.147820377577,
          2256.147820377577,
          2232.5869282401254,
          2210.487176700346,
          2183.090790494007,
          2164.8265330231116,
          1708.220096250785,
          1438.8222985551147,
          1342.9349468329237,
          1140.38433148072,
          628.0719094221713,
          612.3646479972012,
          612.3646479972012,
          612.3646479972012,
          612.3646479972012,
          566.7040043199704,
          566.7040043199704,
          482.04917094238044,
          247.07949857934,
          155.75821122487469,
          -26.88436348405594,
          -26.88436348405594,
          -520.0193151981657,
          -940.0972370287091,
          -1305.3823864465703,
          -1396.7036738010356,
          -1576.3326460272656,
          -2127.273972636758,
          -2309.9165473456887,
          -3460.656089299304,
          -4592.9487312073215,
          -6602.017053005555
         ],
         "yaxis": "y"
        },
        {
         "mode": "text",
         "showlegend": false,
         "text": [
          "R<sup>2</sup>: 0.53<br>Observations: 458"
         ],
         "type": "scatter",
         "x": [
          277000
         ],
         "y": [
          100
         ]
        }
       ],
       "layout": {
        "legend": {
         "tracegroupgap": 0
        },
        "margin": {
         "b": 0,
         "l": 0,
         "r": 0,
         "t": 30
        },
        "paper_bgcolor": "white",
        "plot_bgcolor": "white",
        "showlegend": false,
        "template": {
         "data": {
          "bar": [
           {
            "error_x": {
             "color": "#2a3f5f"
            },
            "error_y": {
             "color": "#2a3f5f"
            },
            "marker": {
             "line": {
              "color": "#E5ECF6",
              "width": 0.5
             },
             "pattern": {
              "fillmode": "overlay",
              "size": 10,
              "solidity": 0.2
             }
            },
            "type": "bar"
           }
          ],
          "barpolar": [
           {
            "marker": {
             "line": {
              "color": "#E5ECF6",
              "width": 0.5
             },
             "pattern": {
              "fillmode": "overlay",
              "size": 10,
              "solidity": 0.2
             }
            },
            "type": "barpolar"
           }
          ],
          "carpet": [
           {
            "aaxis": {
             "endlinecolor": "#2a3f5f",
             "gridcolor": "white",
             "linecolor": "white",
             "minorgridcolor": "white",
             "startlinecolor": "#2a3f5f"
            },
            "baxis": {
             "endlinecolor": "#2a3f5f",
             "gridcolor": "white",
             "linecolor": "white",
             "minorgridcolor": "white",
             "startlinecolor": "#2a3f5f"
            },
            "type": "carpet"
           }
          ],
          "choropleth": [
           {
            "colorbar": {
             "outlinewidth": 0,
             "ticks": ""
            },
            "type": "choropleth"
           }
          ],
          "contour": [
           {
            "colorbar": {
             "outlinewidth": 0,
             "ticks": ""
            },
            "colorscale": [
             [
              0,
              "#0d0887"
             ],
             [
              0.1111111111111111,
              "#46039f"
             ],
             [
              0.2222222222222222,
              "#7201a8"
             ],
             [
              0.3333333333333333,
              "#9c179e"
             ],
             [
              0.4444444444444444,
              "#bd3786"
             ],
             [
              0.5555555555555556,
              "#d8576b"
             ],
             [
              0.6666666666666666,
              "#ed7953"
             ],
             [
              0.7777777777777778,
              "#fb9f3a"
             ],
             [
              0.8888888888888888,
              "#fdca26"
             ],
             [
              1,
              "#f0f921"
             ]
            ],
            "type": "contour"
           }
          ],
          "contourcarpet": [
           {
            "colorbar": {
             "outlinewidth": 0,
             "ticks": ""
            },
            "type": "contourcarpet"
           }
          ],
          "heatmap": [
           {
            "colorbar": {
             "outlinewidth": 0,
             "ticks": ""
            },
            "colorscale": [
             [
              0,
              "#0d0887"
             ],
             [
              0.1111111111111111,
              "#46039f"
             ],
             [
              0.2222222222222222,
              "#7201a8"
             ],
             [
              0.3333333333333333,
              "#9c179e"
             ],
             [
              0.4444444444444444,
              "#bd3786"
             ],
             [
              0.5555555555555556,
              "#d8576b"
             ],
             [
              0.6666666666666666,
              "#ed7953"
             ],
             [
              0.7777777777777778,
              "#fb9f3a"
             ],
             [
              0.8888888888888888,
              "#fdca26"
             ],
             [
              1,
              "#f0f921"
             ]
            ],
            "type": "heatmap"
           }
          ],
          "heatmapgl": [
           {
            "colorbar": {
             "outlinewidth": 0,
             "ticks": ""
            },
            "colorscale": [
             [
              0,
              "#0d0887"
             ],
             [
              0.1111111111111111,
              "#46039f"
             ],
             [
              0.2222222222222222,
              "#7201a8"
             ],
             [
              0.3333333333333333,
              "#9c179e"
             ],
             [
              0.4444444444444444,
              "#bd3786"
             ],
             [
              0.5555555555555556,
              "#d8576b"
             ],
             [
              0.6666666666666666,
              "#ed7953"
             ],
             [
              0.7777777777777778,
              "#fb9f3a"
             ],
             [
              0.8888888888888888,
              "#fdca26"
             ],
             [
              1,
              "#f0f921"
             ]
            ],
            "type": "heatmapgl"
           }
          ],
          "histogram": [
           {
            "marker": {
             "pattern": {
              "fillmode": "overlay",
              "size": 10,
              "solidity": 0.2
             }
            },
            "type": "histogram"
           }
          ],
          "histogram2d": [
           {
            "colorbar": {
             "outlinewidth": 0,
             "ticks": ""
            },
            "colorscale": [
             [
              0,
              "#0d0887"
             ],
             [
              0.1111111111111111,
              "#46039f"
             ],
             [
              0.2222222222222222,
              "#7201a8"
             ],
             [
              0.3333333333333333,
              "#9c179e"
             ],
             [
              0.4444444444444444,
              "#bd3786"
             ],
             [
              0.5555555555555556,
              "#d8576b"
             ],
             [
              0.6666666666666666,
              "#ed7953"
             ],
             [
              0.7777777777777778,
              "#fb9f3a"
             ],
             [
              0.8888888888888888,
              "#fdca26"
             ],
             [
              1,
              "#f0f921"
             ]
            ],
            "type": "histogram2d"
           }
          ],
          "histogram2dcontour": [
           {
            "colorbar": {
             "outlinewidth": 0,
             "ticks": ""
            },
            "colorscale": [
             [
              0,
              "#0d0887"
             ],
             [
              0.1111111111111111,
              "#46039f"
             ],
             [
              0.2222222222222222,
              "#7201a8"
             ],
             [
              0.3333333333333333,
              "#9c179e"
             ],
             [
              0.4444444444444444,
              "#bd3786"
             ],
             [
              0.5555555555555556,
              "#d8576b"
             ],
             [
              0.6666666666666666,
              "#ed7953"
             ],
             [
              0.7777777777777778,
              "#fb9f3a"
             ],
             [
              0.8888888888888888,
              "#fdca26"
             ],
             [
              1,
              "#f0f921"
             ]
            ],
            "type": "histogram2dcontour"
           }
          ],
          "mesh3d": [
           {
            "colorbar": {
             "outlinewidth": 0,
             "ticks": ""
            },
            "type": "mesh3d"
           }
          ],
          "parcoords": [
           {
            "line": {
             "colorbar": {
              "outlinewidth": 0,
              "ticks": ""
             }
            },
            "type": "parcoords"
           }
          ],
          "pie": [
           {
            "automargin": true,
            "type": "pie"
           }
          ],
          "scatter": [
           {
            "fillpattern": {
             "fillmode": "overlay",
             "size": 10,
             "solidity": 0.2
            },
            "type": "scatter"
           }
          ],
          "scatter3d": [
           {
            "line": {
             "colorbar": {
              "outlinewidth": 0,
              "ticks": ""
             }
            },
            "marker": {
             "colorbar": {
              "outlinewidth": 0,
              "ticks": ""
             }
            },
            "type": "scatter3d"
           }
          ],
          "scattercarpet": [
           {
            "marker": {
             "colorbar": {
              "outlinewidth": 0,
              "ticks": ""
             }
            },
            "type": "scattercarpet"
           }
          ],
          "scattergeo": [
           {
            "marker": {
             "colorbar": {
              "outlinewidth": 0,
              "ticks": ""
             }
            },
            "type": "scattergeo"
           }
          ],
          "scattergl": [
           {
            "marker": {
             "colorbar": {
              "outlinewidth": 0,
              "ticks": ""
             }
            },
            "type": "scattergl"
           }
          ],
          "scattermapbox": [
           {
            "marker": {
             "colorbar": {
              "outlinewidth": 0,
              "ticks": ""
             }
            },
            "type": "scattermapbox"
           }
          ],
          "scatterpolar": [
           {
            "marker": {
             "colorbar": {
              "outlinewidth": 0,
              "ticks": ""
             }
            },
            "type": "scatterpolar"
           }
          ],
          "scatterpolargl": [
           {
            "marker": {
             "colorbar": {
              "outlinewidth": 0,
              "ticks": ""
             }
            },
            "type": "scatterpolargl"
           }
          ],
          "scatterternary": [
           {
            "marker": {
             "colorbar": {
              "outlinewidth": 0,
              "ticks": ""
             }
            },
            "type": "scatterternary"
           }
          ],
          "surface": [
           {
            "colorbar": {
             "outlinewidth": 0,
             "ticks": ""
            },
            "colorscale": [
             [
              0,
              "#0d0887"
             ],
             [
              0.1111111111111111,
              "#46039f"
             ],
             [
              0.2222222222222222,
              "#7201a8"
             ],
             [
              0.3333333333333333,
              "#9c179e"
             ],
             [
              0.4444444444444444,
              "#bd3786"
             ],
             [
              0.5555555555555556,
              "#d8576b"
             ],
             [
              0.6666666666666666,
              "#ed7953"
             ],
             [
              0.7777777777777778,
              "#fb9f3a"
             ],
             [
              0.8888888888888888,
              "#fdca26"
             ],
             [
              1,
              "#f0f921"
             ]
            ],
            "type": "surface"
           }
          ],
          "table": [
           {
            "cells": {
             "fill": {
              "color": "#EBF0F8"
             },
             "line": {
              "color": "white"
             }
            },
            "header": {
             "fill": {
              "color": "#C8D4E3"
             },
             "line": {
              "color": "white"
             }
            },
            "type": "table"
           }
          ]
         },
         "layout": {
          "annotationdefaults": {
           "arrowcolor": "#2a3f5f",
           "arrowhead": 0,
           "arrowwidth": 1
          },
          "autotypenumbers": "strict",
          "coloraxis": {
           "colorbar": {
            "outlinewidth": 0,
            "ticks": ""
           }
          },
          "colorscale": {
           "diverging": [
            [
             0,
             "#8e0152"
            ],
            [
             0.1,
             "#c51b7d"
            ],
            [
             0.2,
             "#de77ae"
            ],
            [
             0.3,
             "#f1b6da"
            ],
            [
             0.4,
             "#fde0ef"
            ],
            [
             0.5,
             "#f7f7f7"
            ],
            [
             0.6,
             "#e6f5d0"
            ],
            [
             0.7,
             "#b8e186"
            ],
            [
             0.8,
             "#7fbc41"
            ],
            [
             0.9,
             "#4d9221"
            ],
            [
             1,
             "#276419"
            ]
           ],
           "sequential": [
            [
             0,
             "#0d0887"
            ],
            [
             0.1111111111111111,
             "#46039f"
            ],
            [
             0.2222222222222222,
             "#7201a8"
            ],
            [
             0.3333333333333333,
             "#9c179e"
            ],
            [
             0.4444444444444444,
             "#bd3786"
            ],
            [
             0.5555555555555556,
             "#d8576b"
            ],
            [
             0.6666666666666666,
             "#ed7953"
            ],
            [
             0.7777777777777778,
             "#fb9f3a"
            ],
            [
             0.8888888888888888,
             "#fdca26"
            ],
            [
             1,
             "#f0f921"
            ]
           ],
           "sequentialminus": [
            [
             0,
             "#0d0887"
            ],
            [
             0.1111111111111111,
             "#46039f"
            ],
            [
             0.2222222222222222,
             "#7201a8"
            ],
            [
             0.3333333333333333,
             "#9c179e"
            ],
            [
             0.4444444444444444,
             "#bd3786"
            ],
            [
             0.5555555555555556,
             "#d8576b"
            ],
            [
             0.6666666666666666,
             "#ed7953"
            ],
            [
             0.7777777777777778,
             "#fb9f3a"
            ],
            [
             0.8888888888888888,
             "#fdca26"
            ],
            [
             1,
             "#f0f921"
            ]
           ]
          },
          "colorway": [
           "#636efa",
           "#EF553B",
           "#00cc96",
           "#ab63fa",
           "#FFA15A",
           "#19d3f3",
           "#FF6692",
           "#B6E880",
           "#FF97FF",
           "#FECB52"
          ],
          "font": {
           "color": "#2a3f5f"
          },
          "geo": {
           "bgcolor": "white",
           "lakecolor": "white",
           "landcolor": "#E5ECF6",
           "showlakes": true,
           "showland": true,
           "subunitcolor": "white"
          },
          "hoverlabel": {
           "align": "left"
          },
          "hovermode": "closest",
          "mapbox": {
           "style": "light"
          },
          "paper_bgcolor": "white",
          "plot_bgcolor": "#E5ECF6",
          "polar": {
           "angularaxis": {
            "gridcolor": "white",
            "linecolor": "white",
            "ticks": ""
           },
           "bgcolor": "#E5ECF6",
           "radialaxis": {
            "gridcolor": "white",
            "linecolor": "white",
            "ticks": ""
           }
          },
          "scene": {
           "xaxis": {
            "backgroundcolor": "#E5ECF6",
            "gridcolor": "white",
            "gridwidth": 2,
            "linecolor": "white",
            "showbackground": true,
            "ticks": "",
            "zerolinecolor": "white"
           },
           "yaxis": {
            "backgroundcolor": "#E5ECF6",
            "gridcolor": "white",
            "gridwidth": 2,
            "linecolor": "white",
            "showbackground": true,
            "ticks": "",
            "zerolinecolor": "white"
           },
           "zaxis": {
            "backgroundcolor": "#E5ECF6",
            "gridcolor": "white",
            "gridwidth": 2,
            "linecolor": "white",
            "showbackground": true,
            "ticks": "",
            "zerolinecolor": "white"
           }
          },
          "shapedefaults": {
           "line": {
            "color": "#2a3f5f"
           }
          },
          "ternary": {
           "aaxis": {
            "gridcolor": "white",
            "linecolor": "white",
            "ticks": ""
           },
           "baxis": {
            "gridcolor": "white",
            "linecolor": "white",
            "ticks": ""
           },
           "bgcolor": "#E5ECF6",
           "caxis": {
            "gridcolor": "white",
            "linecolor": "white",
            "ticks": ""
           }
          },
          "title": {
           "x": 0.05
          },
          "xaxis": {
           "automargin": true,
           "gridcolor": "white",
           "linecolor": "white",
           "ticks": "",
           "title": {
            "standoff": 15
           },
           "zerolinecolor": "white",
           "zerolinewidth": 2
          },
          "yaxis": {
           "automargin": true,
           "gridcolor": "white",
           "linecolor": "white",
           "ticks": "",
           "title": {
            "standoff": 15
           },
           "zerolinecolor": "white",
           "zerolinewidth": 2
          }
         }
        },
        "title": {
         "text": "kia sportage Price vs Mileage",
         "x": 0.01,
         "xanchor": "left"
        },
        "xaxis": {
         "anchor": "y",
         "domain": [
          0,
          1
         ],
         "linecolor": "black",
         "linewidth": 1,
         "mirror": true,
         "showgrid": false,
         "showline": true,
         "title": {
          "text": "Mileage"
         }
        },
        "yaxis": {
         "anchor": "x",
         "domain": [
          0,
          1
         ],
         "linecolor": "black",
         "linewidth": 1,
         "mirror": true,
         "showgrid": false,
         "showline": true,
         "title": {
          "text": "Price"
         }
        }
       }
      }
     },
     "metadata": {},
     "output_type": "display_data"
    },
    {
     "ename": "TraitError",
     "evalue": "Invalid selection: value not found",
     "output_type": "error",
     "traceback": [
      "\u001b[1;31m---------------------------------------------------------------------------\u001b[0m",
      "\u001b[1;31mStopIteration\u001b[0m                             Traceback (most recent call last)",
      "File \u001b[1;32mc:\\Users\\jakeq\\AppData\\Local\\Programs\\Python\\Python312\\Lib\\site-packages\\ipywidgets\\widgets\\widget_selection.py:133\u001b[0m, in \u001b[0;36mfindvalue\u001b[1;34m(array, value, compare)\u001b[0m\n\u001b[0;32m    132\u001b[0m \u001b[38;5;28;01mtry\u001b[39;00m:\n\u001b[1;32m--> 133\u001b[0m     \u001b[38;5;28;01mreturn\u001b[39;00m \u001b[38;5;28;43mnext\u001b[39;49m\u001b[43m(\u001b[49m\u001b[43mx\u001b[49m\u001b[43m \u001b[49m\u001b[38;5;28;43;01mfor\u001b[39;49;00m\u001b[43m \u001b[49m\u001b[43mx\u001b[49m\u001b[43m \u001b[49m\u001b[38;5;129;43;01min\u001b[39;49;00m\u001b[43m \u001b[49m\u001b[43marray\u001b[49m\u001b[43m \u001b[49m\u001b[38;5;28;43;01mif\u001b[39;49;00m\u001b[43m \u001b[49m\u001b[43mcompare\u001b[49m\u001b[43m(\u001b[49m\u001b[43mx\u001b[49m\u001b[43m,\u001b[49m\u001b[43m \u001b[49m\u001b[43mvalue\u001b[49m\u001b[43m)\u001b[49m\u001b[43m)\u001b[49m\n\u001b[0;32m    134\u001b[0m \u001b[38;5;28;01mexcept\u001b[39;00m \u001b[38;5;167;01mStopIteration\u001b[39;00m:\n",
      "\u001b[1;31mStopIteration\u001b[0m: ",
      "\nDuring handling of the above exception, another exception occurred:\n",
      "\u001b[1;31mValueError\u001b[0m                                Traceback (most recent call last)",
      "File \u001b[1;32mc:\\Users\\jakeq\\AppData\\Local\\Programs\\Python\\Python312\\Lib\\site-packages\\ipywidgets\\widgets\\widget_selection.py:242\u001b[0m, in \u001b[0;36m_Selection._validate_value\u001b[1;34m(self, proposal)\u001b[0m\n\u001b[0;32m    241\u001b[0m \u001b[38;5;28;01mtry\u001b[39;00m:\n\u001b[1;32m--> 242\u001b[0m     \u001b[38;5;28;01mreturn\u001b[39;00m \u001b[43mfindvalue\u001b[49m\u001b[43m(\u001b[49m\u001b[38;5;28;43mself\u001b[39;49m\u001b[38;5;241;43m.\u001b[39;49m\u001b[43m_options_values\u001b[49m\u001b[43m,\u001b[49m\u001b[43m \u001b[49m\u001b[43mvalue\u001b[49m\u001b[43m,\u001b[49m\u001b[43m \u001b[49m\u001b[38;5;28;43mself\u001b[39;49m\u001b[38;5;241;43m.\u001b[39;49m\u001b[43mequals\u001b[49m\u001b[43m)\u001b[49m \u001b[38;5;28;01mif\u001b[39;00m value \u001b[38;5;129;01mis\u001b[39;00m \u001b[38;5;129;01mnot\u001b[39;00m \u001b[38;5;28;01mNone\u001b[39;00m \u001b[38;5;28;01melse\u001b[39;00m \u001b[38;5;28;01mNone\u001b[39;00m\n\u001b[0;32m    243\u001b[0m \u001b[38;5;28;01mexcept\u001b[39;00m \u001b[38;5;167;01mValueError\u001b[39;00m:\n",
      "File \u001b[1;32mc:\\Users\\jakeq\\AppData\\Local\\Programs\\Python\\Python312\\Lib\\site-packages\\ipywidgets\\widgets\\widget_selection.py:135\u001b[0m, in \u001b[0;36mfindvalue\u001b[1;34m(array, value, compare)\u001b[0m\n\u001b[0;32m    134\u001b[0m \u001b[38;5;28;01mexcept\u001b[39;00m \u001b[38;5;167;01mStopIteration\u001b[39;00m:\n\u001b[1;32m--> 135\u001b[0m     \u001b[38;5;28;01mraise\u001b[39;00m \u001b[38;5;167;01mValueError\u001b[39;00m(\u001b[38;5;124m'\u001b[39m\u001b[38;5;132;01m%r\u001b[39;00m\u001b[38;5;124m not in array\u001b[39m\u001b[38;5;124m'\u001b[39m\u001b[38;5;241m%\u001b[39mvalue)\n",
      "\u001b[1;31mValueError\u001b[0m: nan not in array",
      "\nDuring handling of the above exception, another exception occurred:\n",
      "\u001b[1;31mTraitError\u001b[0m                                Traceback (most recent call last)",
      "File \u001b[1;32mc:\\Users\\jakeq\\AppData\\Local\\Programs\\Python\\Python312\\Lib\\site-packages\\ipywidgets\\widgets\\widget.py:773\u001b[0m, in \u001b[0;36mWidget._handle_msg\u001b[1;34m(self, msg)\u001b[0m\n\u001b[0;32m    771\u001b[0m         \u001b[38;5;28;01mif\u001b[39;00m \u001b[38;5;124m'\u001b[39m\u001b[38;5;124mbuffer_paths\u001b[39m\u001b[38;5;124m'\u001b[39m \u001b[38;5;129;01min\u001b[39;00m data:\n\u001b[0;32m    772\u001b[0m             _put_buffers(state, data[\u001b[38;5;124m'\u001b[39m\u001b[38;5;124mbuffer_paths\u001b[39m\u001b[38;5;124m'\u001b[39m], msg[\u001b[38;5;124m'\u001b[39m\u001b[38;5;124mbuffers\u001b[39m\u001b[38;5;124m'\u001b[39m])\n\u001b[1;32m--> 773\u001b[0m         \u001b[38;5;28;43mself\u001b[39;49m\u001b[38;5;241;43m.\u001b[39;49m\u001b[43mset_state\u001b[49m\u001b[43m(\u001b[49m\u001b[43mstate\u001b[49m\u001b[43m)\u001b[49m\n\u001b[0;32m    775\u001b[0m \u001b[38;5;66;03m# Handle a state request.\u001b[39;00m\n\u001b[0;32m    776\u001b[0m \u001b[38;5;28;01melif\u001b[39;00m method \u001b[38;5;241m==\u001b[39m \u001b[38;5;124m'\u001b[39m\u001b[38;5;124mrequest_state\u001b[39m\u001b[38;5;124m'\u001b[39m:\n",
      "File \u001b[1;32mc:\\Users\\jakeq\\AppData\\Local\\Programs\\Python\\Python312\\Lib\\site-packages\\ipywidgets\\widgets\\widget.py:650\u001b[0m, in \u001b[0;36mWidget.set_state\u001b[1;34m(self, sync_data)\u001b[0m\n\u001b[0;32m    645\u001b[0m         \u001b[38;5;28mself\u001b[39m\u001b[38;5;241m.\u001b[39m_send(msg, buffers\u001b[38;5;241m=\u001b[39mecho_buffers)\n\u001b[0;32m    647\u001b[0m \u001b[38;5;66;03m# The order of these context managers is important. Properties must\u001b[39;00m\n\u001b[0;32m    648\u001b[0m \u001b[38;5;66;03m# be locked when the hold_trait_notification context manager is\u001b[39;00m\n\u001b[0;32m    649\u001b[0m \u001b[38;5;66;03m# released and notifications are fired.\u001b[39;00m\n\u001b[1;32m--> 650\u001b[0m \u001b[43m\u001b[49m\u001b[38;5;28;43;01mwith\u001b[39;49;00m\u001b[43m \u001b[49m\u001b[38;5;28;43mself\u001b[39;49m\u001b[38;5;241;43m.\u001b[39;49m\u001b[43m_lock_property\u001b[49m\u001b[43m(\u001b[49m\u001b[38;5;241;43m*\u001b[39;49m\u001b[38;5;241;43m*\u001b[39;49m\u001b[43msync_data\u001b[49m\u001b[43m)\u001b[49m\u001b[43m,\u001b[49m\u001b[43m \u001b[49m\u001b[38;5;28;43mself\u001b[39;49m\u001b[38;5;241;43m.\u001b[39;49m\u001b[43mhold_trait_notifications\u001b[49m\u001b[43m(\u001b[49m\u001b[43m)\u001b[49m\u001b[43m:\u001b[49m\n\u001b[0;32m    651\u001b[0m \u001b[43m    \u001b[49m\u001b[38;5;28;43;01mfor\u001b[39;49;00m\u001b[43m \u001b[49m\u001b[43mname\u001b[49m\u001b[43m \u001b[49m\u001b[38;5;129;43;01min\u001b[39;49;00m\u001b[43m \u001b[49m\u001b[43msync_data\u001b[49m\u001b[43m:\u001b[49m\n\u001b[0;32m    652\u001b[0m \u001b[43m        \u001b[49m\u001b[38;5;28;43;01mif\u001b[39;49;00m\u001b[43m \u001b[49m\u001b[43mname\u001b[49m\u001b[43m \u001b[49m\u001b[38;5;129;43;01min\u001b[39;49;00m\u001b[43m \u001b[49m\u001b[38;5;28;43mself\u001b[39;49m\u001b[38;5;241;43m.\u001b[39;49m\u001b[43mkeys\u001b[49m\u001b[43m:\u001b[49m\n",
      "File \u001b[1;32mc:\\Users\\jakeq\\AppData\\Local\\Programs\\Python\\Python312\\Lib\\contextlib.py:144\u001b[0m, in \u001b[0;36m_GeneratorContextManager.__exit__\u001b[1;34m(self, typ, value, traceback)\u001b[0m\n\u001b[0;32m    142\u001b[0m \u001b[38;5;28;01mif\u001b[39;00m typ \u001b[38;5;129;01mis\u001b[39;00m \u001b[38;5;28;01mNone\u001b[39;00m:\n\u001b[0;32m    143\u001b[0m     \u001b[38;5;28;01mtry\u001b[39;00m:\n\u001b[1;32m--> 144\u001b[0m         \u001b[38;5;28;43mnext\u001b[39;49m\u001b[43m(\u001b[49m\u001b[38;5;28;43mself\u001b[39;49m\u001b[38;5;241;43m.\u001b[39;49m\u001b[43mgen\u001b[49m\u001b[43m)\u001b[49m\n\u001b[0;32m    145\u001b[0m     \u001b[38;5;28;01mexcept\u001b[39;00m \u001b[38;5;167;01mStopIteration\u001b[39;00m:\n\u001b[0;32m    146\u001b[0m         \u001b[38;5;28;01mreturn\u001b[39;00m \u001b[38;5;28;01mFalse\u001b[39;00m\n",
      "File \u001b[1;32m~\\AppData\\Roaming\\Python\\Python312\\site-packages\\traitlets\\traitlets.py:1510\u001b[0m, in \u001b[0;36mHasTraits.hold_trait_notifications\u001b[1;34m(self)\u001b[0m\n\u001b[0;32m   1508\u001b[0m \u001b[38;5;28;01mfor\u001b[39;00m changes \u001b[38;5;129;01min\u001b[39;00m cache\u001b[38;5;241m.\u001b[39mvalues():\n\u001b[0;32m   1509\u001b[0m     \u001b[38;5;28;01mfor\u001b[39;00m change \u001b[38;5;129;01min\u001b[39;00m changes:\n\u001b[1;32m-> 1510\u001b[0m         \u001b[38;5;28;43mself\u001b[39;49m\u001b[38;5;241;43m.\u001b[39;49m\u001b[43mnotify_change\u001b[49m\u001b[43m(\u001b[49m\u001b[43mchange\u001b[49m\u001b[43m)\u001b[49m\n",
      "File \u001b[1;32mc:\\Users\\jakeq\\AppData\\Local\\Programs\\Python\\Python312\\Lib\\site-packages\\ipywidgets\\widgets\\widget.py:701\u001b[0m, in \u001b[0;36mWidget.notify_change\u001b[1;34m(self, change)\u001b[0m\n\u001b[0;32m    698\u001b[0m     \u001b[38;5;28;01mif\u001b[39;00m name \u001b[38;5;129;01min\u001b[39;00m \u001b[38;5;28mself\u001b[39m\u001b[38;5;241m.\u001b[39mkeys \u001b[38;5;129;01mand\u001b[39;00m \u001b[38;5;28mself\u001b[39m\u001b[38;5;241m.\u001b[39m_should_send_property(name, \u001b[38;5;28mgetattr\u001b[39m(\u001b[38;5;28mself\u001b[39m, name)):\n\u001b[0;32m    699\u001b[0m         \u001b[38;5;66;03m# Send new state to front-end\u001b[39;00m\n\u001b[0;32m    700\u001b[0m         \u001b[38;5;28mself\u001b[39m\u001b[38;5;241m.\u001b[39msend_state(key\u001b[38;5;241m=\u001b[39mname)\n\u001b[1;32m--> 701\u001b[0m \u001b[38;5;28;43msuper\u001b[39;49m\u001b[43m(\u001b[49m\u001b[43m)\u001b[49m\u001b[38;5;241;43m.\u001b[39;49m\u001b[43mnotify_change\u001b[49m\u001b[43m(\u001b[49m\u001b[43mchange\u001b[49m\u001b[43m)\u001b[49m\n",
      "File \u001b[1;32m~\\AppData\\Roaming\\Python\\Python312\\site-packages\\traitlets\\traitlets.py:1525\u001b[0m, in \u001b[0;36mHasTraits.notify_change\u001b[1;34m(self, change)\u001b[0m\n\u001b[0;32m   1523\u001b[0m \u001b[38;5;28;01mdef\u001b[39;00m \u001b[38;5;21mnotify_change\u001b[39m(\u001b[38;5;28mself\u001b[39m, change: Bunch) \u001b[38;5;241m-\u001b[39m\u001b[38;5;241m>\u001b[39m \u001b[38;5;28;01mNone\u001b[39;00m:\n\u001b[0;32m   1524\u001b[0m \u001b[38;5;250m    \u001b[39m\u001b[38;5;124;03m\"\"\"Notify observers of a change event\"\"\"\u001b[39;00m\n\u001b[1;32m-> 1525\u001b[0m     \u001b[38;5;28;01mreturn\u001b[39;00m \u001b[38;5;28;43mself\u001b[39;49m\u001b[38;5;241;43m.\u001b[39;49m\u001b[43m_notify_observers\u001b[49m\u001b[43m(\u001b[49m\u001b[43mchange\u001b[49m\u001b[43m)\u001b[49m\n",
      "File \u001b[1;32m~\\AppData\\Roaming\\Python\\Python312\\site-packages\\traitlets\\traitlets.py:1568\u001b[0m, in \u001b[0;36mHasTraits._notify_observers\u001b[1;34m(self, event)\u001b[0m\n\u001b[0;32m   1565\u001b[0m \u001b[38;5;28;01melif\u001b[39;00m \u001b[38;5;28misinstance\u001b[39m(c, EventHandler) \u001b[38;5;129;01mand\u001b[39;00m c\u001b[38;5;241m.\u001b[39mname \u001b[38;5;129;01mis\u001b[39;00m \u001b[38;5;129;01mnot\u001b[39;00m \u001b[38;5;28;01mNone\u001b[39;00m:\n\u001b[0;32m   1566\u001b[0m     c \u001b[38;5;241m=\u001b[39m \u001b[38;5;28mgetattr\u001b[39m(\u001b[38;5;28mself\u001b[39m, c\u001b[38;5;241m.\u001b[39mname)\n\u001b[1;32m-> 1568\u001b[0m \u001b[43mc\u001b[49m\u001b[43m(\u001b[49m\u001b[43mevent\u001b[49m\u001b[43m)\u001b[49m\n",
      "File \u001b[1;32mc:\\Users\\jakeq\\AppData\\Local\\Programs\\Python\\Python312\\Lib\\site-packages\\ipywidgets\\widgets\\widget_selection.py:236\u001b[0m, in \u001b[0;36m_Selection._propagate_index\u001b[1;34m(self, change)\u001b[0m\n\u001b[0;32m    234\u001b[0m     \u001b[38;5;28mself\u001b[39m\u001b[38;5;241m.\u001b[39mlabel \u001b[38;5;241m=\u001b[39m label\n\u001b[0;32m    235\u001b[0m \u001b[38;5;28;01mif\u001b[39;00m \u001b[38;5;28mself\u001b[39m\u001b[38;5;241m.\u001b[39mvalue \u001b[38;5;129;01mis\u001b[39;00m \u001b[38;5;129;01mnot\u001b[39;00m value:\n\u001b[1;32m--> 236\u001b[0m     \u001b[38;5;28;43mself\u001b[39;49m\u001b[38;5;241;43m.\u001b[39;49m\u001b[43mvalue\u001b[49m \u001b[38;5;241m=\u001b[39m value\n",
      "File \u001b[1;32m~\\AppData\\Roaming\\Python\\Python312\\site-packages\\traitlets\\traitlets.py:716\u001b[0m, in \u001b[0;36mTraitType.__set__\u001b[1;34m(self, obj, value)\u001b[0m\n\u001b[0;32m    714\u001b[0m \u001b[38;5;28;01mif\u001b[39;00m \u001b[38;5;28mself\u001b[39m\u001b[38;5;241m.\u001b[39mread_only:\n\u001b[0;32m    715\u001b[0m     \u001b[38;5;28;01mraise\u001b[39;00m TraitError(\u001b[38;5;124m'\u001b[39m\u001b[38;5;124mThe \u001b[39m\u001b[38;5;124m\"\u001b[39m\u001b[38;5;132;01m%s\u001b[39;00m\u001b[38;5;124m\"\u001b[39m\u001b[38;5;124m trait is read-only.\u001b[39m\u001b[38;5;124m'\u001b[39m \u001b[38;5;241m%\u001b[39m \u001b[38;5;28mself\u001b[39m\u001b[38;5;241m.\u001b[39mname)\n\u001b[1;32m--> 716\u001b[0m \u001b[38;5;28;43mself\u001b[39;49m\u001b[38;5;241;43m.\u001b[39;49m\u001b[43mset\u001b[49m\u001b[43m(\u001b[49m\u001b[43mobj\u001b[49m\u001b[43m,\u001b[49m\u001b[43m \u001b[49m\u001b[43mvalue\u001b[49m\u001b[43m)\u001b[49m\n",
      "File \u001b[1;32m~\\AppData\\Roaming\\Python\\Python312\\site-packages\\traitlets\\traitlets.py:706\u001b[0m, in \u001b[0;36mTraitType.set\u001b[1;34m(self, obj, value)\u001b[0m\n\u001b[0;32m    702\u001b[0m     silent \u001b[38;5;241m=\u001b[39m \u001b[38;5;28;01mFalse\u001b[39;00m\n\u001b[0;32m    703\u001b[0m \u001b[38;5;28;01mif\u001b[39;00m silent \u001b[38;5;129;01mis\u001b[39;00m \u001b[38;5;129;01mnot\u001b[39;00m \u001b[38;5;28;01mTrue\u001b[39;00m:\n\u001b[0;32m    704\u001b[0m     \u001b[38;5;66;03m# we explicitly compare silent to True just in case the equality\u001b[39;00m\n\u001b[0;32m    705\u001b[0m     \u001b[38;5;66;03m# comparison above returns something other than True/False\u001b[39;00m\n\u001b[1;32m--> 706\u001b[0m     \u001b[43mobj\u001b[49m\u001b[38;5;241;43m.\u001b[39;49m\u001b[43m_notify_trait\u001b[49m\u001b[43m(\u001b[49m\u001b[38;5;28;43mself\u001b[39;49m\u001b[38;5;241;43m.\u001b[39;49m\u001b[43mname\u001b[49m\u001b[43m,\u001b[49m\u001b[43m \u001b[49m\u001b[43mold_value\u001b[49m\u001b[43m,\u001b[49m\u001b[43m \u001b[49m\u001b[43mnew_value\u001b[49m\u001b[43m)\u001b[49m\n",
      "File \u001b[1;32m~\\AppData\\Roaming\\Python\\Python312\\site-packages\\traitlets\\traitlets.py:1513\u001b[0m, in \u001b[0;36mHasTraits._notify_trait\u001b[1;34m(self, name, old_value, new_value)\u001b[0m\n\u001b[0;32m   1512\u001b[0m \u001b[38;5;28;01mdef\u001b[39;00m \u001b[38;5;21m_notify_trait\u001b[39m(\u001b[38;5;28mself\u001b[39m, name: \u001b[38;5;28mstr\u001b[39m, old_value: t\u001b[38;5;241m.\u001b[39mAny, new_value: t\u001b[38;5;241m.\u001b[39mAny) \u001b[38;5;241m-\u001b[39m\u001b[38;5;241m>\u001b[39m \u001b[38;5;28;01mNone\u001b[39;00m:\n\u001b[1;32m-> 1513\u001b[0m     \u001b[38;5;28;43mself\u001b[39;49m\u001b[38;5;241;43m.\u001b[39;49m\u001b[43mnotify_change\u001b[49m\u001b[43m(\u001b[49m\n\u001b[0;32m   1514\u001b[0m \u001b[43m        \u001b[49m\u001b[43mBunch\u001b[49m\u001b[43m(\u001b[49m\n\u001b[0;32m   1515\u001b[0m \u001b[43m            \u001b[49m\u001b[43mname\u001b[49m\u001b[38;5;241;43m=\u001b[39;49m\u001b[43mname\u001b[49m\u001b[43m,\u001b[49m\n\u001b[0;32m   1516\u001b[0m \u001b[43m            \u001b[49m\u001b[43mold\u001b[49m\u001b[38;5;241;43m=\u001b[39;49m\u001b[43mold_value\u001b[49m\u001b[43m,\u001b[49m\n\u001b[0;32m   1517\u001b[0m \u001b[43m            \u001b[49m\u001b[43mnew\u001b[49m\u001b[38;5;241;43m=\u001b[39;49m\u001b[43mnew_value\u001b[49m\u001b[43m,\u001b[49m\n\u001b[0;32m   1518\u001b[0m \u001b[43m            \u001b[49m\u001b[43mowner\u001b[49m\u001b[38;5;241;43m=\u001b[39;49m\u001b[38;5;28;43mself\u001b[39;49m\u001b[43m,\u001b[49m\n\u001b[0;32m   1519\u001b[0m \u001b[43m            \u001b[49m\u001b[38;5;28;43mtype\u001b[39;49m\u001b[38;5;241;43m=\u001b[39;49m\u001b[38;5;124;43m\"\u001b[39;49m\u001b[38;5;124;43mchange\u001b[39;49m\u001b[38;5;124;43m\"\u001b[39;49m\u001b[43m,\u001b[49m\n\u001b[0;32m   1520\u001b[0m \u001b[43m        \u001b[49m\u001b[43m)\u001b[49m\n\u001b[0;32m   1521\u001b[0m \u001b[43m    \u001b[49m\u001b[43m)\u001b[49m\n",
      "File \u001b[1;32mc:\\Users\\jakeq\\AppData\\Local\\Programs\\Python\\Python312\\Lib\\site-packages\\ipywidgets\\widgets\\widget.py:701\u001b[0m, in \u001b[0;36mWidget.notify_change\u001b[1;34m(self, change)\u001b[0m\n\u001b[0;32m    698\u001b[0m     \u001b[38;5;28;01mif\u001b[39;00m name \u001b[38;5;129;01min\u001b[39;00m \u001b[38;5;28mself\u001b[39m\u001b[38;5;241m.\u001b[39mkeys \u001b[38;5;129;01mand\u001b[39;00m \u001b[38;5;28mself\u001b[39m\u001b[38;5;241m.\u001b[39m_should_send_property(name, \u001b[38;5;28mgetattr\u001b[39m(\u001b[38;5;28mself\u001b[39m, name)):\n\u001b[0;32m    699\u001b[0m         \u001b[38;5;66;03m# Send new state to front-end\u001b[39;00m\n\u001b[0;32m    700\u001b[0m         \u001b[38;5;28mself\u001b[39m\u001b[38;5;241m.\u001b[39msend_state(key\u001b[38;5;241m=\u001b[39mname)\n\u001b[1;32m--> 701\u001b[0m \u001b[38;5;28;43msuper\u001b[39;49m\u001b[43m(\u001b[49m\u001b[43m)\u001b[49m\u001b[38;5;241;43m.\u001b[39;49m\u001b[43mnotify_change\u001b[49m\u001b[43m(\u001b[49m\u001b[43mchange\u001b[49m\u001b[43m)\u001b[49m\n",
      "File \u001b[1;32m~\\AppData\\Roaming\\Python\\Python312\\site-packages\\traitlets\\traitlets.py:1525\u001b[0m, in \u001b[0;36mHasTraits.notify_change\u001b[1;34m(self, change)\u001b[0m\n\u001b[0;32m   1523\u001b[0m \u001b[38;5;28;01mdef\u001b[39;00m \u001b[38;5;21mnotify_change\u001b[39m(\u001b[38;5;28mself\u001b[39m, change: Bunch) \u001b[38;5;241m-\u001b[39m\u001b[38;5;241m>\u001b[39m \u001b[38;5;28;01mNone\u001b[39;00m:\n\u001b[0;32m   1524\u001b[0m \u001b[38;5;250m    \u001b[39m\u001b[38;5;124;03m\"\"\"Notify observers of a change event\"\"\"\u001b[39;00m\n\u001b[1;32m-> 1525\u001b[0m     \u001b[38;5;28;01mreturn\u001b[39;00m \u001b[38;5;28;43mself\u001b[39;49m\u001b[38;5;241;43m.\u001b[39;49m\u001b[43m_notify_observers\u001b[49m\u001b[43m(\u001b[49m\u001b[43mchange\u001b[49m\u001b[43m)\u001b[49m\n",
      "File \u001b[1;32m~\\AppData\\Roaming\\Python\\Python312\\site-packages\\traitlets\\traitlets.py:1568\u001b[0m, in \u001b[0;36mHasTraits._notify_observers\u001b[1;34m(self, event)\u001b[0m\n\u001b[0;32m   1565\u001b[0m \u001b[38;5;28;01melif\u001b[39;00m \u001b[38;5;28misinstance\u001b[39m(c, EventHandler) \u001b[38;5;129;01mand\u001b[39;00m c\u001b[38;5;241m.\u001b[39mname \u001b[38;5;129;01mis\u001b[39;00m \u001b[38;5;129;01mnot\u001b[39;00m \u001b[38;5;28;01mNone\u001b[39;00m:\n\u001b[0;32m   1566\u001b[0m     c \u001b[38;5;241m=\u001b[39m \u001b[38;5;28mgetattr\u001b[39m(\u001b[38;5;28mself\u001b[39m, c\u001b[38;5;241m.\u001b[39mname)\n\u001b[1;32m-> 1568\u001b[0m \u001b[43mc\u001b[49m\u001b[43m(\u001b[49m\u001b[43mevent\u001b[49m\u001b[43m)\u001b[49m\n",
      "Cell \u001b[1;32mIn[1], line 45\u001b[0m, in \u001b[0;36mupdate_models\u001b[1;34m(*args)\u001b[0m\n\u001b[0;32m     43\u001b[0m     model_dropdown\u001b[38;5;241m.\u001b[39moptions \u001b[38;5;241m=\u001b[39m [\u001b[38;5;124m'\u001b[39m\u001b[38;5;124mNo valid models available\u001b[39m\u001b[38;5;124m'\u001b[39m]\n\u001b[0;32m     44\u001b[0m \u001b[38;5;28;01melse\u001b[39;00m:\n\u001b[1;32m---> 45\u001b[0m     \u001b[43mmodel_dropdown\u001b[49m\u001b[38;5;241;43m.\u001b[39;49m\u001b[43moptions\u001b[49m \u001b[38;5;241m=\u001b[39m filtered_models\n",
      "File \u001b[1;32m~\\AppData\\Roaming\\Python\\Python312\\site-packages\\traitlets\\traitlets.py:716\u001b[0m, in \u001b[0;36mTraitType.__set__\u001b[1;34m(self, obj, value)\u001b[0m\n\u001b[0;32m    714\u001b[0m \u001b[38;5;28;01mif\u001b[39;00m \u001b[38;5;28mself\u001b[39m\u001b[38;5;241m.\u001b[39mread_only:\n\u001b[0;32m    715\u001b[0m     \u001b[38;5;28;01mraise\u001b[39;00m TraitError(\u001b[38;5;124m'\u001b[39m\u001b[38;5;124mThe \u001b[39m\u001b[38;5;124m\"\u001b[39m\u001b[38;5;132;01m%s\u001b[39;00m\u001b[38;5;124m\"\u001b[39m\u001b[38;5;124m trait is read-only.\u001b[39m\u001b[38;5;124m'\u001b[39m \u001b[38;5;241m%\u001b[39m \u001b[38;5;28mself\u001b[39m\u001b[38;5;241m.\u001b[39mname)\n\u001b[1;32m--> 716\u001b[0m \u001b[38;5;28;43mself\u001b[39;49m\u001b[38;5;241;43m.\u001b[39;49m\u001b[43mset\u001b[49m\u001b[43m(\u001b[49m\u001b[43mobj\u001b[49m\u001b[43m,\u001b[49m\u001b[43m \u001b[49m\u001b[43mvalue\u001b[49m\u001b[43m)\u001b[49m\n",
      "File \u001b[1;32m~\\AppData\\Roaming\\Python\\Python312\\site-packages\\traitlets\\traitlets.py:706\u001b[0m, in \u001b[0;36mTraitType.set\u001b[1;34m(self, obj, value)\u001b[0m\n\u001b[0;32m    702\u001b[0m     silent \u001b[38;5;241m=\u001b[39m \u001b[38;5;28;01mFalse\u001b[39;00m\n\u001b[0;32m    703\u001b[0m \u001b[38;5;28;01mif\u001b[39;00m silent \u001b[38;5;129;01mis\u001b[39;00m \u001b[38;5;129;01mnot\u001b[39;00m \u001b[38;5;28;01mTrue\u001b[39;00m:\n\u001b[0;32m    704\u001b[0m     \u001b[38;5;66;03m# we explicitly compare silent to True just in case the equality\u001b[39;00m\n\u001b[0;32m    705\u001b[0m     \u001b[38;5;66;03m# comparison above returns something other than True/False\u001b[39;00m\n\u001b[1;32m--> 706\u001b[0m     \u001b[43mobj\u001b[49m\u001b[38;5;241;43m.\u001b[39;49m\u001b[43m_notify_trait\u001b[49m\u001b[43m(\u001b[49m\u001b[38;5;28;43mself\u001b[39;49m\u001b[38;5;241;43m.\u001b[39;49m\u001b[43mname\u001b[49m\u001b[43m,\u001b[49m\u001b[43m \u001b[49m\u001b[43mold_value\u001b[49m\u001b[43m,\u001b[49m\u001b[43m \u001b[49m\u001b[43mnew_value\u001b[49m\u001b[43m)\u001b[49m\n",
      "File \u001b[1;32m~\\AppData\\Roaming\\Python\\Python312\\site-packages\\traitlets\\traitlets.py:1513\u001b[0m, in \u001b[0;36mHasTraits._notify_trait\u001b[1;34m(self, name, old_value, new_value)\u001b[0m\n\u001b[0;32m   1512\u001b[0m \u001b[38;5;28;01mdef\u001b[39;00m \u001b[38;5;21m_notify_trait\u001b[39m(\u001b[38;5;28mself\u001b[39m, name: \u001b[38;5;28mstr\u001b[39m, old_value: t\u001b[38;5;241m.\u001b[39mAny, new_value: t\u001b[38;5;241m.\u001b[39mAny) \u001b[38;5;241m-\u001b[39m\u001b[38;5;241m>\u001b[39m \u001b[38;5;28;01mNone\u001b[39;00m:\n\u001b[1;32m-> 1513\u001b[0m     \u001b[38;5;28;43mself\u001b[39;49m\u001b[38;5;241;43m.\u001b[39;49m\u001b[43mnotify_change\u001b[49m\u001b[43m(\u001b[49m\n\u001b[0;32m   1514\u001b[0m \u001b[43m        \u001b[49m\u001b[43mBunch\u001b[49m\u001b[43m(\u001b[49m\n\u001b[0;32m   1515\u001b[0m \u001b[43m            \u001b[49m\u001b[43mname\u001b[49m\u001b[38;5;241;43m=\u001b[39;49m\u001b[43mname\u001b[49m\u001b[43m,\u001b[49m\n\u001b[0;32m   1516\u001b[0m \u001b[43m            \u001b[49m\u001b[43mold\u001b[49m\u001b[38;5;241;43m=\u001b[39;49m\u001b[43mold_value\u001b[49m\u001b[43m,\u001b[49m\n\u001b[0;32m   1517\u001b[0m \u001b[43m            \u001b[49m\u001b[43mnew\u001b[49m\u001b[38;5;241;43m=\u001b[39;49m\u001b[43mnew_value\u001b[49m\u001b[43m,\u001b[49m\n\u001b[0;32m   1518\u001b[0m \u001b[43m            \u001b[49m\u001b[43mowner\u001b[49m\u001b[38;5;241;43m=\u001b[39;49m\u001b[38;5;28;43mself\u001b[39;49m\u001b[43m,\u001b[49m\n\u001b[0;32m   1519\u001b[0m \u001b[43m            \u001b[49m\u001b[38;5;28;43mtype\u001b[39;49m\u001b[38;5;241;43m=\u001b[39;49m\u001b[38;5;124;43m\"\u001b[39;49m\u001b[38;5;124;43mchange\u001b[39;49m\u001b[38;5;124;43m\"\u001b[39;49m\u001b[43m,\u001b[49m\n\u001b[0;32m   1520\u001b[0m \u001b[43m        \u001b[49m\u001b[43m)\u001b[49m\n\u001b[0;32m   1521\u001b[0m \u001b[43m    \u001b[49m\u001b[43m)\u001b[49m\n",
      "File \u001b[1;32mc:\\Users\\jakeq\\AppData\\Local\\Programs\\Python\\Python312\\Lib\\site-packages\\ipywidgets\\widgets\\widget.py:701\u001b[0m, in \u001b[0;36mWidget.notify_change\u001b[1;34m(self, change)\u001b[0m\n\u001b[0;32m    698\u001b[0m     \u001b[38;5;28;01mif\u001b[39;00m name \u001b[38;5;129;01min\u001b[39;00m \u001b[38;5;28mself\u001b[39m\u001b[38;5;241m.\u001b[39mkeys \u001b[38;5;129;01mand\u001b[39;00m \u001b[38;5;28mself\u001b[39m\u001b[38;5;241m.\u001b[39m_should_send_property(name, \u001b[38;5;28mgetattr\u001b[39m(\u001b[38;5;28mself\u001b[39m, name)):\n\u001b[0;32m    699\u001b[0m         \u001b[38;5;66;03m# Send new state to front-end\u001b[39;00m\n\u001b[0;32m    700\u001b[0m         \u001b[38;5;28mself\u001b[39m\u001b[38;5;241m.\u001b[39msend_state(key\u001b[38;5;241m=\u001b[39mname)\n\u001b[1;32m--> 701\u001b[0m \u001b[38;5;28;43msuper\u001b[39;49m\u001b[43m(\u001b[49m\u001b[43m)\u001b[49m\u001b[38;5;241;43m.\u001b[39;49m\u001b[43mnotify_change\u001b[49m\u001b[43m(\u001b[49m\u001b[43mchange\u001b[49m\u001b[43m)\u001b[49m\n",
      "File \u001b[1;32m~\\AppData\\Roaming\\Python\\Python312\\site-packages\\traitlets\\traitlets.py:1525\u001b[0m, in \u001b[0;36mHasTraits.notify_change\u001b[1;34m(self, change)\u001b[0m\n\u001b[0;32m   1523\u001b[0m \u001b[38;5;28;01mdef\u001b[39;00m \u001b[38;5;21mnotify_change\u001b[39m(\u001b[38;5;28mself\u001b[39m, change: Bunch) \u001b[38;5;241m-\u001b[39m\u001b[38;5;241m>\u001b[39m \u001b[38;5;28;01mNone\u001b[39;00m:\n\u001b[0;32m   1524\u001b[0m \u001b[38;5;250m    \u001b[39m\u001b[38;5;124;03m\"\"\"Notify observers of a change event\"\"\"\u001b[39;00m\n\u001b[1;32m-> 1525\u001b[0m     \u001b[38;5;28;01mreturn\u001b[39;00m \u001b[38;5;28;43mself\u001b[39;49m\u001b[38;5;241;43m.\u001b[39;49m\u001b[43m_notify_observers\u001b[49m\u001b[43m(\u001b[49m\u001b[43mchange\u001b[49m\u001b[43m)\u001b[49m\n",
      "File \u001b[1;32m~\\AppData\\Roaming\\Python\\Python312\\site-packages\\traitlets\\traitlets.py:1568\u001b[0m, in \u001b[0;36mHasTraits._notify_observers\u001b[1;34m(self, event)\u001b[0m\n\u001b[0;32m   1565\u001b[0m \u001b[38;5;28;01melif\u001b[39;00m \u001b[38;5;28misinstance\u001b[39m(c, EventHandler) \u001b[38;5;129;01mand\u001b[39;00m c\u001b[38;5;241m.\u001b[39mname \u001b[38;5;129;01mis\u001b[39;00m \u001b[38;5;129;01mnot\u001b[39;00m \u001b[38;5;28;01mNone\u001b[39;00m:\n\u001b[0;32m   1566\u001b[0m     c \u001b[38;5;241m=\u001b[39m \u001b[38;5;28mgetattr\u001b[39m(\u001b[38;5;28mself\u001b[39m, c\u001b[38;5;241m.\u001b[39mname)\n\u001b[1;32m-> 1568\u001b[0m \u001b[43mc\u001b[49m\u001b[43m(\u001b[49m\u001b[43mevent\u001b[49m\u001b[43m)\u001b[49m\n",
      "File \u001b[1;32mc:\\Users\\jakeq\\AppData\\Local\\Programs\\Python\\Python312\\Lib\\site-packages\\ipywidgets\\widgets\\widget_selection.py:215\u001b[0m, in \u001b[0;36m_Selection._propagate_options\u001b[1;34m(self, change)\u001b[0m\n\u001b[0;32m    210\u001b[0m \u001b[38;5;28;01mif\u001b[39;00m \u001b[38;5;28mlen\u001b[39m(options) \u001b[38;5;241m>\u001b[39m \u001b[38;5;241m0\u001b[39m:\n\u001b[0;32m    211\u001b[0m     \u001b[38;5;28;01mif\u001b[39;00m \u001b[38;5;28mself\u001b[39m\u001b[38;5;241m.\u001b[39mindex \u001b[38;5;241m==\u001b[39m \u001b[38;5;241m0\u001b[39m:\n\u001b[0;32m    212\u001b[0m         \u001b[38;5;66;03m# Explicitly trigger the observers to pick up the new value and\u001b[39;00m\n\u001b[0;32m    213\u001b[0m         \u001b[38;5;66;03m# label. Just setting the value would not trigger the observers\u001b[39;00m\n\u001b[0;32m    214\u001b[0m         \u001b[38;5;66;03m# since traitlets thinks the value hasn't changed.\u001b[39;00m\n\u001b[1;32m--> 215\u001b[0m         \u001b[38;5;28;43mself\u001b[39;49m\u001b[38;5;241;43m.\u001b[39;49m\u001b[43m_notify_trait\u001b[49m\u001b[43m(\u001b[49m\u001b[38;5;124;43m'\u001b[39;49m\u001b[38;5;124;43mindex\u001b[39;49m\u001b[38;5;124;43m'\u001b[39;49m\u001b[43m,\u001b[49m\u001b[43m \u001b[49m\u001b[38;5;241;43m0\u001b[39;49m\u001b[43m,\u001b[49m\u001b[43m \u001b[49m\u001b[38;5;241;43m0\u001b[39;49m\u001b[43m)\u001b[49m\n\u001b[0;32m    216\u001b[0m     \u001b[38;5;28;01melse\u001b[39;00m:\n\u001b[0;32m    217\u001b[0m         \u001b[38;5;28mself\u001b[39m\u001b[38;5;241m.\u001b[39mindex \u001b[38;5;241m=\u001b[39m \u001b[38;5;241m0\u001b[39m\n",
      "File \u001b[1;32m~\\AppData\\Roaming\\Python\\Python312\\site-packages\\traitlets\\traitlets.py:1513\u001b[0m, in \u001b[0;36mHasTraits._notify_trait\u001b[1;34m(self, name, old_value, new_value)\u001b[0m\n\u001b[0;32m   1512\u001b[0m \u001b[38;5;28;01mdef\u001b[39;00m \u001b[38;5;21m_notify_trait\u001b[39m(\u001b[38;5;28mself\u001b[39m, name: \u001b[38;5;28mstr\u001b[39m, old_value: t\u001b[38;5;241m.\u001b[39mAny, new_value: t\u001b[38;5;241m.\u001b[39mAny) \u001b[38;5;241m-\u001b[39m\u001b[38;5;241m>\u001b[39m \u001b[38;5;28;01mNone\u001b[39;00m:\n\u001b[1;32m-> 1513\u001b[0m     \u001b[38;5;28;43mself\u001b[39;49m\u001b[38;5;241;43m.\u001b[39;49m\u001b[43mnotify_change\u001b[49m\u001b[43m(\u001b[49m\n\u001b[0;32m   1514\u001b[0m \u001b[43m        \u001b[49m\u001b[43mBunch\u001b[49m\u001b[43m(\u001b[49m\n\u001b[0;32m   1515\u001b[0m \u001b[43m            \u001b[49m\u001b[43mname\u001b[49m\u001b[38;5;241;43m=\u001b[39;49m\u001b[43mname\u001b[49m\u001b[43m,\u001b[49m\n\u001b[0;32m   1516\u001b[0m \u001b[43m            \u001b[49m\u001b[43mold\u001b[49m\u001b[38;5;241;43m=\u001b[39;49m\u001b[43mold_value\u001b[49m\u001b[43m,\u001b[49m\n\u001b[0;32m   1517\u001b[0m \u001b[43m            \u001b[49m\u001b[43mnew\u001b[49m\u001b[38;5;241;43m=\u001b[39;49m\u001b[43mnew_value\u001b[49m\u001b[43m,\u001b[49m\n\u001b[0;32m   1518\u001b[0m \u001b[43m            \u001b[49m\u001b[43mowner\u001b[49m\u001b[38;5;241;43m=\u001b[39;49m\u001b[38;5;28;43mself\u001b[39;49m\u001b[43m,\u001b[49m\n\u001b[0;32m   1519\u001b[0m \u001b[43m            \u001b[49m\u001b[38;5;28;43mtype\u001b[39;49m\u001b[38;5;241;43m=\u001b[39;49m\u001b[38;5;124;43m\"\u001b[39;49m\u001b[38;5;124;43mchange\u001b[39;49m\u001b[38;5;124;43m\"\u001b[39;49m\u001b[43m,\u001b[49m\n\u001b[0;32m   1520\u001b[0m \u001b[43m        \u001b[49m\u001b[43m)\u001b[49m\n\u001b[0;32m   1521\u001b[0m \u001b[43m    \u001b[49m\u001b[43m)\u001b[49m\n",
      "File \u001b[1;32mc:\\Users\\jakeq\\AppData\\Local\\Programs\\Python\\Python312\\Lib\\site-packages\\ipywidgets\\widgets\\widget.py:701\u001b[0m, in \u001b[0;36mWidget.notify_change\u001b[1;34m(self, change)\u001b[0m\n\u001b[0;32m    698\u001b[0m     \u001b[38;5;28;01mif\u001b[39;00m name \u001b[38;5;129;01min\u001b[39;00m \u001b[38;5;28mself\u001b[39m\u001b[38;5;241m.\u001b[39mkeys \u001b[38;5;129;01mand\u001b[39;00m \u001b[38;5;28mself\u001b[39m\u001b[38;5;241m.\u001b[39m_should_send_property(name, \u001b[38;5;28mgetattr\u001b[39m(\u001b[38;5;28mself\u001b[39m, name)):\n\u001b[0;32m    699\u001b[0m         \u001b[38;5;66;03m# Send new state to front-end\u001b[39;00m\n\u001b[0;32m    700\u001b[0m         \u001b[38;5;28mself\u001b[39m\u001b[38;5;241m.\u001b[39msend_state(key\u001b[38;5;241m=\u001b[39mname)\n\u001b[1;32m--> 701\u001b[0m \u001b[38;5;28;43msuper\u001b[39;49m\u001b[43m(\u001b[49m\u001b[43m)\u001b[49m\u001b[38;5;241;43m.\u001b[39;49m\u001b[43mnotify_change\u001b[49m\u001b[43m(\u001b[49m\u001b[43mchange\u001b[49m\u001b[43m)\u001b[49m\n",
      "File \u001b[1;32m~\\AppData\\Roaming\\Python\\Python312\\site-packages\\traitlets\\traitlets.py:1525\u001b[0m, in \u001b[0;36mHasTraits.notify_change\u001b[1;34m(self, change)\u001b[0m\n\u001b[0;32m   1523\u001b[0m \u001b[38;5;28;01mdef\u001b[39;00m \u001b[38;5;21mnotify_change\u001b[39m(\u001b[38;5;28mself\u001b[39m, change: Bunch) \u001b[38;5;241m-\u001b[39m\u001b[38;5;241m>\u001b[39m \u001b[38;5;28;01mNone\u001b[39;00m:\n\u001b[0;32m   1524\u001b[0m \u001b[38;5;250m    \u001b[39m\u001b[38;5;124;03m\"\"\"Notify observers of a change event\"\"\"\u001b[39;00m\n\u001b[1;32m-> 1525\u001b[0m     \u001b[38;5;28;01mreturn\u001b[39;00m \u001b[38;5;28;43mself\u001b[39;49m\u001b[38;5;241;43m.\u001b[39;49m\u001b[43m_notify_observers\u001b[49m\u001b[43m(\u001b[49m\u001b[43mchange\u001b[49m\u001b[43m)\u001b[49m\n",
      "File \u001b[1;32m~\\AppData\\Roaming\\Python\\Python312\\site-packages\\traitlets\\traitlets.py:1568\u001b[0m, in \u001b[0;36mHasTraits._notify_observers\u001b[1;34m(self, event)\u001b[0m\n\u001b[0;32m   1565\u001b[0m \u001b[38;5;28;01melif\u001b[39;00m \u001b[38;5;28misinstance\u001b[39m(c, EventHandler) \u001b[38;5;129;01mand\u001b[39;00m c\u001b[38;5;241m.\u001b[39mname \u001b[38;5;129;01mis\u001b[39;00m \u001b[38;5;129;01mnot\u001b[39;00m \u001b[38;5;28;01mNone\u001b[39;00m:\n\u001b[0;32m   1566\u001b[0m     c \u001b[38;5;241m=\u001b[39m \u001b[38;5;28mgetattr\u001b[39m(\u001b[38;5;28mself\u001b[39m, c\u001b[38;5;241m.\u001b[39mname)\n\u001b[1;32m-> 1568\u001b[0m \u001b[43mc\u001b[49m\u001b[43m(\u001b[49m\u001b[43mevent\u001b[49m\u001b[43m)\u001b[49m\n",
      "File \u001b[1;32mc:\\Users\\jakeq\\AppData\\Local\\Programs\\Python\\Python312\\Lib\\site-packages\\ipywidgets\\widgets\\widget_selection.py:236\u001b[0m, in \u001b[0;36m_Selection._propagate_index\u001b[1;34m(self, change)\u001b[0m\n\u001b[0;32m    234\u001b[0m     \u001b[38;5;28mself\u001b[39m\u001b[38;5;241m.\u001b[39mlabel \u001b[38;5;241m=\u001b[39m label\n\u001b[0;32m    235\u001b[0m \u001b[38;5;28;01mif\u001b[39;00m \u001b[38;5;28mself\u001b[39m\u001b[38;5;241m.\u001b[39mvalue \u001b[38;5;129;01mis\u001b[39;00m \u001b[38;5;129;01mnot\u001b[39;00m value:\n\u001b[1;32m--> 236\u001b[0m     \u001b[38;5;28;43mself\u001b[39;49m\u001b[38;5;241;43m.\u001b[39;49m\u001b[43mvalue\u001b[49m \u001b[38;5;241m=\u001b[39m value\n",
      "File \u001b[1;32m~\\AppData\\Roaming\\Python\\Python312\\site-packages\\traitlets\\traitlets.py:716\u001b[0m, in \u001b[0;36mTraitType.__set__\u001b[1;34m(self, obj, value)\u001b[0m\n\u001b[0;32m    714\u001b[0m \u001b[38;5;28;01mif\u001b[39;00m \u001b[38;5;28mself\u001b[39m\u001b[38;5;241m.\u001b[39mread_only:\n\u001b[0;32m    715\u001b[0m     \u001b[38;5;28;01mraise\u001b[39;00m TraitError(\u001b[38;5;124m'\u001b[39m\u001b[38;5;124mThe \u001b[39m\u001b[38;5;124m\"\u001b[39m\u001b[38;5;132;01m%s\u001b[39;00m\u001b[38;5;124m\"\u001b[39m\u001b[38;5;124m trait is read-only.\u001b[39m\u001b[38;5;124m'\u001b[39m \u001b[38;5;241m%\u001b[39m \u001b[38;5;28mself\u001b[39m\u001b[38;5;241m.\u001b[39mname)\n\u001b[1;32m--> 716\u001b[0m \u001b[38;5;28;43mself\u001b[39;49m\u001b[38;5;241;43m.\u001b[39;49m\u001b[43mset\u001b[49m\u001b[43m(\u001b[49m\u001b[43mobj\u001b[49m\u001b[43m,\u001b[49m\u001b[43m \u001b[49m\u001b[43mvalue\u001b[49m\u001b[43m)\u001b[49m\n",
      "File \u001b[1;32m~\\AppData\\Roaming\\Python\\Python312\\site-packages\\traitlets\\traitlets.py:690\u001b[0m, in \u001b[0;36mTraitType.set\u001b[1;34m(self, obj, value)\u001b[0m\n\u001b[0;32m    689\u001b[0m \u001b[38;5;28;01mdef\u001b[39;00m \u001b[38;5;21mset\u001b[39m(\u001b[38;5;28mself\u001b[39m, obj: HasTraits, value: S) \u001b[38;5;241m-\u001b[39m\u001b[38;5;241m>\u001b[39m \u001b[38;5;28;01mNone\u001b[39;00m:\n\u001b[1;32m--> 690\u001b[0m     new_value \u001b[38;5;241m=\u001b[39m \u001b[38;5;28;43mself\u001b[39;49m\u001b[38;5;241;43m.\u001b[39;49m\u001b[43m_validate\u001b[49m\u001b[43m(\u001b[49m\u001b[43mobj\u001b[49m\u001b[43m,\u001b[49m\u001b[43m \u001b[49m\u001b[43mvalue\u001b[49m\u001b[43m)\u001b[49m\n\u001b[0;32m    691\u001b[0m     \u001b[38;5;28;01massert\u001b[39;00m \u001b[38;5;28mself\u001b[39m\u001b[38;5;241m.\u001b[39mname \u001b[38;5;129;01mis\u001b[39;00m \u001b[38;5;129;01mnot\u001b[39;00m \u001b[38;5;28;01mNone\u001b[39;00m\n\u001b[0;32m    692\u001b[0m     \u001b[38;5;28;01mtry\u001b[39;00m:\n",
      "File \u001b[1;32m~\\AppData\\Roaming\\Python\\Python312\\site-packages\\traitlets\\traitlets.py:724\u001b[0m, in \u001b[0;36mTraitType._validate\u001b[1;34m(self, obj, value)\u001b[0m\n\u001b[0;32m    722\u001b[0m     value \u001b[38;5;241m=\u001b[39m \u001b[38;5;28mself\u001b[39m\u001b[38;5;241m.\u001b[39mvalidate(obj, value)\n\u001b[0;32m    723\u001b[0m \u001b[38;5;28;01mif\u001b[39;00m obj\u001b[38;5;241m.\u001b[39m_cross_validation_lock \u001b[38;5;129;01mis\u001b[39;00m \u001b[38;5;28;01mFalse\u001b[39;00m:\n\u001b[1;32m--> 724\u001b[0m     value \u001b[38;5;241m=\u001b[39m \u001b[38;5;28;43mself\u001b[39;49m\u001b[38;5;241;43m.\u001b[39;49m\u001b[43m_cross_validate\u001b[49m\u001b[43m(\u001b[49m\u001b[43mobj\u001b[49m\u001b[43m,\u001b[49m\u001b[43m \u001b[49m\u001b[43mvalue\u001b[49m\u001b[43m)\u001b[49m\n\u001b[0;32m    725\u001b[0m \u001b[38;5;28;01mreturn\u001b[39;00m t\u001b[38;5;241m.\u001b[39mcast(G, value)\n",
      "File \u001b[1;32m~\\AppData\\Roaming\\Python\\Python312\\site-packages\\traitlets\\traitlets.py:730\u001b[0m, in \u001b[0;36mTraitType._cross_validate\u001b[1;34m(self, obj, value)\u001b[0m\n\u001b[0;32m    728\u001b[0m \u001b[38;5;28;01mif\u001b[39;00m \u001b[38;5;28mself\u001b[39m\u001b[38;5;241m.\u001b[39mname \u001b[38;5;129;01min\u001b[39;00m obj\u001b[38;5;241m.\u001b[39m_trait_validators:\n\u001b[0;32m    729\u001b[0m     proposal \u001b[38;5;241m=\u001b[39m Bunch({\u001b[38;5;124m\"\u001b[39m\u001b[38;5;124mtrait\u001b[39m\u001b[38;5;124m\"\u001b[39m: \u001b[38;5;28mself\u001b[39m, \u001b[38;5;124m\"\u001b[39m\u001b[38;5;124mvalue\u001b[39m\u001b[38;5;124m\"\u001b[39m: value, \u001b[38;5;124m\"\u001b[39m\u001b[38;5;124mowner\u001b[39m\u001b[38;5;124m\"\u001b[39m: obj})\n\u001b[1;32m--> 730\u001b[0m     value \u001b[38;5;241m=\u001b[39m \u001b[43mobj\u001b[49m\u001b[38;5;241;43m.\u001b[39;49m\u001b[43m_trait_validators\u001b[49m\u001b[43m[\u001b[49m\u001b[38;5;28;43mself\u001b[39;49m\u001b[38;5;241;43m.\u001b[39;49m\u001b[43mname\u001b[49m\u001b[43m]\u001b[49m\u001b[43m(\u001b[49m\u001b[43mobj\u001b[49m\u001b[43m,\u001b[49m\u001b[43m \u001b[49m\u001b[43mproposal\u001b[49m\u001b[43m)\u001b[49m\n\u001b[0;32m    731\u001b[0m \u001b[38;5;28;01melif\u001b[39;00m \u001b[38;5;28mhasattr\u001b[39m(obj, \u001b[38;5;124m\"\u001b[39m\u001b[38;5;124m_\u001b[39m\u001b[38;5;132;01m%s\u001b[39;00m\u001b[38;5;124m_validate\u001b[39m\u001b[38;5;124m\"\u001b[39m \u001b[38;5;241m%\u001b[39m \u001b[38;5;28mself\u001b[39m\u001b[38;5;241m.\u001b[39mname):\n\u001b[0;32m    732\u001b[0m     meth_name \u001b[38;5;241m=\u001b[39m \u001b[38;5;124m\"\u001b[39m\u001b[38;5;124m_\u001b[39m\u001b[38;5;132;01m%s\u001b[39;00m\u001b[38;5;124m_validate\u001b[39m\u001b[38;5;124m\"\u001b[39m \u001b[38;5;241m%\u001b[39m \u001b[38;5;28mself\u001b[39m\u001b[38;5;241m.\u001b[39mname\n",
      "File \u001b[1;32m~\\AppData\\Roaming\\Python\\Python312\\site-packages\\traitlets\\traitlets.py:1241\u001b[0m, in \u001b[0;36mEventHandler.__call__\u001b[1;34m(self, *args, **kwargs)\u001b[0m\n\u001b[0;32m   1239\u001b[0m \u001b[38;5;250m\u001b[39m\u001b[38;5;124;03m\"\"\"Pass `*args` and `**kwargs` to the handler's function if it exists.\"\"\"\u001b[39;00m\n\u001b[0;32m   1240\u001b[0m \u001b[38;5;28;01mif\u001b[39;00m \u001b[38;5;28mhasattr\u001b[39m(\u001b[38;5;28mself\u001b[39m, \u001b[38;5;124m\"\u001b[39m\u001b[38;5;124mfunc\u001b[39m\u001b[38;5;124m\"\u001b[39m):\n\u001b[1;32m-> 1241\u001b[0m     \u001b[38;5;28;01mreturn\u001b[39;00m \u001b[38;5;28;43mself\u001b[39;49m\u001b[38;5;241;43m.\u001b[39;49m\u001b[43mfunc\u001b[49m\u001b[43m(\u001b[49m\u001b[38;5;241;43m*\u001b[39;49m\u001b[43margs\u001b[49m\u001b[43m,\u001b[49m\u001b[43m \u001b[49m\u001b[38;5;241;43m*\u001b[39;49m\u001b[38;5;241;43m*\u001b[39;49m\u001b[43mkwargs\u001b[49m\u001b[43m)\u001b[49m\n\u001b[0;32m   1242\u001b[0m \u001b[38;5;28;01melse\u001b[39;00m:\n\u001b[0;32m   1243\u001b[0m     \u001b[38;5;28;01mreturn\u001b[39;00m \u001b[38;5;28mself\u001b[39m\u001b[38;5;241m.\u001b[39m_init_call(\u001b[38;5;241m*\u001b[39margs, \u001b[38;5;241m*\u001b[39m\u001b[38;5;241m*\u001b[39mkwargs)\n",
      "File \u001b[1;32mc:\\Users\\jakeq\\AppData\\Local\\Programs\\Python\\Python312\\Lib\\site-packages\\ipywidgets\\widgets\\widget_selection.py:244\u001b[0m, in \u001b[0;36m_Selection._validate_value\u001b[1;34m(self, proposal)\u001b[0m\n\u001b[0;32m    242\u001b[0m     \u001b[38;5;28;01mreturn\u001b[39;00m findvalue(\u001b[38;5;28mself\u001b[39m\u001b[38;5;241m.\u001b[39m_options_values, value, \u001b[38;5;28mself\u001b[39m\u001b[38;5;241m.\u001b[39mequals) \u001b[38;5;28;01mif\u001b[39;00m value \u001b[38;5;129;01mis\u001b[39;00m \u001b[38;5;129;01mnot\u001b[39;00m \u001b[38;5;28;01mNone\u001b[39;00m \u001b[38;5;28;01melse\u001b[39;00m \u001b[38;5;28;01mNone\u001b[39;00m\n\u001b[0;32m    243\u001b[0m \u001b[38;5;28;01mexcept\u001b[39;00m \u001b[38;5;167;01mValueError\u001b[39;00m:\n\u001b[1;32m--> 244\u001b[0m     \u001b[38;5;28;01mraise\u001b[39;00m TraitError(\u001b[38;5;124m'\u001b[39m\u001b[38;5;124mInvalid selection: value not found\u001b[39m\u001b[38;5;124m'\u001b[39m)\n",
      "\u001b[1;31mTraitError\u001b[0m: Invalid selection: value not found"
     ]
    },
    {
     "data": {
      "application/vnd.plotly.v1+json": {
       "config": {
        "plotlyServerURL": "https://plot.ly"
       },
       "data": [
        {
         "hovertemplate": "odometer=%{x}<br>price=%{y}<extra></extra>",
         "legendgroup": "",
         "marker": {
          "color": "#636efa",
          "symbol": "circle"
         },
         "mode": "markers",
         "name": "",
         "orientation": "v",
         "showlegend": false,
         "type": "scatter",
         "x": [
          188000,
          86100,
          86100,
          250000,
          175595,
          188000,
          188000,
          188000,
          188000,
          188000,
          188000,
          188000,
          188000,
          280000
         ],
         "xaxis": "x",
         "y": [
          9500,
          17000,
          16500,
          12500,
          15700,
          9500,
          9500,
          9500,
          9500,
          9500,
          9500,
          9500,
          9500,
          11500
         ],
         "yaxis": "y"
        },
        {
         "hovertemplate": "<b>OLS trendline</b><br>price = -0.032479 * odometer + 17297.5<br>R<sup>2</sup>=0.317419<br><br>odometer=%{x}<br>price=%{y} <b>(trend)</b><extra></extra>",
         "legendgroup": "",
         "marker": {
          "color": "#636efa",
          "symbol": "circle"
         },
         "mode": "lines",
         "name": "",
         "showlegend": false,
         "type": "scatter",
         "x": [
          86100,
          86100,
          175595,
          188000,
          188000,
          188000,
          188000,
          188000,
          188000,
          188000,
          188000,
          188000,
          250000,
          280000
         ],
         "xaxis": "x",
         "y": [
          14501.010859214366,
          14501.010859214366,
          11594.304930333468,
          11191.403236967722,
          11191.403236967722,
          11191.403236967722,
          11191.403236967722,
          11191.403236967722,
          11191.403236967722,
          11191.403236967722,
          11191.403236967722,
          11191.403236967722,
          9177.706744531097,
          8203.337473997248
         ],
         "yaxis": "y"
        },
        {
         "mode": "text",
         "showlegend": false,
         "text": [
          "R<sup>2</sup>: 0.32<br>Observations: 14"
         ],
         "type": "scatter",
         "x": [
          280000
         ],
         "y": [
          9500
         ]
        }
       ],
       "layout": {
        "legend": {
         "tracegroupgap": 0
        },
        "margin": {
         "b": 0,
         "l": 0,
         "r": 0,
         "t": 30
        },
        "paper_bgcolor": "white",
        "plot_bgcolor": "white",
        "showlegend": false,
        "template": {
         "data": {
          "bar": [
           {
            "error_x": {
             "color": "#2a3f5f"
            },
            "error_y": {
             "color": "#2a3f5f"
            },
            "marker": {
             "line": {
              "color": "#E5ECF6",
              "width": 0.5
             },
             "pattern": {
              "fillmode": "overlay",
              "size": 10,
              "solidity": 0.2
             }
            },
            "type": "bar"
           }
          ],
          "barpolar": [
           {
            "marker": {
             "line": {
              "color": "#E5ECF6",
              "width": 0.5
             },
             "pattern": {
              "fillmode": "overlay",
              "size": 10,
              "solidity": 0.2
             }
            },
            "type": "barpolar"
           }
          ],
          "carpet": [
           {
            "aaxis": {
             "endlinecolor": "#2a3f5f",
             "gridcolor": "white",
             "linecolor": "white",
             "minorgridcolor": "white",
             "startlinecolor": "#2a3f5f"
            },
            "baxis": {
             "endlinecolor": "#2a3f5f",
             "gridcolor": "white",
             "linecolor": "white",
             "minorgridcolor": "white",
             "startlinecolor": "#2a3f5f"
            },
            "type": "carpet"
           }
          ],
          "choropleth": [
           {
            "colorbar": {
             "outlinewidth": 0,
             "ticks": ""
            },
            "type": "choropleth"
           }
          ],
          "contour": [
           {
            "colorbar": {
             "outlinewidth": 0,
             "ticks": ""
            },
            "colorscale": [
             [
              0,
              "#0d0887"
             ],
             [
              0.1111111111111111,
              "#46039f"
             ],
             [
              0.2222222222222222,
              "#7201a8"
             ],
             [
              0.3333333333333333,
              "#9c179e"
             ],
             [
              0.4444444444444444,
              "#bd3786"
             ],
             [
              0.5555555555555556,
              "#d8576b"
             ],
             [
              0.6666666666666666,
              "#ed7953"
             ],
             [
              0.7777777777777778,
              "#fb9f3a"
             ],
             [
              0.8888888888888888,
              "#fdca26"
             ],
             [
              1,
              "#f0f921"
             ]
            ],
            "type": "contour"
           }
          ],
          "contourcarpet": [
           {
            "colorbar": {
             "outlinewidth": 0,
             "ticks": ""
            },
            "type": "contourcarpet"
           }
          ],
          "heatmap": [
           {
            "colorbar": {
             "outlinewidth": 0,
             "ticks": ""
            },
            "colorscale": [
             [
              0,
              "#0d0887"
             ],
             [
              0.1111111111111111,
              "#46039f"
             ],
             [
              0.2222222222222222,
              "#7201a8"
             ],
             [
              0.3333333333333333,
              "#9c179e"
             ],
             [
              0.4444444444444444,
              "#bd3786"
             ],
             [
              0.5555555555555556,
              "#d8576b"
             ],
             [
              0.6666666666666666,
              "#ed7953"
             ],
             [
              0.7777777777777778,
              "#fb9f3a"
             ],
             [
              0.8888888888888888,
              "#fdca26"
             ],
             [
              1,
              "#f0f921"
             ]
            ],
            "type": "heatmap"
           }
          ],
          "heatmapgl": [
           {
            "colorbar": {
             "outlinewidth": 0,
             "ticks": ""
            },
            "colorscale": [
             [
              0,
              "#0d0887"
             ],
             [
              0.1111111111111111,
              "#46039f"
             ],
             [
              0.2222222222222222,
              "#7201a8"
             ],
             [
              0.3333333333333333,
              "#9c179e"
             ],
             [
              0.4444444444444444,
              "#bd3786"
             ],
             [
              0.5555555555555556,
              "#d8576b"
             ],
             [
              0.6666666666666666,
              "#ed7953"
             ],
             [
              0.7777777777777778,
              "#fb9f3a"
             ],
             [
              0.8888888888888888,
              "#fdca26"
             ],
             [
              1,
              "#f0f921"
             ]
            ],
            "type": "heatmapgl"
           }
          ],
          "histogram": [
           {
            "marker": {
             "pattern": {
              "fillmode": "overlay",
              "size": 10,
              "solidity": 0.2
             }
            },
            "type": "histogram"
           }
          ],
          "histogram2d": [
           {
            "colorbar": {
             "outlinewidth": 0,
             "ticks": ""
            },
            "colorscale": [
             [
              0,
              "#0d0887"
             ],
             [
              0.1111111111111111,
              "#46039f"
             ],
             [
              0.2222222222222222,
              "#7201a8"
             ],
             [
              0.3333333333333333,
              "#9c179e"
             ],
             [
              0.4444444444444444,
              "#bd3786"
             ],
             [
              0.5555555555555556,
              "#d8576b"
             ],
             [
              0.6666666666666666,
              "#ed7953"
             ],
             [
              0.7777777777777778,
              "#fb9f3a"
             ],
             [
              0.8888888888888888,
              "#fdca26"
             ],
             [
              1,
              "#f0f921"
             ]
            ],
            "type": "histogram2d"
           }
          ],
          "histogram2dcontour": [
           {
            "colorbar": {
             "outlinewidth": 0,
             "ticks": ""
            },
            "colorscale": [
             [
              0,
              "#0d0887"
             ],
             [
              0.1111111111111111,
              "#46039f"
             ],
             [
              0.2222222222222222,
              "#7201a8"
             ],
             [
              0.3333333333333333,
              "#9c179e"
             ],
             [
              0.4444444444444444,
              "#bd3786"
             ],
             [
              0.5555555555555556,
              "#d8576b"
             ],
             [
              0.6666666666666666,
              "#ed7953"
             ],
             [
              0.7777777777777778,
              "#fb9f3a"
             ],
             [
              0.8888888888888888,
              "#fdca26"
             ],
             [
              1,
              "#f0f921"
             ]
            ],
            "type": "histogram2dcontour"
           }
          ],
          "mesh3d": [
           {
            "colorbar": {
             "outlinewidth": 0,
             "ticks": ""
            },
            "type": "mesh3d"
           }
          ],
          "parcoords": [
           {
            "line": {
             "colorbar": {
              "outlinewidth": 0,
              "ticks": ""
             }
            },
            "type": "parcoords"
           }
          ],
          "pie": [
           {
            "automargin": true,
            "type": "pie"
           }
          ],
          "scatter": [
           {
            "fillpattern": {
             "fillmode": "overlay",
             "size": 10,
             "solidity": 0.2
            },
            "type": "scatter"
           }
          ],
          "scatter3d": [
           {
            "line": {
             "colorbar": {
              "outlinewidth": 0,
              "ticks": ""
             }
            },
            "marker": {
             "colorbar": {
              "outlinewidth": 0,
              "ticks": ""
             }
            },
            "type": "scatter3d"
           }
          ],
          "scattercarpet": [
           {
            "marker": {
             "colorbar": {
              "outlinewidth": 0,
              "ticks": ""
             }
            },
            "type": "scattercarpet"
           }
          ],
          "scattergeo": [
           {
            "marker": {
             "colorbar": {
              "outlinewidth": 0,
              "ticks": ""
             }
            },
            "type": "scattergeo"
           }
          ],
          "scattergl": [
           {
            "marker": {
             "colorbar": {
              "outlinewidth": 0,
              "ticks": ""
             }
            },
            "type": "scattergl"
           }
          ],
          "scattermapbox": [
           {
            "marker": {
             "colorbar": {
              "outlinewidth": 0,
              "ticks": ""
             }
            },
            "type": "scattermapbox"
           }
          ],
          "scatterpolar": [
           {
            "marker": {
             "colorbar": {
              "outlinewidth": 0,
              "ticks": ""
             }
            },
            "type": "scatterpolar"
           }
          ],
          "scatterpolargl": [
           {
            "marker": {
             "colorbar": {
              "outlinewidth": 0,
              "ticks": ""
             }
            },
            "type": "scatterpolargl"
           }
          ],
          "scatterternary": [
           {
            "marker": {
             "colorbar": {
              "outlinewidth": 0,
              "ticks": ""
             }
            },
            "type": "scatterternary"
           }
          ],
          "surface": [
           {
            "colorbar": {
             "outlinewidth": 0,
             "ticks": ""
            },
            "colorscale": [
             [
              0,
              "#0d0887"
             ],
             [
              0.1111111111111111,
              "#46039f"
             ],
             [
              0.2222222222222222,
              "#7201a8"
             ],
             [
              0.3333333333333333,
              "#9c179e"
             ],
             [
              0.4444444444444444,
              "#bd3786"
             ],
             [
              0.5555555555555556,
              "#d8576b"
             ],
             [
              0.6666666666666666,
              "#ed7953"
             ],
             [
              0.7777777777777778,
              "#fb9f3a"
             ],
             [
              0.8888888888888888,
              "#fdca26"
             ],
             [
              1,
              "#f0f921"
             ]
            ],
            "type": "surface"
           }
          ],
          "table": [
           {
            "cells": {
             "fill": {
              "color": "#EBF0F8"
             },
             "line": {
              "color": "white"
             }
            },
            "header": {
             "fill": {
              "color": "#C8D4E3"
             },
             "line": {
              "color": "white"
             }
            },
            "type": "table"
           }
          ]
         },
         "layout": {
          "annotationdefaults": {
           "arrowcolor": "#2a3f5f",
           "arrowhead": 0,
           "arrowwidth": 1
          },
          "autotypenumbers": "strict",
          "coloraxis": {
           "colorbar": {
            "outlinewidth": 0,
            "ticks": ""
           }
          },
          "colorscale": {
           "diverging": [
            [
             0,
             "#8e0152"
            ],
            [
             0.1,
             "#c51b7d"
            ],
            [
             0.2,
             "#de77ae"
            ],
            [
             0.3,
             "#f1b6da"
            ],
            [
             0.4,
             "#fde0ef"
            ],
            [
             0.5,
             "#f7f7f7"
            ],
            [
             0.6,
             "#e6f5d0"
            ],
            [
             0.7,
             "#b8e186"
            ],
            [
             0.8,
             "#7fbc41"
            ],
            [
             0.9,
             "#4d9221"
            ],
            [
             1,
             "#276419"
            ]
           ],
           "sequential": [
            [
             0,
             "#0d0887"
            ],
            [
             0.1111111111111111,
             "#46039f"
            ],
            [
             0.2222222222222222,
             "#7201a8"
            ],
            [
             0.3333333333333333,
             "#9c179e"
            ],
            [
             0.4444444444444444,
             "#bd3786"
            ],
            [
             0.5555555555555556,
             "#d8576b"
            ],
            [
             0.6666666666666666,
             "#ed7953"
            ],
            [
             0.7777777777777778,
             "#fb9f3a"
            ],
            [
             0.8888888888888888,
             "#fdca26"
            ],
            [
             1,
             "#f0f921"
            ]
           ],
           "sequentialminus": [
            [
             0,
             "#0d0887"
            ],
            [
             0.1111111111111111,
             "#46039f"
            ],
            [
             0.2222222222222222,
             "#7201a8"
            ],
            [
             0.3333333333333333,
             "#9c179e"
            ],
            [
             0.4444444444444444,
             "#bd3786"
            ],
            [
             0.5555555555555556,
             "#d8576b"
            ],
            [
             0.6666666666666666,
             "#ed7953"
            ],
            [
             0.7777777777777778,
             "#fb9f3a"
            ],
            [
             0.8888888888888888,
             "#fdca26"
            ],
            [
             1,
             "#f0f921"
            ]
           ]
          },
          "colorway": [
           "#636efa",
           "#EF553B",
           "#00cc96",
           "#ab63fa",
           "#FFA15A",
           "#19d3f3",
           "#FF6692",
           "#B6E880",
           "#FF97FF",
           "#FECB52"
          ],
          "font": {
           "color": "#2a3f5f"
          },
          "geo": {
           "bgcolor": "white",
           "lakecolor": "white",
           "landcolor": "#E5ECF6",
           "showlakes": true,
           "showland": true,
           "subunitcolor": "white"
          },
          "hoverlabel": {
           "align": "left"
          },
          "hovermode": "closest",
          "mapbox": {
           "style": "light"
          },
          "paper_bgcolor": "white",
          "plot_bgcolor": "#E5ECF6",
          "polar": {
           "angularaxis": {
            "gridcolor": "white",
            "linecolor": "white",
            "ticks": ""
           },
           "bgcolor": "#E5ECF6",
           "radialaxis": {
            "gridcolor": "white",
            "linecolor": "white",
            "ticks": ""
           }
          },
          "scene": {
           "xaxis": {
            "backgroundcolor": "#E5ECF6",
            "gridcolor": "white",
            "gridwidth": 2,
            "linecolor": "white",
            "showbackground": true,
            "ticks": "",
            "zerolinecolor": "white"
           },
           "yaxis": {
            "backgroundcolor": "#E5ECF6",
            "gridcolor": "white",
            "gridwidth": 2,
            "linecolor": "white",
            "showbackground": true,
            "ticks": "",
            "zerolinecolor": "white"
           },
           "zaxis": {
            "backgroundcolor": "#E5ECF6",
            "gridcolor": "white",
            "gridwidth": 2,
            "linecolor": "white",
            "showbackground": true,
            "ticks": "",
            "zerolinecolor": "white"
           }
          },
          "shapedefaults": {
           "line": {
            "color": "#2a3f5f"
           }
          },
          "ternary": {
           "aaxis": {
            "gridcolor": "white",
            "linecolor": "white",
            "ticks": ""
           },
           "baxis": {
            "gridcolor": "white",
            "linecolor": "white",
            "ticks": ""
           },
           "bgcolor": "#E5ECF6",
           "caxis": {
            "gridcolor": "white",
            "linecolor": "white",
            "ticks": ""
           }
          },
          "title": {
           "x": 0.05
          },
          "xaxis": {
           "automargin": true,
           "gridcolor": "white",
           "linecolor": "white",
           "ticks": "",
           "title": {
            "standoff": 15
           },
           "zerolinecolor": "white",
           "zerolinewidth": 2
          },
          "yaxis": {
           "automargin": true,
           "gridcolor": "white",
           "linecolor": "white",
           "ticks": "",
           "title": {
            "standoff": 15
           },
           "zerolinecolor": "white",
           "zerolinewidth": 2
          }
         }
        },
        "title": {
         "text": "freightliner sprinter 3500 Price vs Mileage",
         "x": 0.01,
         "xanchor": "left"
        },
        "xaxis": {
         "anchor": "y",
         "domain": [
          0,
          1
         ],
         "linecolor": "black",
         "linewidth": 1,
         "mirror": true,
         "showgrid": false,
         "showline": true,
         "title": {
          "text": "Mileage"
         }
        },
        "yaxis": {
         "anchor": "x",
         "domain": [
          0,
          1
         ],
         "linecolor": "black",
         "linewidth": 1,
         "mirror": true,
         "showgrid": false,
         "showline": true,
         "title": {
          "text": "Price"
         }
        }
       }
      }
     },
     "metadata": {},
     "output_type": "display_data"
    }
   ],
   "source": [
    "import pandas as pd\n",
    "import plotly.express as px\n",
    "import plotly.graph_objects as go\n",
    "import numpy as np\n",
    "from scipy.stats import pearsonr\n",
    "from scipy import stats\n",
    "import ipywidgets as widgets\n",
    "from IPython.display import display, HTML\n",
    "\n",
    "# Load the data\n",
    "try:\n",
    "    car = pd.read_excel(r'data\\\\carbitrage-data.xlsx')\n",
    "except Exception as e:\n",
    "    print(f\"Error loading data: {e}\")\n",
    "    raise\n",
    "\n",
    "# Drop rows with missing price or odometer values, as they are essential for the plot\n",
    "car = car.dropna(subset=['price', 'odometer'])\n",
    "\n",
    "# Remove outliers in mileage using the z-score method (statistical practice)\n",
    "car['z_score'] = np.abs(stats.zscore(car['odometer']))\n",
    "car = car[car['z_score'] < 3]  # Keeping only rows where the z-score is less than 3\n",
    "car = car.drop(columns=['z_score'])  # Dropping the z_score column after filtering\n",
    "\n",
    "# Error check: Ensure there are still valid makes and models after filtering\n",
    "if car.empty:\n",
    "    raise ValueError(\"The dataset is empty after filtering. Please check the data.\")\n",
    "\n",
    "# Create a list of unique makes and models\n",
    "makes = car['make'].unique()\n",
    "if len(makes) == 0:\n",
    "    raise ValueError(\"No valid makes available after filtering. Please check the data.\")\n",
    "\n",
    "# Dropdown widgets for user to select make and model\n",
    "make_dropdown = widgets.Dropdown(options=makes, description='Make:', layout=widgets.Layout(width='50%'))\n",
    "model_dropdown = widgets.Dropdown(description='Model:', layout=widgets.Layout(width='50%'))\n",
    "\n",
    "# Update the models based on the selected make\n",
    "def update_models(*args):\n",
    "    selected_make = make_dropdown.value\n",
    "    filtered_models = car[car['make'] == selected_make]['model'].unique()\n",
    "    if len(filtered_models) == 0:\n",
    "        model_dropdown.options = ['No valid models available']\n",
    "    else:\n",
    "        model_dropdown.options = filtered_models\n",
    "\n",
    "make_dropdown.observe(update_models, 'value')\n",
    "\n",
    "# Explanation widget\n",
    "explanation = widgets.HTML(\n",
    "    value=(\n",
    "        \"<h3>Instructions</h3>\"\n",
    "        \"<p>Select a car make and model from the dropdown menus to see a scatter plot of price vs. mileage.</p>\"\n",
    "        \"<p><b>R<sup>2</sup></b>: The coefficient of determination, which indicates the proportion of the variance \"\n",
    "        \"in the dependent variable (price) that is predictable from the independent variable (mileage). \"\n",
    "        \"An R<sup>2</sup> close to 1 indicates a strong linear relationship.</p>\"\n",
    "        \"<p><b>Number of Observations</b>: The total number of data points (cars) considered for the selected make and model.</p>\"\n",
    "    )\n",
    ")\n",
    "\n",
    "# Function to create the scatter plot\n",
    "def plot_graph(make, model):\n",
    "    if not make or not model or (isinstance(model, str) and 'No valid models available' in model):\n",
    "        explanation.value = \"Please select both a make and a model.\"\n",
    "        return  # Return if either make or model is not selected\n",
    "    \n",
    "    # Filter data based on user selection\n",
    "    filtered_data = car[(car['make'] == make) & (car['model'] == model)]\n",
    "    \n",
    "    if filtered_data.empty:\n",
    "        explanation.value = \"No data available for the selected make and model.\"\n",
    "        return\n",
    "    \n",
    "    # Calculate correlation coefficient and number of observations\n",
    "    if len(filtered_data) > 1:\n",
    "        correlation, _ = pearsonr(filtered_data['odometer'], filtered_data['price'])\n",
    "        correlation_text = f\"R<sup>2</sup>: {correlation**2:.2f}\"  # Using R^2\n",
    "    else:\n",
    "        correlation_text = \"R<sup>2</sup>: N/A\"\n",
    "    \n",
    "    observations_text = f\"Observations: {len(filtered_data)}\"\n",
    "    \n",
    "    # Create the scatter plot\n",
    "    fig = px.scatter(\n",
    "        filtered_data,\n",
    "        x='odometer',\n",
    "        y='price',\n",
    "        trendline='ols',\n",
    "        title=f'{make} {model} Price vs Mileage',\n",
    "    )\n",
    "    \n",
    "    # Customize the layout to make it minimalistic\n",
    "    fig.update_layout(\n",
    "        title=dict(text=f'{make} {model} Price vs Mileage', x=0.01, xanchor='left'),\n",
    "        showlegend=False,\n",
    "        margin=dict(l=0, r=0, t=30, b=0),\n",
    "        xaxis_title=\"Mileage\",\n",
    "        yaxis_title=\"Price\",\n",
    "        paper_bgcolor=\"white\",\n",
    "        plot_bgcolor=\"white\",\n",
    "        xaxis=dict(showgrid=False),\n",
    "        yaxis=dict(showgrid=False),\n",
    "    )\n",
    "    \n",
    "    # Remove the top and right spines\n",
    "    fig.update_xaxes(showline=True, linewidth=1, linecolor='black', mirror=True)\n",
    "    fig.update_yaxes(showline=True, linewidth=1, linecolor='black', mirror=True)\n",
    "    \n",
    "    # Add text annotations for R^2 and number of observations\n",
    "    fig.add_trace(go.Scatter(\n",
    "        x=[filtered_data['odometer'].max()],\n",
    "        y=[filtered_data['price'].min()],\n",
    "        text=[f\"{correlation_text}<br>{observations_text}\"],\n",
    "        mode=\"text\",\n",
    "        showlegend=False\n",
    "    ))\n",
    "    \n",
    "    fig.show()\n",
    "\n",
    "# Connect the plot function to widget changes\n",
    "def on_dropdown_change(change):\n",
    "    plot_graph(make_dropdown.value, model_dropdown.value)\n",
    "\n",
    "make_dropdown.observe(on_dropdown_change, names='value')\n",
    "model_dropdown.observe(on_dropdown_change, names='value')\n",
    "\n",
    "# Display the dropdowns and explanation\n",
    "display(HTML(\"<h2>Car Price vs Mileage Analysis</h2>\"))\n",
    "display(explanation)\n",
    "display(make_dropdown, model_dropdown)\n",
    "\n",
    "# Initial plot (if needed)\n",
    "plot_graph(make_dropdown.value, model_dropdown.value)\n"
   ]
  },
  {
   "cell_type": "code",
   "execution_count": null,
   "metadata": {},
   "outputs": [],
   "source": []
  }
 ],
 "metadata": {
  "kernelspec": {
   "display_name": "Python 3",
   "language": "python",
   "name": "python3"
  },
  "language_info": {
   "codemirror_mode": {
    "name": "ipython",
    "version": 3
   },
   "file_extension": ".py",
   "mimetype": "text/x-python",
   "name": "python",
   "nbconvert_exporter": "python",
   "pygments_lexer": "ipython3",
   "version": "3.12.5"
  }
 },
 "nbformat": 4,
 "nbformat_minor": 2
}
